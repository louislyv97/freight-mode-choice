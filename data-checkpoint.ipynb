{
 "cells": [
  {
   "cell_type": "markdown",
   "id": "c1816f16",
   "metadata": {},
   "source": [
    "## US Freight Commodity Flow Survey (CFS) data"
   ]
  },
  {
   "cell_type": "code",
   "execution_count": 107,
   "id": "5487050d",
   "metadata": {
    "scrolled": true
   },
   "outputs": [
    {
     "data": {
      "text/html": [
       "<div>\n",
       "<style scoped>\n",
       "    .dataframe tbody tr th:only-of-type {\n",
       "        vertical-align: middle;\n",
       "    }\n",
       "\n",
       "    .dataframe tbody tr th {\n",
       "        vertical-align: top;\n",
       "    }\n",
       "\n",
       "    .dataframe thead th {\n",
       "        text-align: right;\n",
       "    }\n",
       "</style>\n",
       "<table border=\"1\" class=\"dataframe\">\n",
       "  <thead>\n",
       "    <tr style=\"text-align: right;\">\n",
       "      <th></th>\n",
       "      <th>Unnamed: 0</th>\n",
       "      <th>MODE</th>\n",
       "      <th>sv</th>\n",
       "      <th>sw</th>\n",
       "      <th>gc_dist</th>\n",
       "      <th>r_dist</th>\n",
       "      <th>temp_cntl</th>\n",
       "      <th>export</th>\n",
       "      <th>hazmat</th>\n",
       "      <th>wgt_factor</th>\n",
       "      <th>sctg</th>\n",
       "      <th>naics</th>\n",
       "      <th>orig_state</th>\n",
       "      <th>orig_ma</th>\n",
       "      <th>dest_state</th>\n",
       "      <th>dest_ma</th>\n",
       "      <th>sctg_n</th>\n",
       "    </tr>\n",
       "  </thead>\n",
       "  <tbody>\n",
       "    <tr>\n",
       "      <th>0</th>\n",
       "      <td>0</td>\n",
       "      <td>4</td>\n",
       "      <td>956</td>\n",
       "      <td>14</td>\n",
       "      <td>36</td>\n",
       "      <td>48</td>\n",
       "      <td>0</td>\n",
       "      <td>1</td>\n",
       "      <td>0</td>\n",
       "      <td>128.6</td>\n",
       "      <td>37</td>\n",
       "      <td>4238</td>\n",
       "      <td>12</td>\n",
       "      <td>370</td>\n",
       "      <td>12</td>\n",
       "      <td>370</td>\n",
       "      <td>8</td>\n",
       "    </tr>\n",
       "    <tr>\n",
       "      <th>1</th>\n",
       "      <td>1</td>\n",
       "      <td>3</td>\n",
       "      <td>21</td>\n",
       "      <td>1</td>\n",
       "      <td>34</td>\n",
       "      <td>45</td>\n",
       "      <td>0</td>\n",
       "      <td>0</td>\n",
       "      <td>0</td>\n",
       "      <td>541.8</td>\n",
       "      <td>37</td>\n",
       "      <td>4238</td>\n",
       "      <td>12</td>\n",
       "      <td>370</td>\n",
       "      <td>12</td>\n",
       "      <td>370</td>\n",
       "      <td>8</td>\n",
       "    </tr>\n",
       "    <tr>\n",
       "      <th>2</th>\n",
       "      <td>2</td>\n",
       "      <td>2</td>\n",
       "      <td>3879</td>\n",
       "      <td>18</td>\n",
       "      <td>55</td>\n",
       "      <td>64</td>\n",
       "      <td>0</td>\n",
       "      <td>0</td>\n",
       "      <td>0</td>\n",
       "      <td>977.6</td>\n",
       "      <td>37</td>\n",
       "      <td>336</td>\n",
       "      <td>36</td>\n",
       "      <td>408</td>\n",
       "      <td>9</td>\n",
       "      <td>408</td>\n",
       "      <td>8</td>\n",
       "    </tr>\n",
       "    <tr>\n",
       "      <th>3</th>\n",
       "      <td>3</td>\n",
       "      <td>3</td>\n",
       "      <td>910</td>\n",
       "      <td>6</td>\n",
       "      <td>1294</td>\n",
       "      <td>1462</td>\n",
       "      <td>0</td>\n",
       "      <td>0</td>\n",
       "      <td>0</td>\n",
       "      <td>249.4</td>\n",
       "      <td>37</td>\n",
       "      <td>332</td>\n",
       "      <td>9</td>\n",
       "      <td>408</td>\n",
       "      <td>20</td>\n",
       "      <td>556</td>\n",
       "      <td>8</td>\n",
       "    </tr>\n",
       "    <tr>\n",
       "      <th>4</th>\n",
       "      <td>4</td>\n",
       "      <td>2</td>\n",
       "      <td>16494</td>\n",
       "      <td>743</td>\n",
       "      <td>9</td>\n",
       "      <td>12</td>\n",
       "      <td>0</td>\n",
       "      <td>1</td>\n",
       "      <td>0</td>\n",
       "      <td>1617.3</td>\n",
       "      <td>37</td>\n",
       "      <td>336</td>\n",
       "      <td>6</td>\n",
       "      <td>348</td>\n",
       "      <td>6</td>\n",
       "      <td>348</td>\n",
       "      <td>8</td>\n",
       "    </tr>\n",
       "    <tr>\n",
       "      <th>...</th>\n",
       "      <td>...</td>\n",
       "      <td>...</td>\n",
       "      <td>...</td>\n",
       "      <td>...</td>\n",
       "      <td>...</td>\n",
       "      <td>...</td>\n",
       "      <td>...</td>\n",
       "      <td>...</td>\n",
       "      <td>...</td>\n",
       "      <td>...</td>\n",
       "      <td>...</td>\n",
       "      <td>...</td>\n",
       "      <td>...</td>\n",
       "      <td>...</td>\n",
       "      <td>...</td>\n",
       "      <td>...</td>\n",
       "      <td>...</td>\n",
       "    </tr>\n",
       "    <tr>\n",
       "      <th>13811</th>\n",
       "      <td>13811</td>\n",
       "      <td>1</td>\n",
       "      <td>794</td>\n",
       "      <td>1</td>\n",
       "      <td>24</td>\n",
       "      <td>28</td>\n",
       "      <td>0</td>\n",
       "      <td>0</td>\n",
       "      <td>0</td>\n",
       "      <td>206.0</td>\n",
       "      <td>37</td>\n",
       "      <td>339</td>\n",
       "      <td>9</td>\n",
       "      <td>408</td>\n",
       "      <td>9</td>\n",
       "      <td>25540</td>\n",
       "      <td>8</td>\n",
       "    </tr>\n",
       "    <tr>\n",
       "      <th>13812</th>\n",
       "      <td>13812</td>\n",
       "      <td>3</td>\n",
       "      <td>3573</td>\n",
       "      <td>2</td>\n",
       "      <td>1265</td>\n",
       "      <td>1411</td>\n",
       "      <td>0</td>\n",
       "      <td>0</td>\n",
       "      <td>0</td>\n",
       "      <td>11.8</td>\n",
       "      <td>37</td>\n",
       "      <td>334</td>\n",
       "      <td>40</td>\n",
       "      <td>538</td>\n",
       "      <td>36</td>\n",
       "      <td>408</td>\n",
       "      <td>8</td>\n",
       "    </tr>\n",
       "    <tr>\n",
       "      <th>13813</th>\n",
       "      <td>13813</td>\n",
       "      <td>3</td>\n",
       "      <td>1532</td>\n",
       "      <td>134</td>\n",
       "      <td>934</td>\n",
       "      <td>1130</td>\n",
       "      <td>0</td>\n",
       "      <td>0</td>\n",
       "      <td>0</td>\n",
       "      <td>296.7</td>\n",
       "      <td>37</td>\n",
       "      <td>327</td>\n",
       "      <td>6</td>\n",
       "      <td>348</td>\n",
       "      <td>53</td>\n",
       "      <td>500</td>\n",
       "      <td>8</td>\n",
       "    </tr>\n",
       "    <tr>\n",
       "      <th>13814</th>\n",
       "      <td>13814</td>\n",
       "      <td>3</td>\n",
       "      <td>947</td>\n",
       "      <td>37</td>\n",
       "      <td>643</td>\n",
       "      <td>717</td>\n",
       "      <td>0</td>\n",
       "      <td>0</td>\n",
       "      <td>0</td>\n",
       "      <td>755.0</td>\n",
       "      <td>37</td>\n",
       "      <td>4238</td>\n",
       "      <td>6</td>\n",
       "      <td>348</td>\n",
       "      <td>41</td>\n",
       "      <td>99999</td>\n",
       "      <td>8</td>\n",
       "    </tr>\n",
       "    <tr>\n",
       "      <th>13815</th>\n",
       "      <td>13815</td>\n",
       "      <td>2</td>\n",
       "      <td>8838</td>\n",
       "      <td>43</td>\n",
       "      <td>22</td>\n",
       "      <td>28</td>\n",
       "      <td>0</td>\n",
       "      <td>0</td>\n",
       "      <td>0</td>\n",
       "      <td>193.1</td>\n",
       "      <td>37</td>\n",
       "      <td>332</td>\n",
       "      <td>6</td>\n",
       "      <td>348</td>\n",
       "      <td>6</td>\n",
       "      <td>348</td>\n",
       "      <td>8</td>\n",
       "    </tr>\n",
       "  </tbody>\n",
       "</table>\n",
       "<p>13816 rows × 17 columns</p>\n",
       "</div>"
      ],
      "text/plain": [
       "       Unnamed: 0  MODE     sv   sw  gc_dist  r_dist  temp_cntl  export  \\\n",
       "0               0     4    956   14       36      48          0       1   \n",
       "1               1     3     21    1       34      45          0       0   \n",
       "2               2     2   3879   18       55      64          0       0   \n",
       "3               3     3    910    6     1294    1462          0       0   \n",
       "4               4     2  16494  743        9      12          0       1   \n",
       "...           ...   ...    ...  ...      ...     ...        ...     ...   \n",
       "13811       13811     1    794    1       24      28          0       0   \n",
       "13812       13812     3   3573    2     1265    1411          0       0   \n",
       "13813       13813     3   1532  134      934    1130          0       0   \n",
       "13814       13814     3    947   37      643     717          0       0   \n",
       "13815       13815     2   8838   43       22      28          0       0   \n",
       "\n",
       "       hazmat  wgt_factor  sctg  naics  orig_state  orig_ma  dest_state  \\\n",
       "0           0       128.6    37   4238          12      370          12   \n",
       "1           0       541.8    37   4238          12      370          12   \n",
       "2           0       977.6    37    336          36      408           9   \n",
       "3           0       249.4    37    332           9      408          20   \n",
       "4           0      1617.3    37    336           6      348           6   \n",
       "...       ...         ...   ...    ...         ...      ...         ...   \n",
       "13811       0       206.0    37    339           9      408           9   \n",
       "13812       0        11.8    37    334          40      538          36   \n",
       "13813       0       296.7    37    327           6      348          53   \n",
       "13814       0       755.0    37   4238           6      348          41   \n",
       "13815       0       193.1    37    332           6      348           6   \n",
       "\n",
       "       dest_ma  sctg_n  \n",
       "0          370       8  \n",
       "1          370       8  \n",
       "2          408       8  \n",
       "3          556       8  \n",
       "4          348       8  \n",
       "...        ...     ...  \n",
       "13811    25540       8  \n",
       "13812      408       8  \n",
       "13813      500       8  \n",
       "13814    99999       8  \n",
       "13815      348       8  \n",
       "\n",
       "[13816 rows x 17 columns]"
      ]
     },
     "execution_count": 107,
     "metadata": {},
     "output_type": "execute_result"
    }
   ],
   "source": [
    "import pandas as pd\n",
    "\n",
    "df = pd.read_csv('cfs_majbah_train.csv')\n",
    "df"
   ]
  },
  {
   "cell_type": "code",
   "execution_count": 108,
   "id": "9c60f5ef",
   "metadata": {
    "scrolled": false
   },
   "outputs": [
    {
     "name": "stdout",
     "output_type": "stream",
     "text": [
      "   orig_state orig_state_full  dest_state dest_state_full\n",
      "0          12         Florida          12         Florida\n",
      "1          12         Florida          12         Florida\n",
      "2          36        New York           9     Connecticut\n",
      "3           9     Connecticut          20          Kansas\n",
      "4           6      California           6      California\n"
     ]
    }
   ],
   "source": [
    "\n",
    "df = pd.read_csv('cfs_majbah_train.csv')\n",
    "\n",
    "# 将州代码映射到全名\n",
    "code_to_states = {\n",
    "    \"1\": \"Alabama\",\n",
    "    \"2\": \"Alaska\",\n",
    "    \"4\": \"Arizona\",\n",
    "    \"5\": \"Arkansas\",\n",
    "    \"6\": \"California\",\n",
    "    \"8\": \"Colorado\",\n",
    "    \"9\": \"Connecticut\",\n",
    "    \"10\": \"Delaware\",\n",
    "    \"11\": \"District of Columbia\",\n",
    "    \"12\": \"Florida\",\n",
    "    \"13\": \"Georgia\",\n",
    "    \"15\": \"Hawaii\",\n",
    "    \"16\": \"Idaho\",\n",
    "    \"17\": \"Illinois\",\n",
    "    \"18\": \"Indiana\",\n",
    "    \"19\": \"Iowa\",\n",
    "    \"20\": \"Kansas\",\n",
    "    \"21\": \"Kentucky\",\n",
    "    \"22\": \"Louisiana\",\n",
    "    \"23\": \"Maine\",\n",
    "    \"24\": \"Maryland\",\n",
    "    \"25\": \"Massachusetts\",\n",
    "    \"26\": \"Michigan\",\n",
    "    \"27\": \"Minnesota\",\n",
    "    \"28\": \"Mississippi\",\n",
    "    \"29\": \"Missouri\",\n",
    "    \"30\": \"Montana\",\n",
    "    \"31\": \"Nebraska\",\n",
    "    \"32\": \"Nevada\",\n",
    "    \"33\": \"New Hampshire\",\n",
    "    \"34\": \"New Jersey\",\n",
    "    \"35\": \"New Mexico\",\n",
    "    \"36\": \"New York\",\n",
    "    \"37\": \"North Carolina\",\n",
    "    \"38\": \"North Dakota\",\n",
    "    \"39\": \"Ohio\",\n",
    "    \"40\": \"Oklahoma\",\n",
    "    \"41\": \"Oregon\",\n",
    "    \"42\": \"Pennsylvania\",\n",
    "    \"44\": \"Rhode Island\",\n",
    "    \"45\": \"South Carolina\",\n",
    "    \"46\": \"South Dakota\",\n",
    "    \"47\": \"Tennessee\",\n",
    "    \"48\": \"Texas\",\n",
    "    \"49\": \"Utah\",\n",
    "    \"50\": \"Vermont\",\n",
    "    \"51\": \"Virginia\",\n",
    "    \"53\": \"Washington\",\n",
    "    \"54\": \"West Virginia\",\n",
    "    \"55\": \"Wisconsin\",\n",
    "    \"56\": \"Wyoming\"\n",
    "}\n",
    "\n",
    "# 转换 \n",
    "df['orig_state_full'] = df['orig_state'].astype(str).map(code_to_states)\n",
    "df['dest_state_full'] = df['dest_state'].astype(str).map(code_to_states)\n",
    "\n",
    "print(df[['orig_state', 'orig_state_full', 'dest_state', 'dest_state_full']].head())"
   ]
  },
  {
   "cell_type": "code",
   "execution_count": 109,
   "id": "adae2890",
   "metadata": {},
   "outputs": [
    {
     "data": {
      "text/plain": [
       "Index(['Unnamed: 0', 'MODE', 'sv', 'sw', 'gc_dist', 'r_dist', 'temp_cntl',\n",
       "       'export', 'hazmat', 'wgt_factor', 'sctg', 'naics', 'orig_state',\n",
       "       'orig_ma', 'dest_state', 'dest_ma', 'sctg_n', 'orig_state_full',\n",
       "       'dest_state_full'],\n",
       "      dtype='object')"
      ]
     },
     "execution_count": 109,
     "metadata": {},
     "output_type": "execute_result"
    }
   ],
   "source": [
    "df.columns"
   ]
  },
  {
   "cell_type": "code",
   "execution_count": 110,
   "id": "2cbb83d8",
   "metadata": {},
   "outputs": [
    {
     "data": {
      "text/html": [
       "<div>\n",
       "<style scoped>\n",
       "    .dataframe tbody tr th:only-of-type {\n",
       "        vertical-align: middle;\n",
       "    }\n",
       "\n",
       "    .dataframe tbody tr th {\n",
       "        vertical-align: top;\n",
       "    }\n",
       "\n",
       "    .dataframe thead th {\n",
       "        text-align: right;\n",
       "    }\n",
       "</style>\n",
       "<table border=\"1\" class=\"dataframe\">\n",
       "  <thead>\n",
       "    <tr style=\"text-align: right;\">\n",
       "      <th></th>\n",
       "      <th>Unnamed: 0</th>\n",
       "      <th>MODE</th>\n",
       "      <th>sv</th>\n",
       "      <th>sw</th>\n",
       "      <th>gc_dist</th>\n",
       "      <th>r_dist</th>\n",
       "      <th>temp_cntl</th>\n",
       "      <th>export</th>\n",
       "      <th>hazmat</th>\n",
       "      <th>wgt_factor</th>\n",
       "      <th>sctg</th>\n",
       "      <th>naics</th>\n",
       "      <th>orig_state</th>\n",
       "      <th>orig_state_full</th>\n",
       "      <th>orig_ma</th>\n",
       "      <th>dest_state</th>\n",
       "      <th>dest_state_full</th>\n",
       "      <th>dest_ma</th>\n",
       "      <th>sctg_n</th>\n",
       "    </tr>\n",
       "  </thead>\n",
       "  <tbody>\n",
       "    <tr>\n",
       "      <th>0</th>\n",
       "      <td>0</td>\n",
       "      <td>4</td>\n",
       "      <td>956</td>\n",
       "      <td>14</td>\n",
       "      <td>36</td>\n",
       "      <td>48</td>\n",
       "      <td>0</td>\n",
       "      <td>1</td>\n",
       "      <td>0</td>\n",
       "      <td>128.6</td>\n",
       "      <td>37</td>\n",
       "      <td>4238</td>\n",
       "      <td>12</td>\n",
       "      <td>Florida</td>\n",
       "      <td>370</td>\n",
       "      <td>12</td>\n",
       "      <td>Florida</td>\n",
       "      <td>370</td>\n",
       "      <td>8</td>\n",
       "    </tr>\n",
       "    <tr>\n",
       "      <th>1</th>\n",
       "      <td>1</td>\n",
       "      <td>3</td>\n",
       "      <td>21</td>\n",
       "      <td>1</td>\n",
       "      <td>34</td>\n",
       "      <td>45</td>\n",
       "      <td>0</td>\n",
       "      <td>0</td>\n",
       "      <td>0</td>\n",
       "      <td>541.8</td>\n",
       "      <td>37</td>\n",
       "      <td>4238</td>\n",
       "      <td>12</td>\n",
       "      <td>Florida</td>\n",
       "      <td>370</td>\n",
       "      <td>12</td>\n",
       "      <td>Florida</td>\n",
       "      <td>370</td>\n",
       "      <td>8</td>\n",
       "    </tr>\n",
       "    <tr>\n",
       "      <th>2</th>\n",
       "      <td>2</td>\n",
       "      <td>2</td>\n",
       "      <td>3879</td>\n",
       "      <td>18</td>\n",
       "      <td>55</td>\n",
       "      <td>64</td>\n",
       "      <td>0</td>\n",
       "      <td>0</td>\n",
       "      <td>0</td>\n",
       "      <td>977.6</td>\n",
       "      <td>37</td>\n",
       "      <td>336</td>\n",
       "      <td>36</td>\n",
       "      <td>New York</td>\n",
       "      <td>408</td>\n",
       "      <td>9</td>\n",
       "      <td>Connecticut</td>\n",
       "      <td>408</td>\n",
       "      <td>8</td>\n",
       "    </tr>\n",
       "    <tr>\n",
       "      <th>3</th>\n",
       "      <td>3</td>\n",
       "      <td>3</td>\n",
       "      <td>910</td>\n",
       "      <td>6</td>\n",
       "      <td>1294</td>\n",
       "      <td>1462</td>\n",
       "      <td>0</td>\n",
       "      <td>0</td>\n",
       "      <td>0</td>\n",
       "      <td>249.4</td>\n",
       "      <td>37</td>\n",
       "      <td>332</td>\n",
       "      <td>9</td>\n",
       "      <td>Connecticut</td>\n",
       "      <td>408</td>\n",
       "      <td>20</td>\n",
       "      <td>Kansas</td>\n",
       "      <td>556</td>\n",
       "      <td>8</td>\n",
       "    </tr>\n",
       "    <tr>\n",
       "      <th>4</th>\n",
       "      <td>4</td>\n",
       "      <td>2</td>\n",
       "      <td>16494</td>\n",
       "      <td>743</td>\n",
       "      <td>9</td>\n",
       "      <td>12</td>\n",
       "      <td>0</td>\n",
       "      <td>1</td>\n",
       "      <td>0</td>\n",
       "      <td>1617.3</td>\n",
       "      <td>37</td>\n",
       "      <td>336</td>\n",
       "      <td>6</td>\n",
       "      <td>California</td>\n",
       "      <td>348</td>\n",
       "      <td>6</td>\n",
       "      <td>California</td>\n",
       "      <td>348</td>\n",
       "      <td>8</td>\n",
       "    </tr>\n",
       "    <tr>\n",
       "      <th>...</th>\n",
       "      <td>...</td>\n",
       "      <td>...</td>\n",
       "      <td>...</td>\n",
       "      <td>...</td>\n",
       "      <td>...</td>\n",
       "      <td>...</td>\n",
       "      <td>...</td>\n",
       "      <td>...</td>\n",
       "      <td>...</td>\n",
       "      <td>...</td>\n",
       "      <td>...</td>\n",
       "      <td>...</td>\n",
       "      <td>...</td>\n",
       "      <td>...</td>\n",
       "      <td>...</td>\n",
       "      <td>...</td>\n",
       "      <td>...</td>\n",
       "      <td>...</td>\n",
       "      <td>...</td>\n",
       "    </tr>\n",
       "    <tr>\n",
       "      <th>13811</th>\n",
       "      <td>13811</td>\n",
       "      <td>1</td>\n",
       "      <td>794</td>\n",
       "      <td>1</td>\n",
       "      <td>24</td>\n",
       "      <td>28</td>\n",
       "      <td>0</td>\n",
       "      <td>0</td>\n",
       "      <td>0</td>\n",
       "      <td>206.0</td>\n",
       "      <td>37</td>\n",
       "      <td>339</td>\n",
       "      <td>9</td>\n",
       "      <td>Connecticut</td>\n",
       "      <td>408</td>\n",
       "      <td>9</td>\n",
       "      <td>Connecticut</td>\n",
       "      <td>25540</td>\n",
       "      <td>8</td>\n",
       "    </tr>\n",
       "    <tr>\n",
       "      <th>13812</th>\n",
       "      <td>13812</td>\n",
       "      <td>3</td>\n",
       "      <td>3573</td>\n",
       "      <td>2</td>\n",
       "      <td>1265</td>\n",
       "      <td>1411</td>\n",
       "      <td>0</td>\n",
       "      <td>0</td>\n",
       "      <td>0</td>\n",
       "      <td>11.8</td>\n",
       "      <td>37</td>\n",
       "      <td>334</td>\n",
       "      <td>40</td>\n",
       "      <td>Oklahoma</td>\n",
       "      <td>538</td>\n",
       "      <td>36</td>\n",
       "      <td>New York</td>\n",
       "      <td>408</td>\n",
       "      <td>8</td>\n",
       "    </tr>\n",
       "    <tr>\n",
       "      <th>13813</th>\n",
       "      <td>13813</td>\n",
       "      <td>3</td>\n",
       "      <td>1532</td>\n",
       "      <td>134</td>\n",
       "      <td>934</td>\n",
       "      <td>1130</td>\n",
       "      <td>0</td>\n",
       "      <td>0</td>\n",
       "      <td>0</td>\n",
       "      <td>296.7</td>\n",
       "      <td>37</td>\n",
       "      <td>327</td>\n",
       "      <td>6</td>\n",
       "      <td>California</td>\n",
       "      <td>348</td>\n",
       "      <td>53</td>\n",
       "      <td>Washington</td>\n",
       "      <td>500</td>\n",
       "      <td>8</td>\n",
       "    </tr>\n",
       "    <tr>\n",
       "      <th>13814</th>\n",
       "      <td>13814</td>\n",
       "      <td>3</td>\n",
       "      <td>947</td>\n",
       "      <td>37</td>\n",
       "      <td>643</td>\n",
       "      <td>717</td>\n",
       "      <td>0</td>\n",
       "      <td>0</td>\n",
       "      <td>0</td>\n",
       "      <td>755.0</td>\n",
       "      <td>37</td>\n",
       "      <td>4238</td>\n",
       "      <td>6</td>\n",
       "      <td>California</td>\n",
       "      <td>348</td>\n",
       "      <td>41</td>\n",
       "      <td>Oregon</td>\n",
       "      <td>99999</td>\n",
       "      <td>8</td>\n",
       "    </tr>\n",
       "    <tr>\n",
       "      <th>13815</th>\n",
       "      <td>13815</td>\n",
       "      <td>2</td>\n",
       "      <td>8838</td>\n",
       "      <td>43</td>\n",
       "      <td>22</td>\n",
       "      <td>28</td>\n",
       "      <td>0</td>\n",
       "      <td>0</td>\n",
       "      <td>0</td>\n",
       "      <td>193.1</td>\n",
       "      <td>37</td>\n",
       "      <td>332</td>\n",
       "      <td>6</td>\n",
       "      <td>California</td>\n",
       "      <td>348</td>\n",
       "      <td>6</td>\n",
       "      <td>California</td>\n",
       "      <td>348</td>\n",
       "      <td>8</td>\n",
       "    </tr>\n",
       "  </tbody>\n",
       "</table>\n",
       "<p>13816 rows × 19 columns</p>\n",
       "</div>"
      ],
      "text/plain": [
       "       Unnamed: 0  MODE     sv   sw  gc_dist  r_dist  temp_cntl  export  \\\n",
       "0               0     4    956   14       36      48          0       1   \n",
       "1               1     3     21    1       34      45          0       0   \n",
       "2               2     2   3879   18       55      64          0       0   \n",
       "3               3     3    910    6     1294    1462          0       0   \n",
       "4               4     2  16494  743        9      12          0       1   \n",
       "...           ...   ...    ...  ...      ...     ...        ...     ...   \n",
       "13811       13811     1    794    1       24      28          0       0   \n",
       "13812       13812     3   3573    2     1265    1411          0       0   \n",
       "13813       13813     3   1532  134      934    1130          0       0   \n",
       "13814       13814     3    947   37      643     717          0       0   \n",
       "13815       13815     2   8838   43       22      28          0       0   \n",
       "\n",
       "       hazmat  wgt_factor  sctg  naics  orig_state orig_state_full  orig_ma  \\\n",
       "0           0       128.6    37   4238          12         Florida      370   \n",
       "1           0       541.8    37   4238          12         Florida      370   \n",
       "2           0       977.6    37    336          36        New York      408   \n",
       "3           0       249.4    37    332           9     Connecticut      408   \n",
       "4           0      1617.3    37    336           6      California      348   \n",
       "...       ...         ...   ...    ...         ...             ...      ...   \n",
       "13811       0       206.0    37    339           9     Connecticut      408   \n",
       "13812       0        11.8    37    334          40        Oklahoma      538   \n",
       "13813       0       296.7    37    327           6      California      348   \n",
       "13814       0       755.0    37   4238           6      California      348   \n",
       "13815       0       193.1    37    332           6      California      348   \n",
       "\n",
       "       dest_state dest_state_full  dest_ma  sctg_n  \n",
       "0              12         Florida      370       8  \n",
       "1              12         Florida      370       8  \n",
       "2               9     Connecticut      408       8  \n",
       "3              20          Kansas      556       8  \n",
       "4               6      California      348       8  \n",
       "...           ...             ...      ...     ...  \n",
       "13811           9     Connecticut    25540       8  \n",
       "13812          36        New York      408       8  \n",
       "13813          53      Washington      500       8  \n",
       "13814          41          Oregon    99999       8  \n",
       "13815           6      California      348       8  \n",
       "\n",
       "[13816 rows x 19 columns]"
      ]
     },
     "execution_count": 110,
     "metadata": {},
     "output_type": "execute_result"
    }
   ],
   "source": [
    "new_columns = ['Unnamed: 0', 'MODE', 'sv', 'sw', 'gc_dist', 'r_dist', 'temp_cntl',\n",
    "       'export', 'hazmat', 'wgt_factor', 'sctg', 'naics', 'orig_state', 'orig_state_full',\n",
    "       'orig_ma', 'dest_state', 'dest_state_full', 'dest_ma', 'sctg_n']\n",
    "df = df.reindex(columns=new_columns)\n",
    "df"
   ]
  },
  {
   "cell_type": "code",
   "execution_count": 111,
   "id": "37c7a241",
   "metadata": {},
   "outputs": [],
   "source": [
    "df.to_csv('modified_cfs_majbah_train.csv', index=False)"
   ]
  },
  {
   "cell_type": "code",
   "execution_count": 112,
   "id": "702afb18",
   "metadata": {},
   "outputs": [
    {
     "data": {
      "text/html": [
       "<div>\n",
       "<style scoped>\n",
       "    .dataframe tbody tr th:only-of-type {\n",
       "        vertical-align: middle;\n",
       "    }\n",
       "\n",
       "    .dataframe tbody tr th {\n",
       "        vertical-align: top;\n",
       "    }\n",
       "\n",
       "    .dataframe thead th {\n",
       "        text-align: right;\n",
       "    }\n",
       "</style>\n",
       "<table border=\"1\" class=\"dataframe\">\n",
       "  <thead>\n",
       "    <tr style=\"text-align: right;\">\n",
       "      <th></th>\n",
       "      <th>Unnamed: 0</th>\n",
       "      <th>MODE</th>\n",
       "      <th>sv</th>\n",
       "      <th>sw</th>\n",
       "      <th>gc_dist</th>\n",
       "      <th>r_dist</th>\n",
       "      <th>temp_cntl</th>\n",
       "      <th>export</th>\n",
       "      <th>hazmat</th>\n",
       "      <th>wgt_factor</th>\n",
       "      <th>sctg</th>\n",
       "      <th>naics</th>\n",
       "      <th>orig_state</th>\n",
       "      <th>orig_state_full</th>\n",
       "      <th>orig_ma</th>\n",
       "      <th>dest_state</th>\n",
       "      <th>dest_state_full</th>\n",
       "      <th>dest_ma</th>\n",
       "      <th>sctg_n</th>\n",
       "    </tr>\n",
       "  </thead>\n",
       "  <tbody>\n",
       "    <tr>\n",
       "      <th>0</th>\n",
       "      <td>0</td>\n",
       "      <td>4</td>\n",
       "      <td>956</td>\n",
       "      <td>14</td>\n",
       "      <td>36</td>\n",
       "      <td>48</td>\n",
       "      <td>0</td>\n",
       "      <td>1</td>\n",
       "      <td>0</td>\n",
       "      <td>128.6</td>\n",
       "      <td>37</td>\n",
       "      <td>4238</td>\n",
       "      <td>12</td>\n",
       "      <td>Florida</td>\n",
       "      <td>370</td>\n",
       "      <td>12</td>\n",
       "      <td>Florida</td>\n",
       "      <td>370</td>\n",
       "      <td>8</td>\n",
       "    </tr>\n",
       "    <tr>\n",
       "      <th>1</th>\n",
       "      <td>1</td>\n",
       "      <td>3</td>\n",
       "      <td>21</td>\n",
       "      <td>1</td>\n",
       "      <td>34</td>\n",
       "      <td>45</td>\n",
       "      <td>0</td>\n",
       "      <td>0</td>\n",
       "      <td>0</td>\n",
       "      <td>541.8</td>\n",
       "      <td>37</td>\n",
       "      <td>4238</td>\n",
       "      <td>12</td>\n",
       "      <td>Florida</td>\n",
       "      <td>370</td>\n",
       "      <td>12</td>\n",
       "      <td>Florida</td>\n",
       "      <td>370</td>\n",
       "      <td>8</td>\n",
       "    </tr>\n",
       "    <tr>\n",
       "      <th>2</th>\n",
       "      <td>2</td>\n",
       "      <td>2</td>\n",
       "      <td>3879</td>\n",
       "      <td>18</td>\n",
       "      <td>55</td>\n",
       "      <td>64</td>\n",
       "      <td>0</td>\n",
       "      <td>0</td>\n",
       "      <td>0</td>\n",
       "      <td>977.6</td>\n",
       "      <td>37</td>\n",
       "      <td>336</td>\n",
       "      <td>36</td>\n",
       "      <td>New York</td>\n",
       "      <td>408</td>\n",
       "      <td>9</td>\n",
       "      <td>Connecticut</td>\n",
       "      <td>408</td>\n",
       "      <td>8</td>\n",
       "    </tr>\n",
       "    <tr>\n",
       "      <th>3</th>\n",
       "      <td>3</td>\n",
       "      <td>3</td>\n",
       "      <td>910</td>\n",
       "      <td>6</td>\n",
       "      <td>1294</td>\n",
       "      <td>1462</td>\n",
       "      <td>0</td>\n",
       "      <td>0</td>\n",
       "      <td>0</td>\n",
       "      <td>249.4</td>\n",
       "      <td>37</td>\n",
       "      <td>332</td>\n",
       "      <td>9</td>\n",
       "      <td>Connecticut</td>\n",
       "      <td>408</td>\n",
       "      <td>20</td>\n",
       "      <td>Kansas</td>\n",
       "      <td>556</td>\n",
       "      <td>8</td>\n",
       "    </tr>\n",
       "    <tr>\n",
       "      <th>4</th>\n",
       "      <td>4</td>\n",
       "      <td>2</td>\n",
       "      <td>16494</td>\n",
       "      <td>743</td>\n",
       "      <td>9</td>\n",
       "      <td>12</td>\n",
       "      <td>0</td>\n",
       "      <td>1</td>\n",
       "      <td>0</td>\n",
       "      <td>1617.3</td>\n",
       "      <td>37</td>\n",
       "      <td>336</td>\n",
       "      <td>6</td>\n",
       "      <td>California</td>\n",
       "      <td>348</td>\n",
       "      <td>6</td>\n",
       "      <td>California</td>\n",
       "      <td>348</td>\n",
       "      <td>8</td>\n",
       "    </tr>\n",
       "    <tr>\n",
       "      <th>...</th>\n",
       "      <td>...</td>\n",
       "      <td>...</td>\n",
       "      <td>...</td>\n",
       "      <td>...</td>\n",
       "      <td>...</td>\n",
       "      <td>...</td>\n",
       "      <td>...</td>\n",
       "      <td>...</td>\n",
       "      <td>...</td>\n",
       "      <td>...</td>\n",
       "      <td>...</td>\n",
       "      <td>...</td>\n",
       "      <td>...</td>\n",
       "      <td>...</td>\n",
       "      <td>...</td>\n",
       "      <td>...</td>\n",
       "      <td>...</td>\n",
       "      <td>...</td>\n",
       "      <td>...</td>\n",
       "    </tr>\n",
       "    <tr>\n",
       "      <th>13811</th>\n",
       "      <td>13811</td>\n",
       "      <td>1</td>\n",
       "      <td>794</td>\n",
       "      <td>1</td>\n",
       "      <td>24</td>\n",
       "      <td>28</td>\n",
       "      <td>0</td>\n",
       "      <td>0</td>\n",
       "      <td>0</td>\n",
       "      <td>206.0</td>\n",
       "      <td>37</td>\n",
       "      <td>339</td>\n",
       "      <td>9</td>\n",
       "      <td>Connecticut</td>\n",
       "      <td>408</td>\n",
       "      <td>9</td>\n",
       "      <td>Connecticut</td>\n",
       "      <td>25540</td>\n",
       "      <td>8</td>\n",
       "    </tr>\n",
       "    <tr>\n",
       "      <th>13812</th>\n",
       "      <td>13812</td>\n",
       "      <td>3</td>\n",
       "      <td>3573</td>\n",
       "      <td>2</td>\n",
       "      <td>1265</td>\n",
       "      <td>1411</td>\n",
       "      <td>0</td>\n",
       "      <td>0</td>\n",
       "      <td>0</td>\n",
       "      <td>11.8</td>\n",
       "      <td>37</td>\n",
       "      <td>334</td>\n",
       "      <td>40</td>\n",
       "      <td>Oklahoma</td>\n",
       "      <td>538</td>\n",
       "      <td>36</td>\n",
       "      <td>New York</td>\n",
       "      <td>408</td>\n",
       "      <td>8</td>\n",
       "    </tr>\n",
       "    <tr>\n",
       "      <th>13813</th>\n",
       "      <td>13813</td>\n",
       "      <td>3</td>\n",
       "      <td>1532</td>\n",
       "      <td>134</td>\n",
       "      <td>934</td>\n",
       "      <td>1130</td>\n",
       "      <td>0</td>\n",
       "      <td>0</td>\n",
       "      <td>0</td>\n",
       "      <td>296.7</td>\n",
       "      <td>37</td>\n",
       "      <td>327</td>\n",
       "      <td>6</td>\n",
       "      <td>California</td>\n",
       "      <td>348</td>\n",
       "      <td>53</td>\n",
       "      <td>Washington</td>\n",
       "      <td>500</td>\n",
       "      <td>8</td>\n",
       "    </tr>\n",
       "    <tr>\n",
       "      <th>13814</th>\n",
       "      <td>13814</td>\n",
       "      <td>3</td>\n",
       "      <td>947</td>\n",
       "      <td>37</td>\n",
       "      <td>643</td>\n",
       "      <td>717</td>\n",
       "      <td>0</td>\n",
       "      <td>0</td>\n",
       "      <td>0</td>\n",
       "      <td>755.0</td>\n",
       "      <td>37</td>\n",
       "      <td>4238</td>\n",
       "      <td>6</td>\n",
       "      <td>California</td>\n",
       "      <td>348</td>\n",
       "      <td>41</td>\n",
       "      <td>Oregon</td>\n",
       "      <td>99999</td>\n",
       "      <td>8</td>\n",
       "    </tr>\n",
       "    <tr>\n",
       "      <th>13815</th>\n",
       "      <td>13815</td>\n",
       "      <td>2</td>\n",
       "      <td>8838</td>\n",
       "      <td>43</td>\n",
       "      <td>22</td>\n",
       "      <td>28</td>\n",
       "      <td>0</td>\n",
       "      <td>0</td>\n",
       "      <td>0</td>\n",
       "      <td>193.1</td>\n",
       "      <td>37</td>\n",
       "      <td>332</td>\n",
       "      <td>6</td>\n",
       "      <td>California</td>\n",
       "      <td>348</td>\n",
       "      <td>6</td>\n",
       "      <td>California</td>\n",
       "      <td>348</td>\n",
       "      <td>8</td>\n",
       "    </tr>\n",
       "  </tbody>\n",
       "</table>\n",
       "<p>13816 rows × 19 columns</p>\n",
       "</div>"
      ],
      "text/plain": [
       "       Unnamed: 0  MODE     sv   sw  gc_dist  r_dist  temp_cntl  export  \\\n",
       "0               0     4    956   14       36      48          0       1   \n",
       "1               1     3     21    1       34      45          0       0   \n",
       "2               2     2   3879   18       55      64          0       0   \n",
       "3               3     3    910    6     1294    1462          0       0   \n",
       "4               4     2  16494  743        9      12          0       1   \n",
       "...           ...   ...    ...  ...      ...     ...        ...     ...   \n",
       "13811       13811     1    794    1       24      28          0       0   \n",
       "13812       13812     3   3573    2     1265    1411          0       0   \n",
       "13813       13813     3   1532  134      934    1130          0       0   \n",
       "13814       13814     3    947   37      643     717          0       0   \n",
       "13815       13815     2   8838   43       22      28          0       0   \n",
       "\n",
       "       hazmat  wgt_factor  sctg  naics  orig_state orig_state_full  orig_ma  \\\n",
       "0           0       128.6    37   4238          12         Florida      370   \n",
       "1           0       541.8    37   4238          12         Florida      370   \n",
       "2           0       977.6    37    336          36        New York      408   \n",
       "3           0       249.4    37    332           9     Connecticut      408   \n",
       "4           0      1617.3    37    336           6      California      348   \n",
       "...       ...         ...   ...    ...         ...             ...      ...   \n",
       "13811       0       206.0    37    339           9     Connecticut      408   \n",
       "13812       0        11.8    37    334          40        Oklahoma      538   \n",
       "13813       0       296.7    37    327           6      California      348   \n",
       "13814       0       755.0    37   4238           6      California      348   \n",
       "13815       0       193.1    37    332           6      California      348   \n",
       "\n",
       "       dest_state dest_state_full  dest_ma  sctg_n  \n",
       "0              12         Florida      370       8  \n",
       "1              12         Florida      370       8  \n",
       "2               9     Connecticut      408       8  \n",
       "3              20          Kansas      556       8  \n",
       "4               6      California      348       8  \n",
       "...           ...             ...      ...     ...  \n",
       "13811           9     Connecticut    25540       8  \n",
       "13812          36        New York      408       8  \n",
       "13813          53      Washington      500       8  \n",
       "13814          41          Oregon    99999       8  \n",
       "13815           6      California      348       8  \n",
       "\n",
       "[13816 rows x 19 columns]"
      ]
     },
     "execution_count": 112,
     "metadata": {},
     "output_type": "execute_result"
    }
   ],
   "source": [
    "df = pd.read_csv('modified_cfs_majbah_train.csv')\n",
    "df"
   ]
  },
  {
   "cell_type": "code",
   "execution_count": 113,
   "id": "928ef3ad",
   "metadata": {},
   "outputs": [
    {
     "name": "stdout",
     "output_type": "stream",
     "text": [
      "   orig_state orig_state_full  dest_state dest_state_full states_code_o  \\\n",
      "0          12         Florida          12         Florida            FL   \n",
      "1          12         Florida          12         Florida            FL   \n",
      "2          36        New York           9     Connecticut            NY   \n",
      "3           9     Connecticut          20          Kansas            CT   \n",
      "4           6      California           6      California            CA   \n",
      "\n",
      "  states_code_d  \n",
      "0            FL  \n",
      "1            FL  \n",
      "2            CT  \n",
      "3            KS  \n",
      "4            CA  \n"
     ]
    }
   ],
   "source": [
    "df = pd.read_csv('modified_cfs_majbah_train.csv')\n",
    "\n",
    "state_abbreviations = {\n",
    "    \"Alabama\": \"AL\",\n",
    "    \"Alaska\": \"AK\",\n",
    "    \"Arizona\": \"AZ\",\n",
    "    \"Arkansas\": \"AR\",\n",
    "    \"California\": \"CA\",\n",
    "    \"Colorado\": \"CO\",\n",
    "    \"Connecticut\": \"CT\",\n",
    "    \"Delaware\": \"DE\",\n",
    "    \"Florida\": \"FL\",\n",
    "    \"Georgia\": \"GA\",\n",
    "    \"Hawaii\": \"HI\",\n",
    "    \"Idaho\": \"ID\",\n",
    "    \"Illinois\": \"IL\",\n",
    "    \"Indiana\": \"IN\",\n",
    "    \"Iowa\": \"IA\",\n",
    "    \"Kansas\": \"KS\",\n",
    "    \"Kentucky\": \"KY\",\n",
    "    \"Louisiana\": \"LA\",\n",
    "    \"Maine\": \"ME\",\n",
    "    \"Maryland\": \"MD\",\n",
    "    \"Massachusetts\": \"MA\",\n",
    "    \"Michigan\": \"MI\",\n",
    "    \"Minnesota\": \"MN\",\n",
    "    \"Mississippi\": \"MS\",\n",
    "    \"Missouri\": \"MO\",\n",
    "    \"Montana\": \"MT\",\n",
    "    \"Nebraska\": \"NE\",\n",
    "    \"Nevada\": \"NV\",\n",
    "    \"New Hampshire\": \"NH\",\n",
    "    \"New Jersey\": \"NJ\",\n",
    "    \"New Mexico\": \"NM\",\n",
    "    \"New York\": \"NY\",\n",
    "    \"North Carolina\": \"NC\",\n",
    "    \"North Dakota\": \"ND\",\n",
    "    \"Ohio\": \"OH\",\n",
    "    \"Oklahoma\": \"OK\",\n",
    "    \"Oregon\": \"OR\",\n",
    "    \"Pennsylvania\": \"PA\",\n",
    "    \"Rhode Island\": \"RI\",\n",
    "    \"South Carolina\": \"SC\",\n",
    "    \"South Dakota\": \"SD\",\n",
    "    \"Tennessee\": \"TN\",\n",
    "    \"Texas\": \"TX\",\n",
    "    \"Utah\": \"UT\",\n",
    "    \"Vermont\": \"VT\",\n",
    "    \"Virginia\": \"VA\",\n",
    "    \"Washington\": \"WA\",\n",
    "    \"West Virginia\": \"WV\",\n",
    "    \"Wisconsin\": \"WI\",\n",
    "    \"Wyoming\": \"WY\"\n",
    "}\n",
    "\n",
    "df['states_code_o'] = df['orig_state_full'].map(state_abbreviations)\n",
    "df['states_code_d'] = df['dest_state_full'].map(state_abbreviations)\n",
    "\n",
    "\n",
    "print(df[['orig_state', 'orig_state_full', 'dest_state', 'dest_state_full','states_code_o','states_code_d']].head())"
   ]
  },
  {
   "cell_type": "code",
   "execution_count": 114,
   "id": "cdf87527",
   "metadata": {},
   "outputs": [
    {
     "data": {
      "text/plain": [
       "Index(['Unnamed: 0', 'MODE', 'sv', 'sw', 'gc_dist', 'r_dist', 'temp_cntl',\n",
       "       'export', 'hazmat', 'wgt_factor', 'sctg', 'naics', 'orig_state',\n",
       "       'orig_state_full', 'orig_ma', 'dest_state', 'dest_state_full',\n",
       "       'dest_ma', 'sctg_n', 'states_code_o', 'states_code_d'],\n",
       "      dtype='object')"
      ]
     },
     "execution_count": 114,
     "metadata": {},
     "output_type": "execute_result"
    }
   ],
   "source": [
    "df.columns"
   ]
  },
  {
   "cell_type": "code",
   "execution_count": 129,
   "id": "caf7ef5e",
   "metadata": {},
   "outputs": [
    {
     "data": {
      "text/html": [
       "<div>\n",
       "<style scoped>\n",
       "    .dataframe tbody tr th:only-of-type {\n",
       "        vertical-align: middle;\n",
       "    }\n",
       "\n",
       "    .dataframe tbody tr th {\n",
       "        vertical-align: top;\n",
       "    }\n",
       "\n",
       "    .dataframe thead th {\n",
       "        text-align: right;\n",
       "    }\n",
       "</style>\n",
       "<table border=\"1\" class=\"dataframe\">\n",
       "  <thead>\n",
       "    <tr style=\"text-align: right;\">\n",
       "      <th></th>\n",
       "      <th>Unnamed: 0</th>\n",
       "      <th>MODE</th>\n",
       "      <th>sv</th>\n",
       "      <th>sw</th>\n",
       "      <th>gc_dist</th>\n",
       "      <th>r_dist</th>\n",
       "      <th>temp_cntl</th>\n",
       "      <th>export</th>\n",
       "      <th>hazmat</th>\n",
       "      <th>wgt_factor</th>\n",
       "      <th>...</th>\n",
       "      <th>naics</th>\n",
       "      <th>orig_state</th>\n",
       "      <th>orig_state_full</th>\n",
       "      <th>states_code_o</th>\n",
       "      <th>orig_ma</th>\n",
       "      <th>dest_state</th>\n",
       "      <th>dest_state_full</th>\n",
       "      <th>states_code_d</th>\n",
       "      <th>dest_ma</th>\n",
       "      <th>sctg_n</th>\n",
       "    </tr>\n",
       "  </thead>\n",
       "  <tbody>\n",
       "    <tr>\n",
       "      <th>0</th>\n",
       "      <td>0</td>\n",
       "      <td>4</td>\n",
       "      <td>956</td>\n",
       "      <td>14</td>\n",
       "      <td>36</td>\n",
       "      <td>48</td>\n",
       "      <td>0</td>\n",
       "      <td>1</td>\n",
       "      <td>0</td>\n",
       "      <td>128.6</td>\n",
       "      <td>...</td>\n",
       "      <td>4238</td>\n",
       "      <td>12</td>\n",
       "      <td>Florida</td>\n",
       "      <td>FL</td>\n",
       "      <td>370</td>\n",
       "      <td>12</td>\n",
       "      <td>Florida</td>\n",
       "      <td>FL</td>\n",
       "      <td>370</td>\n",
       "      <td>8</td>\n",
       "    </tr>\n",
       "    <tr>\n",
       "      <th>1</th>\n",
       "      <td>1</td>\n",
       "      <td>3</td>\n",
       "      <td>21</td>\n",
       "      <td>1</td>\n",
       "      <td>34</td>\n",
       "      <td>45</td>\n",
       "      <td>0</td>\n",
       "      <td>0</td>\n",
       "      <td>0</td>\n",
       "      <td>541.8</td>\n",
       "      <td>...</td>\n",
       "      <td>4238</td>\n",
       "      <td>12</td>\n",
       "      <td>Florida</td>\n",
       "      <td>FL</td>\n",
       "      <td>370</td>\n",
       "      <td>12</td>\n",
       "      <td>Florida</td>\n",
       "      <td>FL</td>\n",
       "      <td>370</td>\n",
       "      <td>8</td>\n",
       "    </tr>\n",
       "    <tr>\n",
       "      <th>2</th>\n",
       "      <td>2</td>\n",
       "      <td>2</td>\n",
       "      <td>3879</td>\n",
       "      <td>18</td>\n",
       "      <td>55</td>\n",
       "      <td>64</td>\n",
       "      <td>0</td>\n",
       "      <td>0</td>\n",
       "      <td>0</td>\n",
       "      <td>977.6</td>\n",
       "      <td>...</td>\n",
       "      <td>336</td>\n",
       "      <td>36</td>\n",
       "      <td>New York</td>\n",
       "      <td>NY</td>\n",
       "      <td>408</td>\n",
       "      <td>9</td>\n",
       "      <td>Connecticut</td>\n",
       "      <td>CT</td>\n",
       "      <td>408</td>\n",
       "      <td>8</td>\n",
       "    </tr>\n",
       "    <tr>\n",
       "      <th>3</th>\n",
       "      <td>3</td>\n",
       "      <td>3</td>\n",
       "      <td>910</td>\n",
       "      <td>6</td>\n",
       "      <td>1294</td>\n",
       "      <td>1462</td>\n",
       "      <td>0</td>\n",
       "      <td>0</td>\n",
       "      <td>0</td>\n",
       "      <td>249.4</td>\n",
       "      <td>...</td>\n",
       "      <td>332</td>\n",
       "      <td>9</td>\n",
       "      <td>Connecticut</td>\n",
       "      <td>CT</td>\n",
       "      <td>408</td>\n",
       "      <td>20</td>\n",
       "      <td>Kansas</td>\n",
       "      <td>KS</td>\n",
       "      <td>556</td>\n",
       "      <td>8</td>\n",
       "    </tr>\n",
       "    <tr>\n",
       "      <th>4</th>\n",
       "      <td>4</td>\n",
       "      <td>2</td>\n",
       "      <td>16494</td>\n",
       "      <td>743</td>\n",
       "      <td>9</td>\n",
       "      <td>12</td>\n",
       "      <td>0</td>\n",
       "      <td>1</td>\n",
       "      <td>0</td>\n",
       "      <td>1617.3</td>\n",
       "      <td>...</td>\n",
       "      <td>336</td>\n",
       "      <td>6</td>\n",
       "      <td>California</td>\n",
       "      <td>CA</td>\n",
       "      <td>348</td>\n",
       "      <td>6</td>\n",
       "      <td>California</td>\n",
       "      <td>CA</td>\n",
       "      <td>348</td>\n",
       "      <td>8</td>\n",
       "    </tr>\n",
       "    <tr>\n",
       "      <th>...</th>\n",
       "      <td>...</td>\n",
       "      <td>...</td>\n",
       "      <td>...</td>\n",
       "      <td>...</td>\n",
       "      <td>...</td>\n",
       "      <td>...</td>\n",
       "      <td>...</td>\n",
       "      <td>...</td>\n",
       "      <td>...</td>\n",
       "      <td>...</td>\n",
       "      <td>...</td>\n",
       "      <td>...</td>\n",
       "      <td>...</td>\n",
       "      <td>...</td>\n",
       "      <td>...</td>\n",
       "      <td>...</td>\n",
       "      <td>...</td>\n",
       "      <td>...</td>\n",
       "      <td>...</td>\n",
       "      <td>...</td>\n",
       "      <td>...</td>\n",
       "    </tr>\n",
       "    <tr>\n",
       "      <th>13811</th>\n",
       "      <td>13811</td>\n",
       "      <td>1</td>\n",
       "      <td>794</td>\n",
       "      <td>1</td>\n",
       "      <td>24</td>\n",
       "      <td>28</td>\n",
       "      <td>0</td>\n",
       "      <td>0</td>\n",
       "      <td>0</td>\n",
       "      <td>206.0</td>\n",
       "      <td>...</td>\n",
       "      <td>339</td>\n",
       "      <td>9</td>\n",
       "      <td>Connecticut</td>\n",
       "      <td>CT</td>\n",
       "      <td>408</td>\n",
       "      <td>9</td>\n",
       "      <td>Connecticut</td>\n",
       "      <td>CT</td>\n",
       "      <td>25540</td>\n",
       "      <td>8</td>\n",
       "    </tr>\n",
       "    <tr>\n",
       "      <th>13812</th>\n",
       "      <td>13812</td>\n",
       "      <td>3</td>\n",
       "      <td>3573</td>\n",
       "      <td>2</td>\n",
       "      <td>1265</td>\n",
       "      <td>1411</td>\n",
       "      <td>0</td>\n",
       "      <td>0</td>\n",
       "      <td>0</td>\n",
       "      <td>11.8</td>\n",
       "      <td>...</td>\n",
       "      <td>334</td>\n",
       "      <td>40</td>\n",
       "      <td>Oklahoma</td>\n",
       "      <td>OK</td>\n",
       "      <td>538</td>\n",
       "      <td>36</td>\n",
       "      <td>New York</td>\n",
       "      <td>NY</td>\n",
       "      <td>408</td>\n",
       "      <td>8</td>\n",
       "    </tr>\n",
       "    <tr>\n",
       "      <th>13813</th>\n",
       "      <td>13813</td>\n",
       "      <td>3</td>\n",
       "      <td>1532</td>\n",
       "      <td>134</td>\n",
       "      <td>934</td>\n",
       "      <td>1130</td>\n",
       "      <td>0</td>\n",
       "      <td>0</td>\n",
       "      <td>0</td>\n",
       "      <td>296.7</td>\n",
       "      <td>...</td>\n",
       "      <td>327</td>\n",
       "      <td>6</td>\n",
       "      <td>California</td>\n",
       "      <td>CA</td>\n",
       "      <td>348</td>\n",
       "      <td>53</td>\n",
       "      <td>Washington</td>\n",
       "      <td>WA</td>\n",
       "      <td>500</td>\n",
       "      <td>8</td>\n",
       "    </tr>\n",
       "    <tr>\n",
       "      <th>13814</th>\n",
       "      <td>13814</td>\n",
       "      <td>3</td>\n",
       "      <td>947</td>\n",
       "      <td>37</td>\n",
       "      <td>643</td>\n",
       "      <td>717</td>\n",
       "      <td>0</td>\n",
       "      <td>0</td>\n",
       "      <td>0</td>\n",
       "      <td>755.0</td>\n",
       "      <td>...</td>\n",
       "      <td>4238</td>\n",
       "      <td>6</td>\n",
       "      <td>California</td>\n",
       "      <td>CA</td>\n",
       "      <td>348</td>\n",
       "      <td>41</td>\n",
       "      <td>Oregon</td>\n",
       "      <td>OR</td>\n",
       "      <td>99999</td>\n",
       "      <td>8</td>\n",
       "    </tr>\n",
       "    <tr>\n",
       "      <th>13815</th>\n",
       "      <td>13815</td>\n",
       "      <td>2</td>\n",
       "      <td>8838</td>\n",
       "      <td>43</td>\n",
       "      <td>22</td>\n",
       "      <td>28</td>\n",
       "      <td>0</td>\n",
       "      <td>0</td>\n",
       "      <td>0</td>\n",
       "      <td>193.1</td>\n",
       "      <td>...</td>\n",
       "      <td>332</td>\n",
       "      <td>6</td>\n",
       "      <td>California</td>\n",
       "      <td>CA</td>\n",
       "      <td>348</td>\n",
       "      <td>6</td>\n",
       "      <td>California</td>\n",
       "      <td>CA</td>\n",
       "      <td>348</td>\n",
       "      <td>8</td>\n",
       "    </tr>\n",
       "  </tbody>\n",
       "</table>\n",
       "<p>13816 rows × 21 columns</p>\n",
       "</div>"
      ],
      "text/plain": [
       "       Unnamed: 0  MODE     sv   sw  gc_dist  r_dist  temp_cntl  export  \\\n",
       "0               0     4    956   14       36      48          0       1   \n",
       "1               1     3     21    1       34      45          0       0   \n",
       "2               2     2   3879   18       55      64          0       0   \n",
       "3               3     3    910    6     1294    1462          0       0   \n",
       "4               4     2  16494  743        9      12          0       1   \n",
       "...           ...   ...    ...  ...      ...     ...        ...     ...   \n",
       "13811       13811     1    794    1       24      28          0       0   \n",
       "13812       13812     3   3573    2     1265    1411          0       0   \n",
       "13813       13813     3   1532  134      934    1130          0       0   \n",
       "13814       13814     3    947   37      643     717          0       0   \n",
       "13815       13815     2   8838   43       22      28          0       0   \n",
       "\n",
       "       hazmat  wgt_factor  ...  naics  orig_state  orig_state_full  \\\n",
       "0           0       128.6  ...   4238          12          Florida   \n",
       "1           0       541.8  ...   4238          12          Florida   \n",
       "2           0       977.6  ...    336          36         New York   \n",
       "3           0       249.4  ...    332           9      Connecticut   \n",
       "4           0      1617.3  ...    336           6       California   \n",
       "...       ...         ...  ...    ...         ...              ...   \n",
       "13811       0       206.0  ...    339           9      Connecticut   \n",
       "13812       0        11.8  ...    334          40         Oklahoma   \n",
       "13813       0       296.7  ...    327           6       California   \n",
       "13814       0       755.0  ...   4238           6       California   \n",
       "13815       0       193.1  ...    332           6       California   \n",
       "\n",
       "      states_code_o orig_ma  dest_state  dest_state_full states_code_d  \\\n",
       "0                FL     370          12          Florida            FL   \n",
       "1                FL     370          12          Florida            FL   \n",
       "2                NY     408           9      Connecticut            CT   \n",
       "3                CT     408          20           Kansas            KS   \n",
       "4                CA     348           6       California            CA   \n",
       "...             ...     ...         ...              ...           ...   \n",
       "13811            CT     408           9      Connecticut            CT   \n",
       "13812            OK     538          36         New York            NY   \n",
       "13813            CA     348          53       Washington            WA   \n",
       "13814            CA     348          41           Oregon            OR   \n",
       "13815            CA     348           6       California            CA   \n",
       "\n",
       "      dest_ma  sctg_n  \n",
       "0         370       8  \n",
       "1         370       8  \n",
       "2         408       8  \n",
       "3         556       8  \n",
       "4         348       8  \n",
       "...       ...     ...  \n",
       "13811   25540       8  \n",
       "13812     408       8  \n",
       "13813     500       8  \n",
       "13814   99999       8  \n",
       "13815     348       8  \n",
       "\n",
       "[13816 rows x 21 columns]"
      ]
     },
     "execution_count": 129,
     "metadata": {},
     "output_type": "execute_result"
    }
   ],
   "source": [
    "new_columns = ['Unnamed: 0', 'MODE', 'sv', 'sw', 'gc_dist', 'r_dist', 'temp_cntl',\n",
    "       'export', 'hazmat', 'wgt_factor', 'sctg', 'naics', 'orig_state', 'orig_state_full', 'states_code_o',\n",
    "       'orig_ma', 'dest_state', 'dest_state_full', 'states_code_d', 'dest_ma', 'sctg_n']\n",
    "df = df.reindex(columns=new_columns)\n",
    "df"
   ]
  },
  {
   "cell_type": "code",
   "execution_count": 131,
   "id": "37b31146",
   "metadata": {},
   "outputs": [],
   "source": [
    "df.to_csv('modified2_cfs_majbah_train.csv', index=False)"
   ]
  },
  {
   "cell_type": "code",
   "execution_count": null,
   "id": "69fdbe4b",
   "metadata": {},
   "outputs": [],
   "source": []
  },
  {
   "cell_type": "code",
   "execution_count": null,
   "id": "42a1ea43",
   "metadata": {},
   "outputs": [],
   "source": []
  },
  {
   "cell_type": "code",
   "execution_count": null,
   "id": "deb0bbb6",
   "metadata": {},
   "outputs": [],
   "source": []
  },
  {
   "cell_type": "markdown",
   "id": "4f042ffb",
   "metadata": {},
   "source": [
    "# Data pre-processing"
   ]
  },
  {
   "cell_type": "markdown",
   "id": "d9f55ebc",
   "metadata": {},
   "source": [
    "## 1.Distance"
   ]
  },
  {
   "cell_type": "code",
   "execution_count": 92,
   "id": "8d77edc1",
   "metadata": {},
   "outputs": [
    {
     "data": {
      "application/vnd.plotly.v1+json": {
       "config": {
        "plotlyServerURL": "https://plot.ly"
       },
       "data": [
        {
         "coloraxis": "coloraxis",
         "geo": "geo",
         "hovertemplate": "orig_state_full=%{location}<br>Average Distance (miles)=%{z}<extra></extra>",
         "locationmode": "USA-states",
         "locations": [
          "Alabama",
          "Alaska",
          "Arizona",
          "Arkansas",
          "California",
          "Colorado",
          "Connecticut",
          "Delaware",
          "Florida",
          "Georgia",
          "Idaho",
          "Illinois",
          "Indiana",
          "Iowa",
          "Kansas",
          "Kentucky",
          "Louisiana",
          "Maryland",
          "Massachusetts",
          "Michigan",
          "Minnesota",
          "Mississippi",
          "Missouri",
          "Montana",
          "Nebraska",
          "Nevada",
          "New Hampshire",
          "New Jersey",
          "New Mexico",
          "New York",
          "North Carolina",
          "North Dakota",
          "Ohio",
          "Oklahoma",
          "Oregon",
          "Pennsylvania",
          "Rhode Island",
          "South Carolina",
          "Tennessee",
          "Texas",
          "Utah",
          "Vermont",
          "Virginia",
          "Washington",
          "West Virginia",
          "Wisconsin",
          "Wyoming"
         ],
         "name": "",
         "type": "choropleth",
         "z": [
          627.5539215686274,
          899.3,
          866.125,
          462.4086956521739,
          933.8596949891067,
          978.0497925311204,
          536.0036832412522,
          1209.9714285714285,
          877.0185822436339,
          664.8451776649746,
          975.7307692307693,
          591.0741687979539,
          587.2314049586777,
          923.719298245614,
          563.5554035567716,
          566.25,
          690.2549019607843,
          517.4133333333333,
          409.08755760368666,
          600.051724137931,
          719.8571428571429,
          777.38,
          509.0497925311203,
          1075.4,
          470.2682926829268,
          902.8157894736842,
          957.2869565217392,
          734.0588235294117,
          1001.4,
          791.8683333333333,
          933.4142857142857,
          389.8333333333333,
          652.4087136929461,
          581.6254826254826,
          848.5246913580247,
          673.8495575221239,
          463.725,
          896.0295857988166,
          728.4709677419355,
          794.6549019607843,
          1041.0088105726873,
          631.0568181818181,
          633.8275862068965,
          748.1423076923077,
          739.042735042735,
          647.5631067961165,
          563.8181818181819
         ]
        }
       ],
       "layout": {
        "coloraxis": {
         "colorbar": {
          "title": {
           "text": "Average Distance (miles)"
          }
         },
         "colorscale": [
          [
           0,
           "rgb(247,251,255)"
          ],
          [
           0.125,
           "rgb(222,235,247)"
          ],
          [
           0.25,
           "rgb(198,219,239)"
          ],
          [
           0.375,
           "rgb(158,202,225)"
          ],
          [
           0.5,
           "rgb(107,174,214)"
          ],
          [
           0.625,
           "rgb(66,146,198)"
          ],
          [
           0.75,
           "rgb(33,113,181)"
          ],
          [
           0.875,
           "rgb(8,81,156)"
          ],
          [
           1,
           "rgb(8,48,107)"
          ]
         ]
        },
        "geo": {
         "center": {},
         "domain": {
          "x": [
           0,
           1
          ],
          "y": [
           0,
           1
          ]
         },
         "scope": "usa"
        },
        "height": 350,
        "legend": {
         "tracegroupgap": 0
        },
        "margin": {
         "b": 0,
         "l": 0,
         "r": 0,
         "t": 0
        },
        "paper_bgcolor": "rgba(0, 0, 0, 0)",
        "plot_bgcolor": "rgba(0, 0, 0, 0)",
        "template": {
         "data": {
          "bar": [
           {
            "error_x": {
             "color": "#f2f5fa"
            },
            "error_y": {
             "color": "#f2f5fa"
            },
            "marker": {
             "line": {
              "color": "rgb(17,17,17)",
              "width": 0.5
             },
             "pattern": {
              "fillmode": "overlay",
              "size": 10,
              "solidity": 0.2
             }
            },
            "type": "bar"
           }
          ],
          "barpolar": [
           {
            "marker": {
             "line": {
              "color": "rgb(17,17,17)",
              "width": 0.5
             },
             "pattern": {
              "fillmode": "overlay",
              "size": 10,
              "solidity": 0.2
             }
            },
            "type": "barpolar"
           }
          ],
          "carpet": [
           {
            "aaxis": {
             "endlinecolor": "#A2B1C6",
             "gridcolor": "#506784",
             "linecolor": "#506784",
             "minorgridcolor": "#506784",
             "startlinecolor": "#A2B1C6"
            },
            "baxis": {
             "endlinecolor": "#A2B1C6",
             "gridcolor": "#506784",
             "linecolor": "#506784",
             "minorgridcolor": "#506784",
             "startlinecolor": "#A2B1C6"
            },
            "type": "carpet"
           }
          ],
          "choropleth": [
           {
            "colorbar": {
             "outlinewidth": 0,
             "ticks": ""
            },
            "type": "choropleth"
           }
          ],
          "contour": [
           {
            "colorbar": {
             "outlinewidth": 0,
             "ticks": ""
            },
            "colorscale": [
             [
              0,
              "#0d0887"
             ],
             [
              0.1111111111111111,
              "#46039f"
             ],
             [
              0.2222222222222222,
              "#7201a8"
             ],
             [
              0.3333333333333333,
              "#9c179e"
             ],
             [
              0.4444444444444444,
              "#bd3786"
             ],
             [
              0.5555555555555556,
              "#d8576b"
             ],
             [
              0.6666666666666666,
              "#ed7953"
             ],
             [
              0.7777777777777778,
              "#fb9f3a"
             ],
             [
              0.8888888888888888,
              "#fdca26"
             ],
             [
              1,
              "#f0f921"
             ]
            ],
            "type": "contour"
           }
          ],
          "contourcarpet": [
           {
            "colorbar": {
             "outlinewidth": 0,
             "ticks": ""
            },
            "type": "contourcarpet"
           }
          ],
          "heatmap": [
           {
            "colorbar": {
             "outlinewidth": 0,
             "ticks": ""
            },
            "colorscale": [
             [
              0,
              "#0d0887"
             ],
             [
              0.1111111111111111,
              "#46039f"
             ],
             [
              0.2222222222222222,
              "#7201a8"
             ],
             [
              0.3333333333333333,
              "#9c179e"
             ],
             [
              0.4444444444444444,
              "#bd3786"
             ],
             [
              0.5555555555555556,
              "#d8576b"
             ],
             [
              0.6666666666666666,
              "#ed7953"
             ],
             [
              0.7777777777777778,
              "#fb9f3a"
             ],
             [
              0.8888888888888888,
              "#fdca26"
             ],
             [
              1,
              "#f0f921"
             ]
            ],
            "type": "heatmap"
           }
          ],
          "heatmapgl": [
           {
            "colorbar": {
             "outlinewidth": 0,
             "ticks": ""
            },
            "colorscale": [
             [
              0,
              "#0d0887"
             ],
             [
              0.1111111111111111,
              "#46039f"
             ],
             [
              0.2222222222222222,
              "#7201a8"
             ],
             [
              0.3333333333333333,
              "#9c179e"
             ],
             [
              0.4444444444444444,
              "#bd3786"
             ],
             [
              0.5555555555555556,
              "#d8576b"
             ],
             [
              0.6666666666666666,
              "#ed7953"
             ],
             [
              0.7777777777777778,
              "#fb9f3a"
             ],
             [
              0.8888888888888888,
              "#fdca26"
             ],
             [
              1,
              "#f0f921"
             ]
            ],
            "type": "heatmapgl"
           }
          ],
          "histogram": [
           {
            "marker": {
             "pattern": {
              "fillmode": "overlay",
              "size": 10,
              "solidity": 0.2
             }
            },
            "type": "histogram"
           }
          ],
          "histogram2d": [
           {
            "colorbar": {
             "outlinewidth": 0,
             "ticks": ""
            },
            "colorscale": [
             [
              0,
              "#0d0887"
             ],
             [
              0.1111111111111111,
              "#46039f"
             ],
             [
              0.2222222222222222,
              "#7201a8"
             ],
             [
              0.3333333333333333,
              "#9c179e"
             ],
             [
              0.4444444444444444,
              "#bd3786"
             ],
             [
              0.5555555555555556,
              "#d8576b"
             ],
             [
              0.6666666666666666,
              "#ed7953"
             ],
             [
              0.7777777777777778,
              "#fb9f3a"
             ],
             [
              0.8888888888888888,
              "#fdca26"
             ],
             [
              1,
              "#f0f921"
             ]
            ],
            "type": "histogram2d"
           }
          ],
          "histogram2dcontour": [
           {
            "colorbar": {
             "outlinewidth": 0,
             "ticks": ""
            },
            "colorscale": [
             [
              0,
              "#0d0887"
             ],
             [
              0.1111111111111111,
              "#46039f"
             ],
             [
              0.2222222222222222,
              "#7201a8"
             ],
             [
              0.3333333333333333,
              "#9c179e"
             ],
             [
              0.4444444444444444,
              "#bd3786"
             ],
             [
              0.5555555555555556,
              "#d8576b"
             ],
             [
              0.6666666666666666,
              "#ed7953"
             ],
             [
              0.7777777777777778,
              "#fb9f3a"
             ],
             [
              0.8888888888888888,
              "#fdca26"
             ],
             [
              1,
              "#f0f921"
             ]
            ],
            "type": "histogram2dcontour"
           }
          ],
          "mesh3d": [
           {
            "colorbar": {
             "outlinewidth": 0,
             "ticks": ""
            },
            "type": "mesh3d"
           }
          ],
          "parcoords": [
           {
            "line": {
             "colorbar": {
              "outlinewidth": 0,
              "ticks": ""
             }
            },
            "type": "parcoords"
           }
          ],
          "pie": [
           {
            "automargin": true,
            "type": "pie"
           }
          ],
          "scatter": [
           {
            "marker": {
             "line": {
              "color": "#283442"
             }
            },
            "type": "scatter"
           }
          ],
          "scatter3d": [
           {
            "line": {
             "colorbar": {
              "outlinewidth": 0,
              "ticks": ""
             }
            },
            "marker": {
             "colorbar": {
              "outlinewidth": 0,
              "ticks": ""
             }
            },
            "type": "scatter3d"
           }
          ],
          "scattercarpet": [
           {
            "marker": {
             "colorbar": {
              "outlinewidth": 0,
              "ticks": ""
             }
            },
            "type": "scattercarpet"
           }
          ],
          "scattergeo": [
           {
            "marker": {
             "colorbar": {
              "outlinewidth": 0,
              "ticks": ""
             }
            },
            "type": "scattergeo"
           }
          ],
          "scattergl": [
           {
            "marker": {
             "line": {
              "color": "#283442"
             }
            },
            "type": "scattergl"
           }
          ],
          "scattermapbox": [
           {
            "marker": {
             "colorbar": {
              "outlinewidth": 0,
              "ticks": ""
             }
            },
            "type": "scattermapbox"
           }
          ],
          "scatterpolar": [
           {
            "marker": {
             "colorbar": {
              "outlinewidth": 0,
              "ticks": ""
             }
            },
            "type": "scatterpolar"
           }
          ],
          "scatterpolargl": [
           {
            "marker": {
             "colorbar": {
              "outlinewidth": 0,
              "ticks": ""
             }
            },
            "type": "scatterpolargl"
           }
          ],
          "scatterternary": [
           {
            "marker": {
             "colorbar": {
              "outlinewidth": 0,
              "ticks": ""
             }
            },
            "type": "scatterternary"
           }
          ],
          "surface": [
           {
            "colorbar": {
             "outlinewidth": 0,
             "ticks": ""
            },
            "colorscale": [
             [
              0,
              "#0d0887"
             ],
             [
              0.1111111111111111,
              "#46039f"
             ],
             [
              0.2222222222222222,
              "#7201a8"
             ],
             [
              0.3333333333333333,
              "#9c179e"
             ],
             [
              0.4444444444444444,
              "#bd3786"
             ],
             [
              0.5555555555555556,
              "#d8576b"
             ],
             [
              0.6666666666666666,
              "#ed7953"
             ],
             [
              0.7777777777777778,
              "#fb9f3a"
             ],
             [
              0.8888888888888888,
              "#fdca26"
             ],
             [
              1,
              "#f0f921"
             ]
            ],
            "type": "surface"
           }
          ],
          "table": [
           {
            "cells": {
             "fill": {
              "color": "#506784"
             },
             "line": {
              "color": "rgb(17,17,17)"
             }
            },
            "header": {
             "fill": {
              "color": "#2a3f5f"
             },
             "line": {
              "color": "rgb(17,17,17)"
             }
            },
            "type": "table"
           }
          ]
         },
         "layout": {
          "annotationdefaults": {
           "arrowcolor": "#f2f5fa",
           "arrowhead": 0,
           "arrowwidth": 1
          },
          "autotypenumbers": "strict",
          "coloraxis": {
           "colorbar": {
            "outlinewidth": 0,
            "ticks": ""
           }
          },
          "colorscale": {
           "diverging": [
            [
             0,
             "#8e0152"
            ],
            [
             0.1,
             "#c51b7d"
            ],
            [
             0.2,
             "#de77ae"
            ],
            [
             0.3,
             "#f1b6da"
            ],
            [
             0.4,
             "#fde0ef"
            ],
            [
             0.5,
             "#f7f7f7"
            ],
            [
             0.6,
             "#e6f5d0"
            ],
            [
             0.7,
             "#b8e186"
            ],
            [
             0.8,
             "#7fbc41"
            ],
            [
             0.9,
             "#4d9221"
            ],
            [
             1,
             "#276419"
            ]
           ],
           "sequential": [
            [
             0,
             "#0d0887"
            ],
            [
             0.1111111111111111,
             "#46039f"
            ],
            [
             0.2222222222222222,
             "#7201a8"
            ],
            [
             0.3333333333333333,
             "#9c179e"
            ],
            [
             0.4444444444444444,
             "#bd3786"
            ],
            [
             0.5555555555555556,
             "#d8576b"
            ],
            [
             0.6666666666666666,
             "#ed7953"
            ],
            [
             0.7777777777777778,
             "#fb9f3a"
            ],
            [
             0.8888888888888888,
             "#fdca26"
            ],
            [
             1,
             "#f0f921"
            ]
           ],
           "sequentialminus": [
            [
             0,
             "#0d0887"
            ],
            [
             0.1111111111111111,
             "#46039f"
            ],
            [
             0.2222222222222222,
             "#7201a8"
            ],
            [
             0.3333333333333333,
             "#9c179e"
            ],
            [
             0.4444444444444444,
             "#bd3786"
            ],
            [
             0.5555555555555556,
             "#d8576b"
            ],
            [
             0.6666666666666666,
             "#ed7953"
            ],
            [
             0.7777777777777778,
             "#fb9f3a"
            ],
            [
             0.8888888888888888,
             "#fdca26"
            ],
            [
             1,
             "#f0f921"
            ]
           ]
          },
          "colorway": [
           "#636efa",
           "#EF553B",
           "#00cc96",
           "#ab63fa",
           "#FFA15A",
           "#19d3f3",
           "#FF6692",
           "#B6E880",
           "#FF97FF",
           "#FECB52"
          ],
          "font": {
           "color": "#f2f5fa"
          },
          "geo": {
           "bgcolor": "rgb(17,17,17)",
           "lakecolor": "rgb(17,17,17)",
           "landcolor": "rgb(17,17,17)",
           "showlakes": true,
           "showland": true,
           "subunitcolor": "#506784"
          },
          "hoverlabel": {
           "align": "left"
          },
          "hovermode": "closest",
          "mapbox": {
           "style": "dark"
          },
          "paper_bgcolor": "rgb(17,17,17)",
          "plot_bgcolor": "rgb(17,17,17)",
          "polar": {
           "angularaxis": {
            "gridcolor": "#506784",
            "linecolor": "#506784",
            "ticks": ""
           },
           "bgcolor": "rgb(17,17,17)",
           "radialaxis": {
            "gridcolor": "#506784",
            "linecolor": "#506784",
            "ticks": ""
           }
          },
          "scene": {
           "xaxis": {
            "backgroundcolor": "rgb(17,17,17)",
            "gridcolor": "#506784",
            "gridwidth": 2,
            "linecolor": "#506784",
            "showbackground": true,
            "ticks": "",
            "zerolinecolor": "#C8D4E3"
           },
           "yaxis": {
            "backgroundcolor": "rgb(17,17,17)",
            "gridcolor": "#506784",
            "gridwidth": 2,
            "linecolor": "#506784",
            "showbackground": true,
            "ticks": "",
            "zerolinecolor": "#C8D4E3"
           },
           "zaxis": {
            "backgroundcolor": "rgb(17,17,17)",
            "gridcolor": "#506784",
            "gridwidth": 2,
            "linecolor": "#506784",
            "showbackground": true,
            "ticks": "",
            "zerolinecolor": "#C8D4E3"
           }
          },
          "shapedefaults": {
           "line": {
            "color": "#f2f5fa"
           }
          },
          "sliderdefaults": {
           "bgcolor": "#C8D4E3",
           "bordercolor": "rgb(17,17,17)",
           "borderwidth": 1,
           "tickwidth": 0
          },
          "ternary": {
           "aaxis": {
            "gridcolor": "#506784",
            "linecolor": "#506784",
            "ticks": ""
           },
           "baxis": {
            "gridcolor": "#506784",
            "linecolor": "#506784",
            "ticks": ""
           },
           "bgcolor": "rgb(17,17,17)",
           "caxis": {
            "gridcolor": "#506784",
            "linecolor": "#506784",
            "ticks": ""
           }
          },
          "title": {
           "x": 0.05
          },
          "updatemenudefaults": {
           "bgcolor": "#506784",
           "borderwidth": 0
          },
          "xaxis": {
           "automargin": true,
           "gridcolor": "#283442",
           "linecolor": "#506784",
           "ticks": "",
           "title": {
            "standoff": 15
           },
           "zerolinecolor": "#283442",
           "zerolinewidth": 2
          },
          "yaxis": {
           "automargin": true,
           "gridcolor": "#283442",
           "linecolor": "#506784",
           "ticks": "",
           "title": {
            "standoff": 15
           },
           "zerolinecolor": "#283442",
           "zerolinewidth": 2
          }
         }
        }
       }
      },
      "text/html": [
       "<div>                            <div id=\"705fcb53-ae1e-4bcd-8f24-7e5e41b65c8a\" class=\"plotly-graph-div\" style=\"height:350px; width:100%;\"></div>            <script type=\"text/javascript\">                require([\"plotly\"], function(Plotly) {                    window.PLOTLYENV=window.PLOTLYENV || {};                                    if (document.getElementById(\"705fcb53-ae1e-4bcd-8f24-7e5e41b65c8a\")) {                    Plotly.newPlot(                        \"705fcb53-ae1e-4bcd-8f24-7e5e41b65c8a\",                        [{\"coloraxis\":\"coloraxis\",\"geo\":\"geo\",\"hovertemplate\":\"orig_state_full=%{location}<br>Average Distance (miles)=%{z}<extra></extra>\",\"locationmode\":\"USA-states\",\"locations\":[\"Alabama\",\"Alaska\",\"Arizona\",\"Arkansas\",\"California\",\"Colorado\",\"Connecticut\",\"Delaware\",\"Florida\",\"Georgia\",\"Idaho\",\"Illinois\",\"Indiana\",\"Iowa\",\"Kansas\",\"Kentucky\",\"Louisiana\",\"Maryland\",\"Massachusetts\",\"Michigan\",\"Minnesota\",\"Mississippi\",\"Missouri\",\"Montana\",\"Nebraska\",\"Nevada\",\"New Hampshire\",\"New Jersey\",\"New Mexico\",\"New York\",\"North Carolina\",\"North Dakota\",\"Ohio\",\"Oklahoma\",\"Oregon\",\"Pennsylvania\",\"Rhode Island\",\"South Carolina\",\"Tennessee\",\"Texas\",\"Utah\",\"Vermont\",\"Virginia\",\"Washington\",\"West Virginia\",\"Wisconsin\",\"Wyoming\"],\"name\":\"\",\"z\":[627.5539215686274,899.3,866.125,462.4086956521739,933.8596949891067,978.0497925311204,536.0036832412522,1209.9714285714285,877.0185822436339,664.8451776649746,975.7307692307693,591.0741687979539,587.2314049586777,923.719298245614,563.5554035567716,566.25,690.2549019607843,517.4133333333333,409.08755760368666,600.051724137931,719.8571428571429,777.38,509.0497925311203,1075.4,470.2682926829268,902.8157894736842,957.2869565217392,734.0588235294117,1001.4,791.8683333333333,933.4142857142857,389.8333333333333,652.4087136929461,581.6254826254826,848.5246913580247,673.8495575221239,463.725,896.0295857988166,728.4709677419355,794.6549019607843,1041.0088105726873,631.0568181818181,633.8275862068965,748.1423076923077,739.042735042735,647.5631067961165,563.8181818181819],\"type\":\"choropleth\"}],                        {\"template\":{\"data\":{\"barpolar\":[{\"marker\":{\"line\":{\"color\":\"rgb(17,17,17)\",\"width\":0.5},\"pattern\":{\"fillmode\":\"overlay\",\"size\":10,\"solidity\":0.2}},\"type\":\"barpolar\"}],\"bar\":[{\"error_x\":{\"color\":\"#f2f5fa\"},\"error_y\":{\"color\":\"#f2f5fa\"},\"marker\":{\"line\":{\"color\":\"rgb(17,17,17)\",\"width\":0.5},\"pattern\":{\"fillmode\":\"overlay\",\"size\":10,\"solidity\":0.2}},\"type\":\"bar\"}],\"carpet\":[{\"aaxis\":{\"endlinecolor\":\"#A2B1C6\",\"gridcolor\":\"#506784\",\"linecolor\":\"#506784\",\"minorgridcolor\":\"#506784\",\"startlinecolor\":\"#A2B1C6\"},\"baxis\":{\"endlinecolor\":\"#A2B1C6\",\"gridcolor\":\"#506784\",\"linecolor\":\"#506784\",\"minorgridcolor\":\"#506784\",\"startlinecolor\":\"#A2B1C6\"},\"type\":\"carpet\"}],\"choropleth\":[{\"colorbar\":{\"outlinewidth\":0,\"ticks\":\"\"},\"type\":\"choropleth\"}],\"contourcarpet\":[{\"colorbar\":{\"outlinewidth\":0,\"ticks\":\"\"},\"type\":\"contourcarpet\"}],\"contour\":[{\"colorbar\":{\"outlinewidth\":0,\"ticks\":\"\"},\"colorscale\":[[0.0,\"#0d0887\"],[0.1111111111111111,\"#46039f\"],[0.2222222222222222,\"#7201a8\"],[0.3333333333333333,\"#9c179e\"],[0.4444444444444444,\"#bd3786\"],[0.5555555555555556,\"#d8576b\"],[0.6666666666666666,\"#ed7953\"],[0.7777777777777778,\"#fb9f3a\"],[0.8888888888888888,\"#fdca26\"],[1.0,\"#f0f921\"]],\"type\":\"contour\"}],\"heatmapgl\":[{\"colorbar\":{\"outlinewidth\":0,\"ticks\":\"\"},\"colorscale\":[[0.0,\"#0d0887\"],[0.1111111111111111,\"#46039f\"],[0.2222222222222222,\"#7201a8\"],[0.3333333333333333,\"#9c179e\"],[0.4444444444444444,\"#bd3786\"],[0.5555555555555556,\"#d8576b\"],[0.6666666666666666,\"#ed7953\"],[0.7777777777777778,\"#fb9f3a\"],[0.8888888888888888,\"#fdca26\"],[1.0,\"#f0f921\"]],\"type\":\"heatmapgl\"}],\"heatmap\":[{\"colorbar\":{\"outlinewidth\":0,\"ticks\":\"\"},\"colorscale\":[[0.0,\"#0d0887\"],[0.1111111111111111,\"#46039f\"],[0.2222222222222222,\"#7201a8\"],[0.3333333333333333,\"#9c179e\"],[0.4444444444444444,\"#bd3786\"],[0.5555555555555556,\"#d8576b\"],[0.6666666666666666,\"#ed7953\"],[0.7777777777777778,\"#fb9f3a\"],[0.8888888888888888,\"#fdca26\"],[1.0,\"#f0f921\"]],\"type\":\"heatmap\"}],\"histogram2dcontour\":[{\"colorbar\":{\"outlinewidth\":0,\"ticks\":\"\"},\"colorscale\":[[0.0,\"#0d0887\"],[0.1111111111111111,\"#46039f\"],[0.2222222222222222,\"#7201a8\"],[0.3333333333333333,\"#9c179e\"],[0.4444444444444444,\"#bd3786\"],[0.5555555555555556,\"#d8576b\"],[0.6666666666666666,\"#ed7953\"],[0.7777777777777778,\"#fb9f3a\"],[0.8888888888888888,\"#fdca26\"],[1.0,\"#f0f921\"]],\"type\":\"histogram2dcontour\"}],\"histogram2d\":[{\"colorbar\":{\"outlinewidth\":0,\"ticks\":\"\"},\"colorscale\":[[0.0,\"#0d0887\"],[0.1111111111111111,\"#46039f\"],[0.2222222222222222,\"#7201a8\"],[0.3333333333333333,\"#9c179e\"],[0.4444444444444444,\"#bd3786\"],[0.5555555555555556,\"#d8576b\"],[0.6666666666666666,\"#ed7953\"],[0.7777777777777778,\"#fb9f3a\"],[0.8888888888888888,\"#fdca26\"],[1.0,\"#f0f921\"]],\"type\":\"histogram2d\"}],\"histogram\":[{\"marker\":{\"pattern\":{\"fillmode\":\"overlay\",\"size\":10,\"solidity\":0.2}},\"type\":\"histogram\"}],\"mesh3d\":[{\"colorbar\":{\"outlinewidth\":0,\"ticks\":\"\"},\"type\":\"mesh3d\"}],\"parcoords\":[{\"line\":{\"colorbar\":{\"outlinewidth\":0,\"ticks\":\"\"}},\"type\":\"parcoords\"}],\"pie\":[{\"automargin\":true,\"type\":\"pie\"}],\"scatter3d\":[{\"line\":{\"colorbar\":{\"outlinewidth\":0,\"ticks\":\"\"}},\"marker\":{\"colorbar\":{\"outlinewidth\":0,\"ticks\":\"\"}},\"type\":\"scatter3d\"}],\"scattercarpet\":[{\"marker\":{\"colorbar\":{\"outlinewidth\":0,\"ticks\":\"\"}},\"type\":\"scattercarpet\"}],\"scattergeo\":[{\"marker\":{\"colorbar\":{\"outlinewidth\":0,\"ticks\":\"\"}},\"type\":\"scattergeo\"}],\"scattergl\":[{\"marker\":{\"line\":{\"color\":\"#283442\"}},\"type\":\"scattergl\"}],\"scattermapbox\":[{\"marker\":{\"colorbar\":{\"outlinewidth\":0,\"ticks\":\"\"}},\"type\":\"scattermapbox\"}],\"scatterpolargl\":[{\"marker\":{\"colorbar\":{\"outlinewidth\":0,\"ticks\":\"\"}},\"type\":\"scatterpolargl\"}],\"scatterpolar\":[{\"marker\":{\"colorbar\":{\"outlinewidth\":0,\"ticks\":\"\"}},\"type\":\"scatterpolar\"}],\"scatter\":[{\"marker\":{\"line\":{\"color\":\"#283442\"}},\"type\":\"scatter\"}],\"scatterternary\":[{\"marker\":{\"colorbar\":{\"outlinewidth\":0,\"ticks\":\"\"}},\"type\":\"scatterternary\"}],\"surface\":[{\"colorbar\":{\"outlinewidth\":0,\"ticks\":\"\"},\"colorscale\":[[0.0,\"#0d0887\"],[0.1111111111111111,\"#46039f\"],[0.2222222222222222,\"#7201a8\"],[0.3333333333333333,\"#9c179e\"],[0.4444444444444444,\"#bd3786\"],[0.5555555555555556,\"#d8576b\"],[0.6666666666666666,\"#ed7953\"],[0.7777777777777778,\"#fb9f3a\"],[0.8888888888888888,\"#fdca26\"],[1.0,\"#f0f921\"]],\"type\":\"surface\"}],\"table\":[{\"cells\":{\"fill\":{\"color\":\"#506784\"},\"line\":{\"color\":\"rgb(17,17,17)\"}},\"header\":{\"fill\":{\"color\":\"#2a3f5f\"},\"line\":{\"color\":\"rgb(17,17,17)\"}},\"type\":\"table\"}]},\"layout\":{\"annotationdefaults\":{\"arrowcolor\":\"#f2f5fa\",\"arrowhead\":0,\"arrowwidth\":1},\"autotypenumbers\":\"strict\",\"coloraxis\":{\"colorbar\":{\"outlinewidth\":0,\"ticks\":\"\"}},\"colorscale\":{\"diverging\":[[0,\"#8e0152\"],[0.1,\"#c51b7d\"],[0.2,\"#de77ae\"],[0.3,\"#f1b6da\"],[0.4,\"#fde0ef\"],[0.5,\"#f7f7f7\"],[0.6,\"#e6f5d0\"],[0.7,\"#b8e186\"],[0.8,\"#7fbc41\"],[0.9,\"#4d9221\"],[1,\"#276419\"]],\"sequential\":[[0.0,\"#0d0887\"],[0.1111111111111111,\"#46039f\"],[0.2222222222222222,\"#7201a8\"],[0.3333333333333333,\"#9c179e\"],[0.4444444444444444,\"#bd3786\"],[0.5555555555555556,\"#d8576b\"],[0.6666666666666666,\"#ed7953\"],[0.7777777777777778,\"#fb9f3a\"],[0.8888888888888888,\"#fdca26\"],[1.0,\"#f0f921\"]],\"sequentialminus\":[[0.0,\"#0d0887\"],[0.1111111111111111,\"#46039f\"],[0.2222222222222222,\"#7201a8\"],[0.3333333333333333,\"#9c179e\"],[0.4444444444444444,\"#bd3786\"],[0.5555555555555556,\"#d8576b\"],[0.6666666666666666,\"#ed7953\"],[0.7777777777777778,\"#fb9f3a\"],[0.8888888888888888,\"#fdca26\"],[1.0,\"#f0f921\"]]},\"colorway\":[\"#636efa\",\"#EF553B\",\"#00cc96\",\"#ab63fa\",\"#FFA15A\",\"#19d3f3\",\"#FF6692\",\"#B6E880\",\"#FF97FF\",\"#FECB52\"],\"font\":{\"color\":\"#f2f5fa\"},\"geo\":{\"bgcolor\":\"rgb(17,17,17)\",\"lakecolor\":\"rgb(17,17,17)\",\"landcolor\":\"rgb(17,17,17)\",\"showlakes\":true,\"showland\":true,\"subunitcolor\":\"#506784\"},\"hoverlabel\":{\"align\":\"left\"},\"hovermode\":\"closest\",\"mapbox\":{\"style\":\"dark\"},\"paper_bgcolor\":\"rgb(17,17,17)\",\"plot_bgcolor\":\"rgb(17,17,17)\",\"polar\":{\"angularaxis\":{\"gridcolor\":\"#506784\",\"linecolor\":\"#506784\",\"ticks\":\"\"},\"bgcolor\":\"rgb(17,17,17)\",\"radialaxis\":{\"gridcolor\":\"#506784\",\"linecolor\":\"#506784\",\"ticks\":\"\"}},\"scene\":{\"xaxis\":{\"backgroundcolor\":\"rgb(17,17,17)\",\"gridcolor\":\"#506784\",\"gridwidth\":2,\"linecolor\":\"#506784\",\"showbackground\":true,\"ticks\":\"\",\"zerolinecolor\":\"#C8D4E3\"},\"yaxis\":{\"backgroundcolor\":\"rgb(17,17,17)\",\"gridcolor\":\"#506784\",\"gridwidth\":2,\"linecolor\":\"#506784\",\"showbackground\":true,\"ticks\":\"\",\"zerolinecolor\":\"#C8D4E3\"},\"zaxis\":{\"backgroundcolor\":\"rgb(17,17,17)\",\"gridcolor\":\"#506784\",\"gridwidth\":2,\"linecolor\":\"#506784\",\"showbackground\":true,\"ticks\":\"\",\"zerolinecolor\":\"#C8D4E3\"}},\"shapedefaults\":{\"line\":{\"color\":\"#f2f5fa\"}},\"sliderdefaults\":{\"bgcolor\":\"#C8D4E3\",\"bordercolor\":\"rgb(17,17,17)\",\"borderwidth\":1,\"tickwidth\":0},\"ternary\":{\"aaxis\":{\"gridcolor\":\"#506784\",\"linecolor\":\"#506784\",\"ticks\":\"\"},\"baxis\":{\"gridcolor\":\"#506784\",\"linecolor\":\"#506784\",\"ticks\":\"\"},\"bgcolor\":\"rgb(17,17,17)\",\"caxis\":{\"gridcolor\":\"#506784\",\"linecolor\":\"#506784\",\"ticks\":\"\"}},\"title\":{\"x\":0.05},\"updatemenudefaults\":{\"bgcolor\":\"#506784\",\"borderwidth\":0},\"xaxis\":{\"automargin\":true,\"gridcolor\":\"#283442\",\"linecolor\":\"#506784\",\"ticks\":\"\",\"title\":{\"standoff\":15},\"zerolinecolor\":\"#283442\",\"zerolinewidth\":2},\"yaxis\":{\"automargin\":true,\"gridcolor\":\"#283442\",\"linecolor\":\"#506784\",\"ticks\":\"\",\"title\":{\"standoff\":15},\"zerolinecolor\":\"#283442\",\"zerolinewidth\":2}}},\"geo\":{\"domain\":{\"x\":[0.0,1.0],\"y\":[0.0,1.0]},\"center\":{},\"scope\":\"usa\"},\"coloraxis\":{\"colorbar\":{\"title\":{\"text\":\"Average Distance (miles)\"}},\"colorscale\":[[0.0,\"rgb(247,251,255)\"],[0.125,\"rgb(222,235,247)\"],[0.25,\"rgb(198,219,239)\"],[0.375,\"rgb(158,202,225)\"],[0.5,\"rgb(107,174,214)\"],[0.625,\"rgb(66,146,198)\"],[0.75,\"rgb(33,113,181)\"],[0.875,\"rgb(8,81,156)\"],[1.0,\"rgb(8,48,107)\"]]},\"legend\":{\"tracegroupgap\":0},\"margin\":{\"t\":0,\"l\":0,\"r\":0,\"b\":0},\"plot_bgcolor\":\"rgba(0, 0, 0, 0)\",\"paper_bgcolor\":\"rgba(0, 0, 0, 0)\",\"height\":350},                        {\"responsive\": true}                    ).then(function(){\n",
       "                            \n",
       "var gd = document.getElementById('705fcb53-ae1e-4bcd-8f24-7e5e41b65c8a');\n",
       "var x = new MutationObserver(function (mutations, observer) {{\n",
       "        var display = window.getComputedStyle(gd).display;\n",
       "        if (!display || display === 'none') {{\n",
       "            console.log([gd, 'removed!']);\n",
       "            Plotly.purge(gd);\n",
       "            observer.disconnect();\n",
       "        }}\n",
       "}});\n",
       "\n",
       "// Listen for the removal of the full notebook cells\n",
       "var notebookContainer = gd.closest('#notebook-container');\n",
       "if (notebookContainer) {{\n",
       "    x.observe(notebookContainer, {childList: true});\n",
       "}}\n",
       "\n",
       "// Listen for the clearing of the current output cell\n",
       "var outputEl = gd.closest('.output');\n",
       "if (outputEl) {{\n",
       "    x.observe(outputEl, {childList: true});\n",
       "}}\n",
       "\n",
       "                        })                };                });            </script>        </div>"
      ]
     },
     "metadata": {},
     "output_type": "display_data"
    }
   ],
   "source": [
    "import pandas as pd\n",
    "import plotly.express as px\n",
    "\n",
    "\n",
    "df = pd.read_csv('modified2_cfs_majbah_train.csv')\n",
    "\n",
    "# 每个州的平均距离\n",
    "state_avg_dist = df.groupby('orig_state_full')['gc_dist'].mean().reset_index()\n",
    "\n",
    "# 创建等值区域图\n",
    "choropleth = px.choropleth(state_avg_dist, locations='orig_state_full', color='gc_dist', locationmode=\"USA-states\",\n",
    "                           color_continuous_scale='blues',\n",
    "                           scope=\"usa\",\n",
    "                           labels={'gc_dist': 'Average Distance (miles)'}\n",
    "                          )\n",
    "choropleth.update_layout(\n",
    "    template='plotly_dark',\n",
    "    plot_bgcolor='rgba(0, 0, 0, 0)',\n",
    "    paper_bgcolor='rgba(0, 0, 0, 0)',\n",
    "    margin=dict(l=0, r=0, t=0, b=0),\n",
    "    height=350\n",
    ")\n",
    "\n",
    "\n",
    "choropleth.show()\n"
   ]
  },
  {
   "cell_type": "code",
   "execution_count": 98,
   "id": "13b4eb66",
   "metadata": {},
   "outputs": [
    {
     "data": {
      "text/html": [
       "\n",
       "        <iframe\n",
       "            width=\"100%\"\n",
       "            height=\"650\"\n",
       "            src=\"http://127.0.0.1:8050/\"\n",
       "            frameborder=\"0\"\n",
       "            allowfullscreen\n",
       "            \n",
       "        ></iframe>\n",
       "        "
      ],
      "text/plain": [
       "<IPython.lib.display.IFrame at 0x25812ff7010>"
      ]
     },
     "metadata": {},
     "output_type": "display_data"
    }
   ],
   "source": [
    "import dash\n",
    "import dash_core_components as dcc\n",
    "import dash_html_components as html\n",
    "from dash.dependencies import Input, Output\n",
    "import plotly.graph_objects as go\n",
    "import pandas as pd\n",
    "\n",
    "\n",
    "df = pd.read_csv('modified2_cfs_majbah_train.csv')\n",
    "\n",
    "# Dash 应用\n",
    "app = dash.Dash(__name__)\n",
    "\n",
    "# 应用布局\n",
    "app.layout = html.Div([\n",
    "    # 侧栏\n",
    "    html.Div([\n",
    "        # Origin State 下拉菜单\n",
    "        html.Div([\n",
    "            html.H4('Select Origin State'),\n",
    "            dcc.Dropdown(\n",
    "                id='orig_state_dropdown',\n",
    "                options=[{'label': state, 'value': state} for state in df['orig_state_full'].unique()],\n",
    "                value=df['orig_state_full'].unique()[0]\n",
    "            )\n",
    "        ], style={'width': '50%', 'display': 'inline-block'}),  # 设置为宽度的一半，使其并排显示\n",
    "\n",
    "        # Destination State 下拉菜单\n",
    "        html.Div([\n",
    "            html.H4('Select Destination State'),\n",
    "            dcc.Dropdown(\n",
    "                id='dest_state_dropdown',\n",
    "                options=[{'label': state, 'value': state} for state in df['dest_state_full'].unique()],\n",
    "                value=df['dest_state_full'].unique()[0]\n",
    "            )\n",
    "        ], style={'width': '50%', 'display': 'inline-block'})  # 设置为宽度的一半，使其并排显示\n",
    "    ], style={'width': '100%', 'float': 'left', 'display': 'inline-block'}),  # 设置侧栏的总宽度为 100%\n",
    "    \n",
    "    # 地图\n",
    "    html.Div([\n",
    "        dcc.Graph(id='choropleth_map')\n",
    "    ], style={'width': '80%', 'float': 'right', 'display': 'inline-block'})\n",
    "])\n",
    "\n",
    "# 回调函数\n",
    "@app.callback(\n",
    "    Output('choropleth_map', 'figure'),\n",
    "    [Input('orig_state_dropdown', 'value'),\n",
    "     Input('dest_state_dropdown', 'value')]\n",
    ")\n",
    "\n",
    "def update_map(orig_state_full, dest_state_full):\n",
    "        # 从全名映射到两位代码\n",
    "    states_code_o = state_abbreviations.get(orig_state_full)\n",
    "    states_code_d = state_abbreviations.get(dest_state_full)\n",
    "    \n",
    "    # 筛选数据\n",
    "    filtered_df = df[(df['orig_state_full'] == orig_state) & (df['dest_state_full'] == dest_state)]\n",
    "    # 检查筛选后的数据是否为空\n",
    "    if filtered_df.empty:\n",
    "        avg_dist = 0  # 如果没有匹配的数据，将平均距离设置为0\n",
    "    else:\n",
    "        avg_dist = filtered_df['gc_dist'].mean()\n",
    "\n",
    "    # 创建地图并高亮显示选定的州\n",
    "    fig = go.Figure(data=go.Choropleth(\n",
    "        locations=df['states_code_d'],  # 美国州的二位代码\n",
    "        z=[1 if state in [states_code_o, states_code_d] else 0 for state in df['states_code_d']],  # 高亮选定的州\n",
    "        locationmode='USA-states',\n",
    "        colorscale=[[0, 'lightgrey'], [1, 'blue']],  # 将选定的州着色为蓝色\n",
    "        showscale=False,  # 不显示颜色条\n",
    "        marker_line_color='white',  # 设置州边界的颜色\n",
    "    ))\n",
    "\n",
    "    fig.update_layout(\n",
    "        title_text=f'Great circle distance: {avg_dist:.2f} miles',\n",
    "        geo=dict(\n",
    "            scope='usa',\n",
    "            bgcolor='rgba(0,0,0,0)'  # 设置地图背景透明\n",
    "        ),\n",
    "    )\n",
    "\n",
    "    return fig\n",
    "\n",
    "# 运行\n",
    "if __name__ == '__main__':\n",
    "    app.run_server(debug=True)\n"
   ]
  },
  {
   "cell_type": "code",
   "execution_count": 100,
   "id": "fab4c76f",
   "metadata": {
    "scrolled": true
   },
   "outputs": [
    {
     "data": {
      "text/html": [
       "\n",
       "        <iframe\n",
       "            width=\"100%\"\n",
       "            height=\"650\"\n",
       "            src=\"http://127.0.0.1:8050/\"\n",
       "            frameborder=\"0\"\n",
       "            allowfullscreen\n",
       "            \n",
       "        ></iframe>\n",
       "        "
      ],
      "text/plain": [
       "<IPython.lib.display.IFrame at 0x25812ff7010>"
      ]
     },
     "metadata": {},
     "output_type": "display_data"
    }
   ],
   "source": [
    "import dash\n",
    "import dash_core_components as dcc\n",
    "import dash_html_components as html\n",
    "from dash.dependencies import Input, Output\n",
    "import plotly.graph_objects as go\n",
    "import pandas as pd\n",
    "\n",
    "df = pd.read_csv('modified2_cfs_majbah_train.csv')\n",
    "\n",
    "# Dash 应用\n",
    "app = dash.Dash(__name__)\n",
    "\n",
    "# 应用布局\n",
    "app.layout = html.Div([\n",
    "    # 侧栏\n",
    "    html.Div([\n",
    "        # Origin State 下拉菜单\n",
    "        html.Div([\n",
    "            html.H4('Select Origin State'),\n",
    "            dcc.Dropdown(\n",
    "                id='orig_state_dropdown',\n",
    "                options=[{'label': state, 'value': state} for state in df['orig_state_full'].unique()],\n",
    "                value=df['orig_state_full'].unique()[0]\n",
    "            )\n",
    "        ], style={'width': '50%', 'display': 'inline-block'}),  # 设置为宽度的一半，使其并排显示\n",
    "\n",
    "        # Destination State 下拉菜单\n",
    "        html.Div([\n",
    "            html.H4('Select Destination State'),\n",
    "            dcc.Dropdown(\n",
    "                id='dest_state_dropdown',\n",
    "                options=[{'label': state, 'value': state} for state in df['dest_state_full'].unique()],\n",
    "                value=df['dest_state_full'].unique()[0]\n",
    "            )\n",
    "        ], style={'width': '50%', 'display': 'inline-block'})  # 设置为宽度的一半，使其并排显示\n",
    "    ], style={'width': '100%', 'float': 'left', 'display': 'inline-block'}),  # 设置侧栏的总宽度为 100%\n",
    "    \n",
    "    # 地图\n",
    "    html.Div([\n",
    "        dcc.Graph(id='choropleth_map')\n",
    "    ], style={'width': '80%', 'float': 'right', 'display': 'inline-block'})\n",
    "])\n",
    "\n",
    "# 回调函数\n",
    "@app.callback(\n",
    "    Output('choropleth_map', 'figure'),\n",
    "    [Input('orig_state_dropdown', 'value'),\n",
    "     Input('dest_state_dropdown', 'value')]\n",
    ")\n",
    "\n",
    "def update_map(orig_state_full, dest_state_full):\n",
    "        # 从全名映射到两位代码\n",
    "    states_code_o = state_abbreviations.get(orig_state_full)\n",
    "    states_code_d = state_abbreviations.get(dest_state_full)\n",
    "    \n",
    "    # 筛选数据\n",
    "    filtered_df = df[(df['orig_state_full'] == orig_state) & (df['dest_state_full'] == dest_state)]\n",
    "    # 检查筛选后的数据是否为空\n",
    "    if filtered_df.empty:\n",
    "        avg_gc_dist = 0  # 如果没有匹配的数据，将great circle 设置为0\n",
    "        avg_r_dist = 0  # 如果没有匹配的数据，将平均 r 距离设置为0\n",
    "    else:\n",
    "        avg_gc_dist = filtered_df['gc_dist'].mean()  # 计算平均 great circle 距离\n",
    "        avg_r_dist = filtered_df['r_dist'].mean()  # 计算平均 r 距离\n",
    "\n",
    "    # 创建地图并高亮显示选定的州\n",
    "    fig = go.Figure(data=go.Choropleth(\n",
    "        locations=df['states_code_d'],  # 美国州的二位代码\n",
    "        z=[1 if state in [states_code_o, states_code_d] else 0 for state in df['states_code_d']],  # 高亮选定的州\n",
    "        locationmode='USA-states',\n",
    "        colorscale=[[0, 'lightgrey'], [1, 'blue']],  # 将选定的州着色为蓝色\n",
    "        showscale=False,  # 不显示颜色条\n",
    "        marker_line_color='white',  # 设置州边界的颜色\n",
    "    ))\n",
    "\n",
    "    # 更新地图布局\n",
    "    fig.update_layout(\n",
    "        title_text=f'Great circle distance: {avg_gc_dist:.2f} miles, R distance: {avg_r_dist:.2f} miles',\n",
    "        geo=dict(\n",
    "            scope='usa',\n",
    "            bgcolor='rgba(0,0,0,0)'  # 设置地图背景透明\n",
    "        ),\n",
    "    )\n",
    "    return fig\n",
    "\n",
    "# 运行\n",
    "if __name__ == '__main__':\n",
    "    app.run_server(debug=True)"
   ]
  },
  {
   "cell_type": "markdown",
   "id": "3dbee8bf",
   "metadata": {},
   "source": [
    "## 2.SV"
   ]
  },
  {
   "cell_type": "code",
   "execution_count": 127,
   "id": "3bc72390",
   "metadata": {},
   "outputs": [
    {
     "data": {
      "image/png": "[encoded data removed]",
      "text/plain": [
       "<Figure size 1000x100 with 2 Axes>"
      ]
     },
     "metadata": {},
     "output_type": "display_data"
    }
   ],
   "source": [
    "import pandas as pd\n",
    "import matplotlib.pyplot as plt\n",
    "from matplotlib.colors import Normalize\n",
    "from matplotlib.cm import ScalarMappable\n",
    "\n",
    "# 数据加载\n",
    "df = pd.read_csv('modified2_cfs_majbah_train.csv')\n",
    "\n",
    "# 输入起始和终点州\n",
    "orig_state_full = 'Tenneesse' \n",
    "dest_state_full = 'Texas' \n",
    "\n",
    "# 过滤数据，只选取符合条件的行\n",
    "filtered_df = df[(df['orig_state'] == orig_state_full) & (df['dest_state'] == dest_state_full)]\n",
    "\n",
    "# 计算货物价值\n",
    "filtered_df['cargo_value'] = filtered_df['sv'] * filtered_df['wgt_factor']\n",
    "\n",
    "# 排序\n",
    "sorted_df = filtered_df.sort_values(by='cargo_value', ascending=False)\n",
    "\n",
    "# 可视化：使用彩色进度条\n",
    "fig, ax = plt.subplots(figsize=(10, 1))\n",
    "cmap = plt.get_cmap('viridis')\n",
    "norm = Normalize(vmin=sorted_df['cargo_value'].min(), vmax=sorted_df['cargo_value'].max())\n",
    "colors = [cmap(norm(value)) for value in sorted_df['cargo_value']]\n",
    "\n",
    "bars = ax.barh([0]*len(sorted_df), sorted_df['cargo_value'], color=colors, left=0)\n",
    "ax.set_yticks([])  # 隐藏y轴刻度\n",
    "ax.set_xlabel('Cargo Value')\n",
    "plt.colorbar(ScalarMappable(norm=norm, cmap=cmap), ax=ax, orientation='vertical', label='Cargo Value')\n",
    "\n",
    "plt.show()\n"
   ]
  },
  {
   "cell_type": "code",
   "execution_count": 134,
   "id": "6577c2ba",
   "metadata": {},
   "outputs": [
    {
     "name": "stdout",
     "output_type": "stream",
     "text": [
      "Plotly Express is ready to use!\n"
     ]
    }
   ],
   "source": [
    "import plotly.express as px\n",
    "print(\"Plotly Express is ready to use!\")\n"
   ]
  },
  {
   "cell_type": "code",
   "execution_count": null,
   "id": "bd129740",
   "metadata": {},
   "outputs": [],
   "source": []
  },
  {
   "cell_type": "code",
   "execution_count": null,
   "id": "9c7d94f8",
   "metadata": {},
   "outputs": [],
   "source": []
  },
  {
   "cell_type": "code",
   "execution_count": null,
   "id": "5c0d499c",
   "metadata": {},
   "outputs": [],
   "source": []
  },
  {
   "cell_type": "code",
   "execution_count": null,
   "id": "b7a2fb5c",
   "metadata": {},
   "outputs": [],
   "source": []
  },
  {
   "cell_type": "code",
   "execution_count": null,
   "id": "01a4f508",
   "metadata": {},
   "outputs": [],
   "source": []
  },
  {
   "cell_type": "code",
   "execution_count": null,
   "id": "4a8875eb",
   "metadata": {},
   "outputs": [],
   "source": []
  },
  {
   "cell_type": "code",
   "execution_count": null,
   "id": "76b628e5",
   "metadata": {},
   "outputs": [],
   "source": []
  },
  {
   "cell_type": "code",
   "execution_count": null,
   "id": "c2e956c6",
   "metadata": {},
   "outputs": [],
   "source": []
  },
  {
   "cell_type": "code",
   "execution_count": null,
   "id": "44b5f8ea",
   "metadata": {},
   "outputs": [],
   "source": []
  },
  {
   "cell_type": "code",
   "execution_count": 105,
   "id": "761b9046",
   "metadata": {
    "collapsed": true
   },
   "outputs": [
    {
     "data": {
      "application/vnd.plotly.v1+json": {
       "config": {
        "plotlyServerURL": "https://plot.ly"
       },
       "data": [
        {
         "line": {
          "width": 20
         },
         "marker": {
          "colorscale": [
           [
            0,
            "rgb(36, 86, 104)"
           ],
           [
            0.16666666666666666,
            "rgb(15, 114, 121)"
           ],
           [
            0.3333333333333333,
            "rgb(13, 143, 129)"
           ],
           [
            0.5,
            "rgb(57, 171, 126)"
           ],
           [
            0.6666666666666666,
            "rgb(110, 197, 116)"
           ],
           [
            0.8333333333333334,
            "rgb(169, 220, 103)"
           ],
           [
            1,
            "rgb(237, 239, 93)"
           ]
          ]
         },
         "mode": "lines",
         "name": "aggrnyl",
         "type": "scatter",
         "x": [
          0,
          1
         ],
         "y": [
          1,
          1
         ]
        },
        {
         "line": {
          "width": 20
         },
         "marker": {
          "colorscale": [
           [
            0,
            "rgb(75, 41, 145)"
           ],
           [
            0.16666666666666666,
            "rgb(135, 44, 162)"
           ],
           [
            0.3333333333333333,
            "rgb(192, 54, 157)"
           ],
           [
            0.5,
            "rgb(234, 79, 136)"
           ],
           [
            0.6666666666666666,
            "rgb(250, 120, 118)"
           ],
           [
            0.8333333333333334,
            "rgb(246, 169, 122)"
           ],
           [
            1,
            "rgb(237, 217, 163)"
           ]
          ]
         },
         "mode": "lines",
         "name": "agsunset",
         "type": "scatter",
         "x": [
          1,
          2
         ],
         "y": [
          1,
          1
         ]
        },
        {
         "line": {
          "width": 20
         },
         "marker": {
          "colorscale": [
           [
            0,
            "rgb(214, 249, 207)"
           ],
           [
            0.09090909090909091,
            "rgb(186, 228, 174)"
           ],
           [
            0.18181818181818182,
            "rgb(156, 209, 143)"
           ],
           [
            0.2727272727272727,
            "rgb(124, 191, 115)"
           ],
           [
            0.36363636363636365,
            "rgb(85, 174, 91)"
           ],
           [
            0.45454545454545453,
            "rgb(37, 157, 81)"
           ],
           [
            0.5454545454545454,
            "rgb(7, 138, 78)"
           ],
           [
            0.6363636363636364,
            "rgb(13, 117, 71)"
           ],
           [
            0.7272727272727273,
            "rgb(23, 95, 61)"
           ],
           [
            0.8181818181818182,
            "rgb(25, 75, 49)"
           ],
           [
            0.9090909090909091,
            "rgb(23, 55, 35)"
           ],
           [
            1,
            "rgb(17, 36, 20)"
           ]
          ]
         },
         "mode": "lines",
         "name": "algae",
         "type": "scatter",
         "x": [
          2,
          3
         ],
         "y": [
          1,
          1
         ]
        },
        {
         "line": {
          "width": 20
         },
         "marker": {
          "colorscale": [
           [
            0,
            "rgb(241, 236, 236)"
           ],
           [
            0.09090909090909091,
            "rgb(230, 209, 203)"
           ],
           [
            0.18181818181818182,
            "rgb(221, 182, 170)"
           ],
           [
            0.2727272727272727,
            "rgb(213, 156, 137)"
           ],
           [
            0.36363636363636365,
            "rgb(205, 129, 103)"
           ],
           [
            0.45454545454545453,
            "rgb(196, 102, 73)"
           ],
           [
            0.5454545454545454,
            "rgb(186, 74, 47)"
           ],
           [
            0.6363636363636364,
            "rgb(172, 44, 36)"
           ],
           [
            0.7272727272727273,
            "rgb(149, 19, 39)"
           ],
           [
            0.8181818181818182,
            "rgb(120, 14, 40)"
           ],
           [
            0.9090909090909091,
            "rgb(89, 13, 31)"
           ],
           [
            1,
            "rgb(60, 9, 17)"
           ]
          ]
         },
         "mode": "lines",
         "name": "amp",
         "type": "scatter",
         "x": [
          3,
          4
         ],
         "y": [
          1,
          1
         ]
        },
        {
         "line": {
          "width": 20
         },
         "marker": {
          "colorscale": [
           [
            0,
            "rgb(121, 130, 52)"
           ],
           [
            0.16666666666666666,
            "rgb(163, 173, 98)"
           ],
           [
            0.3333333333333333,
            "rgb(208, 211, 162)"
           ],
           [
            0.5,
            "rgb(253, 251, 228)"
           ],
           [
            0.6666666666666666,
            "rgb(240, 198, 195)"
           ],
           [
            0.8333333333333334,
            "rgb(223, 145, 163)"
           ],
           [
            1,
            "rgb(212, 103, 128)"
           ]
          ]
         },
         "mode": "lines",
         "name": "armyrose",
         "type": "scatter",
         "x": [
          4,
          5
         ],
         "y": [
          1,
          1
         ]
        },
        {
         "line": {
          "width": 20
         },
         "marker": {
          "colorscale": [
           [
            0,
            "rgb(23, 28, 66)"
           ],
           [
            0.09090909090909091,
            "rgb(41, 58, 143)"
           ],
           [
            0.18181818181818182,
            "rgb(11, 102, 189)"
           ],
           [
            0.2727272727272727,
            "rgb(69, 144, 185)"
           ],
           [
            0.36363636363636365,
            "rgb(142, 181, 194)"
           ],
           [
            0.45454545454545453,
            "rgb(210, 216, 219)"
           ],
           [
            0.5454545454545454,
            "rgb(230, 210, 204)"
           ],
           [
            0.6363636363636364,
            "rgb(213, 157, 137)"
           ],
           [
            0.7272727272727273,
            "rgb(196, 101, 72)"
           ],
           [
            0.8181818181818182,
            "rgb(172, 43, 36)"
           ],
           [
            0.9090909090909091,
            "rgb(120, 14, 40)"
           ],
           [
            1,
            "rgb(60, 9, 17)"
           ]
          ]
         },
         "mode": "lines",
         "name": "balance",
         "type": "scatter",
         "x": [
          5,
          6
         ],
         "y": [
          1,
          1
         ]
        },
        {
         "line": {
          "width": 20
         },
         "marker": {
          "colorscale": [
           [
            0,
            "rgb(0,0,0)"
           ],
           [
            0.25,
            "rgb(230,0,0)"
           ],
           [
            0.5,
            "rgb(230,210,0)"
           ],
           [
            0.75,
            "rgb(255,255,255)"
           ],
           [
            1,
            "rgb(160,200,255)"
           ]
          ]
         },
         "mode": "lines",
         "name": "blackbody",
         "type": "scatter",
         "x": [
          6,
          7
         ],
         "y": [
          1,
          1
         ]
        },
        {
         "line": {
          "width": 20
         },
         "marker": {
          "colorscale": [
           [
            0,
            "rgb(0,0,255)"
           ],
           [
            1,
            "rgb(255,0,0)"
           ]
          ]
         },
         "mode": "lines",
         "name": "bluered",
         "type": "scatter",
         "x": [
          7,
          8
         ],
         "y": [
          1,
          1
         ]
        },
        {
         "line": {
          "width": 20
         },
         "marker": {
          "colorscale": [
           [
            0,
            "rgb(247,251,255)"
           ],
           [
            0.125,
            "rgb(222,235,247)"
           ],
           [
            0.25,
            "rgb(198,219,239)"
           ],
           [
            0.375,
            "rgb(158,202,225)"
           ],
           [
            0.5,
            "rgb(107,174,214)"
           ],
           [
            0.625,
            "rgb(66,146,198)"
           ],
           [
            0.75,
            "rgb(33,113,181)"
           ],
           [
            0.875,
            "rgb(8,81,156)"
           ],
           [
            1,
            "rgb(8,48,107)"
           ]
          ]
         },
         "mode": "lines",
         "name": "blues",
         "type": "scatter",
         "x": [
          8,
          9
         ],
         "y": [
          1,
          1
         ]
        },
        {
         "line": {
          "width": 20
         },
         "marker": {
          "colorscale": [
           [
            0,
            "rgb(196, 230, 195)"
           ],
           [
            0.16666666666666666,
            "rgb(150, 210, 164)"
           ],
           [
            0.3333333333333333,
            "rgb(109, 188, 144)"
           ],
           [
            0.5,
            "rgb(77, 162, 132)"
           ],
           [
            0.6666666666666666,
            "rgb(54, 135, 122)"
           ],
           [
            0.8333333333333334,
            "rgb(38, 107, 110)"
           ],
           [
            1,
            "rgb(29, 79, 96)"
           ]
          ]
         },
         "mode": "lines",
         "name": "blugrn",
         "type": "scatter",
         "x": [
          9,
          10
         ],
         "y": [
          1,
          1
         ]
        },
        {
         "line": {
          "width": 20
         },
         "marker": {
          "colorscale": [
           [
            0,
            "rgb(247, 254, 174)"
           ],
           [
            0.16666666666666666,
            "rgb(183, 230, 165)"
           ],
           [
            0.3333333333333333,
            "rgb(124, 203, 162)"
           ],
           [
            0.5,
            "rgb(70, 174, 160)"
           ],
           [
            0.6666666666666666,
            "rgb(8, 144, 153)"
           ],
           [
            0.8333333333333334,
            "rgb(0, 113, 139)"
           ],
           [
            1,
            "rgb(4, 82, 117)"
           ]
          ]
         },
         "mode": "lines",
         "name": "bluyl",
         "type": "scatter",
         "x": [
          10,
          11
         ],
         "y": [
          1,
          1
         ]
        },
        {
         "line": {
          "width": 20
         },
         "marker": {
          "colorscale": [
           [
            0,
            "rgb(84,48,5)"
           ],
           [
            0.1,
            "rgb(140,81,10)"
           ],
           [
            0.2,
            "rgb(191,129,45)"
           ],
           [
            0.3,
            "rgb(223,194,125)"
           ],
           [
            0.4,
            "rgb(246,232,195)"
           ],
           [
            0.5,
            "rgb(245,245,245)"
           ],
           [
            0.6,
            "rgb(199,234,229)"
           ],
           [
            0.7,
            "rgb(128,205,193)"
           ],
           [
            0.8,
            "rgb(53,151,143)"
           ],
           [
            0.9,
            "rgb(1,102,94)"
           ],
           [
            1,
            "rgb(0,60,48)"
           ]
          ]
         },
         "mode": "lines",
         "name": "brbg",
         "type": "scatter",
         "x": [
          11,
          12
         ],
         "y": [
          1,
          1
         ]
        },
        {
         "line": {
          "width": 20
         },
         "marker": {
          "colorscale": [
           [
            0,
            "rgb(237, 229, 207)"
           ],
           [
            0.16666666666666666,
            "rgb(224, 194, 162)"
           ],
           [
            0.3333333333333333,
            "rgb(211, 156, 131)"
           ],
           [
            0.5,
            "rgb(193, 118, 111)"
           ],
           [
            0.6666666666666666,
            "rgb(166, 84, 97)"
           ],
           [
            0.8333333333333334,
            "rgb(129, 55, 83)"
           ],
           [
            1,
            "rgb(84, 31, 63)"
           ]
          ]
         },
         "mode": "lines",
         "name": "brwnyl",
         "type": "scatter",
         "x": [
          12,
          13
         ],
         "y": [
          1,
          1
         ]
        },
        {
         "line": {
          "width": 20
         },
         "marker": {
          "colorscale": [
           [
            0,
            "rgb(247,252,253)"
           ],
           [
            0.125,
            "rgb(229,245,249)"
           ],
           [
            0.25,
            "rgb(204,236,230)"
           ],
           [
            0.375,
            "rgb(153,216,201)"
           ],
           [
            0.5,
            "rgb(102,194,164)"
           ],
           [
            0.625,
            "rgb(65,174,118)"
           ],
           [
            0.75,
            "rgb(35,139,69)"
           ],
           [
            0.875,
            "rgb(0,109,44)"
           ],
           [
            1,
            "rgb(0,68,27)"
           ]
          ]
         },
         "mode": "lines",
         "name": "bugn",
         "type": "scatter",
         "x": [
          13,
          14
         ],
         "y": [
          1,
          1
         ]
        },
        {
         "line": {
          "width": 20
         },
         "marker": {
          "colorscale": [
           [
            0,
            "rgb(247,252,253)"
           ],
           [
            0.125,
            "rgb(224,236,244)"
           ],
           [
            0.25,
            "rgb(191,211,230)"
           ],
           [
            0.375,
            "rgb(158,188,218)"
           ],
           [
            0.5,
            "rgb(140,150,198)"
           ],
           [
            0.625,
            "rgb(140,107,177)"
           ],
           [
            0.75,
            "rgb(136,65,157)"
           ],
           [
            0.875,
            "rgb(129,15,124)"
           ],
           [
            1,
            "rgb(77,0,75)"
           ]
          ]
         },
         "mode": "lines",
         "name": "bupu",
         "type": "scatter",
         "x": [
          14,
          15
         ],
         "y": [
          1,
          1
         ]
        },
        {
         "line": {
          "width": 20
         },
         "marker": {
          "colorscale": [
           [
            0,
            "rgb(255, 198, 196)"
           ],
           [
            0.16666666666666666,
            "rgb(244, 163, 168)"
           ],
           [
            0.3333333333333333,
            "rgb(227, 129, 145)"
           ],
           [
            0.5,
            "rgb(204, 96, 125)"
           ],
           [
            0.6666666666666666,
            "rgb(173, 70, 108)"
           ],
           [
            0.8333333333333334,
            "rgb(139, 48, 88)"
           ],
           [
            1,
            "rgb(103, 32, 68)"
           ]
          ]
         },
         "mode": "lines",
         "name": "burg",
         "type": "scatter",
         "x": [
          15,
          16
         ],
         "y": [
          1,
          1
         ]
        },
        {
         "line": {
          "width": 20
         },
         "marker": {
          "colorscale": [
           [
            0,
            "rgb(251, 230, 197)"
           ],
           [
            0.16666666666666666,
            "rgb(245, 186, 152)"
           ],
           [
            0.3333333333333333,
            "rgb(238, 138, 130)"
           ],
           [
            0.5,
            "rgb(220, 113, 118)"
           ],
           [
            0.6666666666666666,
            "rgb(200, 88, 108)"
           ],
           [
            0.8333333333333334,
            "rgb(156, 63, 93)"
           ],
           [
            1,
            "rgb(112, 40, 74)"
           ]
          ]
         },
         "mode": "lines",
         "name": "burgyl",
         "type": "scatter",
         "x": [
          16,
          17
         ],
         "y": [
          1,
          1
         ]
        },
        {
         "line": {
          "width": 20
         },
         "marker": {
          "colorscale": [
           [
            0,
            "#00224e"
           ],
           [
            0.1111111111111111,
            "#123570"
           ],
           [
            0.2222222222222222,
            "#3b496c"
           ],
           [
            0.3333333333333333,
            "#575d6d"
           ],
           [
            0.4444444444444444,
            "#707173"
           ],
           [
            0.5555555555555556,
            "#8a8678"
           ],
           [
            0.6666666666666666,
            "#a59c74"
           ],
           [
            0.7777777777777778,
            "#c3b369"
           ],
           [
            0.8888888888888888,
            "#e1cc55"
           ],
           [
            1,
            "#fee838"
           ]
          ]
         },
         "mode": "lines",
         "name": "cividis",
         "type": "scatter",
         "x": [
          17,
          18
         ],
         "y": [
          1,
          1
         ]
        },
        {
         "line": {
          "width": 20
         },
         "marker": {
          "colorscale": [
           [
            0,
            "rgb(20, 29, 67)"
           ],
           [
            0.09090909090909091,
            "rgb(28, 72, 93)"
           ],
           [
            0.18181818181818182,
            "rgb(18, 115, 117)"
           ],
           [
            0.2727272727272727,
            "rgb(63, 156, 129)"
           ],
           [
            0.36363636363636365,
            "rgb(153, 189, 156)"
           ],
           [
            0.45454545454545453,
            "rgb(223, 225, 211)"
           ],
           [
            0.5454545454545454,
            "rgb(241, 218, 206)"
           ],
           [
            0.6363636363636364,
            "rgb(224, 160, 137)"
           ],
           [
            0.7272727272727273,
            "rgb(203, 101, 99)"
           ],
           [
            0.8181818181818182,
            "rgb(164, 54, 96)"
           ],
           [
            0.9090909090909091,
            "rgb(111, 23, 91)"
           ],
           [
            1,
            "rgb(51, 13, 53)"
           ]
          ]
         },
         "mode": "lines",
         "name": "curl",
         "type": "scatter",
         "x": [
          18,
          19
         ],
         "y": [
          1,
          1
         ]
        },
        {
         "line": {
          "width": 20
         },
         "marker": {
          "colorscale": [
           [
            0,
            "rgb(210, 251, 212)"
           ],
           [
            0.16666666666666666,
            "rgb(165, 219, 194)"
           ],
           [
            0.3333333333333333,
            "rgb(123, 188, 176)"
           ],
           [
            0.5,
            "rgb(85, 156, 158)"
           ],
           [
            0.6666666666666666,
            "rgb(58, 124, 137)"
           ],
           [
            0.8333333333333334,
            "rgb(35, 93, 114)"
           ],
           [
            1,
            "rgb(18, 63, 90)"
           ]
          ]
         },
         "mode": "lines",
         "name": "darkmint",
         "type": "scatter",
         "x": [
          19,
          20
         ],
         "y": [
          1,
          1
         ]
        },
        {
         "line": {
          "width": 20
         },
         "marker": {
          "colorscale": [
           [
            0,
            "rgb(253, 253, 204)"
           ],
           [
            0.09090909090909091,
            "rgb(206, 236, 179)"
           ],
           [
            0.18181818181818182,
            "rgb(156, 219, 165)"
           ],
           [
            0.2727272727272727,
            "rgb(111, 201, 163)"
           ],
           [
            0.36363636363636365,
            "rgb(86, 177, 163)"
           ],
           [
            0.45454545454545453,
            "rgb(76, 153, 160)"
           ],
           [
            0.5454545454545454,
            "rgb(68, 130, 155)"
           ],
           [
            0.6363636363636364,
            "rgb(62, 108, 150)"
           ],
           [
            0.7272727272727273,
            "rgb(62, 82, 143)"
           ],
           [
            0.8181818181818182,
            "rgb(64, 60, 115)"
           ],
           [
            0.9090909090909091,
            "rgb(54, 43, 77)"
           ],
           [
            1,
            "rgb(39, 26, 44)"
           ]
          ]
         },
         "mode": "lines",
         "name": "deep",
         "type": "scatter",
         "x": [
          20,
          21
         ],
         "y": [
          1,
          1
         ]
        },
        {
         "line": {
          "width": 20
         },
         "marker": {
          "colorscale": [
           [
            0,
            "rgb(16, 31, 63)"
           ],
           [
            0.09090909090909091,
            "rgb(38, 62, 144)"
           ],
           [
            0.18181818181818182,
            "rgb(30, 110, 161)"
           ],
           [
            0.2727272727272727,
            "rgb(60, 154, 171)"
           ],
           [
            0.36363636363636365,
            "rgb(140, 193, 186)"
           ],
           [
            0.45454545454545453,
            "rgb(217, 229, 218)"
           ],
           [
            0.5454545454545454,
            "rgb(239, 226, 156)"
           ],
           [
            0.6363636363636364,
            "rgb(195, 182, 59)"
           ],
           [
            0.7272727272727273,
            "rgb(115, 152, 5)"
           ],
           [
            0.8181818181818182,
            "rgb(34, 120, 36)"
           ],
           [
            0.9090909090909091,
            "rgb(18, 78, 43)"
           ],
           [
            1,
            "rgb(23, 35, 18)"
           ]
          ]
         },
         "mode": "lines",
         "name": "delta",
         "type": "scatter",
         "x": [
          21,
          22
         ],
         "y": [
          1,
          1
         ]
        },
        {
         "line": {
          "width": 20
         },
         "marker": {
          "colorscale": [
           [
            0,
            "rgb(230, 240, 240)"
           ],
           [
            0.09090909090909091,
            "rgb(191, 221, 229)"
           ],
           [
            0.18181818181818182,
            "rgb(156, 201, 226)"
           ],
           [
            0.2727272727272727,
            "rgb(129, 180, 227)"
           ],
           [
            0.36363636363636365,
            "rgb(115, 154, 228)"
           ],
           [
            0.45454545454545453,
            "rgb(117, 127, 221)"
           ],
           [
            0.5454545454545454,
            "rgb(120, 100, 202)"
           ],
           [
            0.6363636363636364,
            "rgb(119, 74, 175)"
           ],
           [
            0.7272727272727273,
            "rgb(113, 50, 141)"
           ],
           [
            0.8181818181818182,
            "rgb(100, 31, 104)"
           ],
           [
            0.9090909090909091,
            "rgb(80, 20, 66)"
           ],
           [
            1,
            "rgb(54, 14, 36)"
           ]
          ]
         },
         "mode": "lines",
         "name": "dense",
         "type": "scatter",
         "x": [
          22,
          23
         ],
         "y": [
          1,
          1
         ]
        },
        {
         "line": {
          "width": 20
         },
         "marker": {
          "colorscale": [
           [
            0,
            "rgb(161, 105, 40)"
           ],
           [
            0.16666666666666666,
            "rgb(189, 146, 90)"
           ],
           [
            0.3333333333333333,
            "rgb(214, 189, 141)"
           ],
           [
            0.5,
            "rgb(237, 234, 194)"
           ],
           [
            0.6666666666666666,
            "rgb(181, 200, 184)"
           ],
           [
            0.8333333333333334,
            "rgb(121, 167, 172)"
           ],
           [
            1,
            "rgb(40, 135, 161)"
           ]
          ]
         },
         "mode": "lines",
         "name": "earth",
         "type": "scatter",
         "x": [
          23,
          24
         ],
         "y": [
          1,
          1
         ]
        },
        {
         "line": {
          "width": 20
         },
         "marker": {
          "colorscale": [
           [
            0,
            "#313131"
           ],
           [
            0.0625,
            "#3d019d"
           ],
           [
            0.125,
            "#3810dc"
           ],
           [
            0.1875,
            "#2d47f9"
           ],
           [
            0.25,
            "#2593ff"
           ],
           [
            0.3125,
            "#2adef6"
           ],
           [
            0.375,
            "#60fdfa"
           ],
           [
            0.4375,
            "#aefdff"
           ],
           [
            0.5,
            "#f3f3f1"
           ],
           [
            0.5625,
            "#fffda9"
           ],
           [
            0.625,
            "#fafd5b"
           ],
           [
            0.6875,
            "#f7da29"
           ],
           [
            0.75,
            "#ff8e25"
           ],
           [
            0.8125,
            "#f8432d"
           ],
           [
            0.875,
            "#d90d39"
           ],
           [
            0.9375,
            "#97023d"
           ],
           [
            1,
            "#313131"
           ]
          ]
         },
         "mode": "lines",
         "name": "edge",
         "type": "scatter",
         "x": [
          24,
          25
         ],
         "y": [
          1,
          1
         ]
        },
        {
         "line": {
          "width": 20
         },
         "marker": {
          "colorscale": [
           [
            0,
            "rgb(0,0,0)"
           ],
           [
            0.2,
            "rgb(30,0,100)"
           ],
           [
            0.4,
            "rgb(120,0,100)"
           ],
           [
            0.6,
            "rgb(160,90,0)"
           ],
           [
            0.8,
            "rgb(230,200,0)"
           ],
           [
            1,
            "rgb(255,250,220)"
           ]
          ]
         },
         "mode": "lines",
         "name": "electric",
         "type": "scatter",
         "x": [
          25,
          26
         ],
         "y": [
          1,
          1
         ]
        },
        {
         "line": {
          "width": 20
         },
         "marker": {
          "colorscale": [
           [
            0,
            "rgb(211, 242, 163)"
           ],
           [
            0.16666666666666666,
            "rgb(151, 225, 150)"
           ],
           [
            0.3333333333333333,
            "rgb(108, 192, 139)"
           ],
           [
            0.5,
            "rgb(76, 155, 130)"
           ],
           [
            0.6666666666666666,
            "rgb(33, 122, 121)"
           ],
           [
            0.8333333333333334,
            "rgb(16, 89, 101)"
           ],
           [
            1,
            "rgb(7, 64, 80)"
           ]
          ]
         },
         "mode": "lines",
         "name": "emrld",
         "type": "scatter",
         "x": [
          26,
          27
         ],
         "y": [
          1,
          1
         ]
        },
        {
         "line": {
          "width": 20
         },
         "marker": {
          "colorscale": [
           [
            0,
            "rgb(61, 89, 65)"
           ],
           [
            0.16666666666666666,
            "rgb(119, 136, 104)"
           ],
           [
            0.3333333333333333,
            "rgb(181, 185, 145)"
           ],
           [
            0.5,
            "rgb(246, 237, 189)"
           ],
           [
            0.6666666666666666,
            "rgb(237, 187, 138)"
           ],
           [
            0.8333333333333334,
            "rgb(222, 138, 90)"
           ],
           [
            1,
            "rgb(202, 86, 44)"
           ]
          ]
         },
         "mode": "lines",
         "name": "fall",
         "type": "scatter",
         "x": [
          27,
          28
         ],
         "y": [
          1,
          1
         ]
        },
        {
         "line": {
          "width": 20
         },
         "marker": {
          "colorscale": [
           [
            0,
            "rgb(0, 128, 128)"
           ],
           [
            0.16666666666666666,
            "rgb(112, 164, 148)"
           ],
           [
            0.3333333333333333,
            "rgb(180, 200, 168)"
           ],
           [
            0.5,
            "rgb(246, 237, 189)"
           ],
           [
            0.6666666666666666,
            "rgb(237, 187, 138)"
           ],
           [
            0.8333333333333334,
            "rgb(222, 138, 90)"
           ],
           [
            1,
            "rgb(202, 86, 44)"
           ]
          ]
         },
         "mode": "lines",
         "name": "geyser",
         "type": "scatter",
         "x": [
          28,
          29
         ],
         "y": [
          1,
          1
         ]
        },
        {
         "line": {
          "width": 20
         },
         "marker": {
          "colorscale": [
           [
            0,
            "rgb(247,252,240)"
           ],
           [
            0.125,
            "rgb(224,243,219)"
           ],
           [
            0.25,
            "rgb(204,235,197)"
           ],
           [
            0.375,
            "rgb(168,221,181)"
           ],
           [
            0.5,
            "rgb(123,204,196)"
           ],
           [
            0.625,
            "rgb(78,179,211)"
           ],
           [
            0.75,
            "rgb(43,140,190)"
           ],
           [
            0.875,
            "rgb(8,104,172)"
           ],
           [
            1,
            "rgb(8,64,129)"
           ]
          ]
         },
         "mode": "lines",
         "name": "gnbu",
         "type": "scatter",
         "x": [
          29,
          30
         ],
         "y": [
          1,
          1
         ]
        },
        {
         "line": {
          "width": 20
         },
         "marker": {
          "colorscale": [
           [
            0,
            "rgb(0, 0, 0)"
           ],
           [
            0.09090909090909091,
            "rgb(16, 16, 16)"
           ],
           [
            0.18181818181818182,
            "rgb(38, 38, 38)"
           ],
           [
            0.2727272727272727,
            "rgb(59, 59, 59)"
           ],
           [
            0.36363636363636365,
            "rgb(81, 80, 80)"
           ],
           [
            0.45454545454545453,
            "rgb(102, 101, 101)"
           ],
           [
            0.5454545454545454,
            "rgb(124, 123, 122)"
           ],
           [
            0.6363636363636364,
            "rgb(146, 146, 145)"
           ],
           [
            0.7272727272727273,
            "rgb(171, 171, 170)"
           ],
           [
            0.8181818181818182,
            "rgb(197, 197, 195)"
           ],
           [
            0.9090909090909091,
            "rgb(224, 224, 223)"
           ],
           [
            1,
            "rgb(254, 254, 253)"
           ]
          ]
         },
         "mode": "lines",
         "name": "gray",
         "type": "scatter",
         "x": [
          30,
          31
         ],
         "y": [
          1,
          1
         ]
        },
        {
         "line": {
          "width": 20
         },
         "marker": {
          "colorscale": [
           [
            0,
            "rgb(247,252,245)"
           ],
           [
            0.125,
            "rgb(229,245,224)"
           ],
           [
            0.25,
            "rgb(199,233,192)"
           ],
           [
            0.375,
            "rgb(161,217,155)"
           ],
           [
            0.5,
            "rgb(116,196,118)"
           ],
           [
            0.625,
            "rgb(65,171,93)"
           ],
           [
            0.75,
            "rgb(35,139,69)"
           ],
           [
            0.875,
            "rgb(0,109,44)"
           ],
           [
            1,
            "rgb(0,68,27)"
           ]
          ]
         },
         "mode": "lines",
         "name": "greens",
         "type": "scatter",
         "x": [
          31,
          32
         ],
         "y": [
          1,
          1
         ]
        },
        {
         "line": {
          "width": 20
         },
         "marker": {
          "colorscale": [
           [
            0,
            "rgb(255,255,255)"
           ],
           [
            0.125,
            "rgb(240,240,240)"
           ],
           [
            0.25,
            "rgb(217,217,217)"
           ],
           [
            0.375,
            "rgb(189,189,189)"
           ],
           [
            0.5,
            "rgb(150,150,150)"
           ],
           [
            0.625,
            "rgb(115,115,115)"
           ],
           [
            0.75,
            "rgb(82,82,82)"
           ],
           [
            0.875,
            "rgb(37,37,37)"
           ],
           [
            1,
            "rgb(0,0,0)"
           ]
          ]
         },
         "mode": "lines",
         "name": "greys",
         "type": "scatter",
         "x": [
          32,
          33
         ],
         "y": [
          1,
          1
         ]
        },
        {
         "line": {
          "width": 20
         },
         "marker": {
          "colorscale": [
           [
            0,
            "rgb(41, 24, 107)"
           ],
           [
            0.09090909090909091,
            "rgb(42, 35, 160)"
           ],
           [
            0.18181818181818182,
            "rgb(15, 71, 153)"
           ],
           [
            0.2727272727272727,
            "rgb(18, 95, 142)"
           ],
           [
            0.36363636363636365,
            "rgb(38, 116, 137)"
           ],
           [
            0.45454545454545453,
            "rgb(53, 136, 136)"
           ],
           [
            0.5454545454545454,
            "rgb(65, 157, 133)"
           ],
           [
            0.6363636363636364,
            "rgb(81, 178, 124)"
           ],
           [
            0.7272727272727273,
            "rgb(111, 198, 107)"
           ],
           [
            0.8181818181818182,
            "rgb(160, 214, 91)"
           ],
           [
            0.9090909090909091,
            "rgb(212, 225, 112)"
           ],
           [
            1,
            "rgb(253, 238, 153)"
           ]
          ]
         },
         "mode": "lines",
         "name": "haline",
         "type": "scatter",
         "x": [
          33,
          34
         ],
         "y": [
          1,
          1
         ]
        },
        {
         "line": {
          "width": 20
         },
         "marker": {
          "colorscale": [
           [
            0,
            "rgb(0,0,0)"
           ],
           [
            0.3333333333333333,
            "rgb(230,0,0)"
           ],
           [
            0.6666666666666666,
            "rgb(255,210,0)"
           ],
           [
            1,
            "rgb(255,255,255)"
           ]
          ]
         },
         "mode": "lines",
         "name": "hot",
         "type": "scatter",
         "x": [
          34,
          35
         ],
         "y": [
          1,
          1
         ]
        },
        {
         "line": {
          "width": 20
         },
         "marker": {
          "colorscale": [
           [
            0,
            "#ff0000"
           ],
           [
            0.1111111111111111,
            "#ffa700"
           ],
           [
            0.2222222222222222,
            "#afff00"
           ],
           [
            0.3333333333333333,
            "#08ff00"
           ],
           [
            0.4444444444444444,
            "#00ff9f"
           ],
           [
            0.5555555555555556,
            "#00b7ff"
           ],
           [
            0.6666666666666666,
            "#0010ff"
           ],
           [
            0.7777777777777778,
            "#9700ff"
           ],
           [
            0.8888888888888888,
            "#ff00bf"
           ],
           [
            1,
            "#ff0000"
           ]
          ]
         },
         "mode": "lines",
         "name": "hsv",
         "type": "scatter",
         "x": [
          35,
          36
         ],
         "y": [
          1,
          1
         ]
        },
        {
         "line": {
          "width": 20
         },
         "marker": {
          "colorscale": [
           [
            0,
            "rgb(3, 5, 18)"
           ],
           [
            0.09090909090909091,
            "rgb(25, 25, 51)"
           ],
           [
            0.18181818181818182,
            "rgb(44, 42, 87)"
           ],
           [
            0.2727272727272727,
            "rgb(58, 60, 125)"
           ],
           [
            0.36363636363636365,
            "rgb(62, 83, 160)"
           ],
           [
            0.45454545454545453,
            "rgb(62, 109, 178)"
           ],
           [
            0.5454545454545454,
            "rgb(72, 134, 187)"
           ],
           [
            0.6363636363636364,
            "rgb(89, 159, 196)"
           ],
           [
            0.7272727272727273,
            "rgb(114, 184, 205)"
           ],
           [
            0.8181818181818182,
            "rgb(149, 207, 216)"
           ],
           [
            0.9090909090909091,
            "rgb(192, 229, 232)"
           ],
           [
            1,
            "rgb(234, 252, 253)"
           ]
          ]
         },
         "mode": "lines",
         "name": "ice",
         "type": "scatter",
         "x": [
          36,
          37
         ],
         "y": [
          1,
          1
         ]
        },
        {
         "line": {
          "width": 20
         },
         "marker": {
          "colorscale": [
           [
            0,
            "#000000"
           ],
           [
            0.0625,
            "#001f4d"
           ],
           [
            0.125,
            "#003786"
           ],
           [
            0.1875,
            "#0e58a8"
           ],
           [
            0.25,
            "#217eb8"
           ],
           [
            0.3125,
            "#30a4ca"
           ],
           [
            0.375,
            "#54c8df"
           ],
           [
            0.4375,
            "#9be4ef"
           ],
           [
            0.5,
            "#e1e9d1"
           ],
           [
            0.5625,
            "#f3d573"
           ],
           [
            0.625,
            "#e7b000"
           ],
           [
            0.6875,
            "#da8200"
           ],
           [
            0.75,
            "#c65400"
           ],
           [
            0.8125,
            "#ac2301"
           ],
           [
            0.875,
            "#820000"
           ],
           [
            0.9375,
            "#4c0000"
           ],
           [
            1,
            "#000000"
           ]
          ]
         },
         "mode": "lines",
         "name": "icefire",
         "type": "scatter",
         "x": [
          37,
          38
         ],
         "y": [
          1,
          1
         ]
        },
        {
         "line": {
          "width": 20
         },
         "marker": {
          "colorscale": [
           [
            0,
            "#000004"
           ],
           [
            0.1111111111111111,
            "#1b0c41"
           ],
           [
            0.2222222222222222,
            "#4a0c6b"
           ],
           [
            0.3333333333333333,
            "#781c6d"
           ],
           [
            0.4444444444444444,
            "#a52c60"
           ],
           [
            0.5555555555555556,
            "#cf4446"
           ],
           [
            0.6666666666666666,
            "#ed6925"
           ],
           [
            0.7777777777777778,
            "#fb9b06"
           ],
           [
            0.8888888888888888,
            "#f7d13d"
           ],
           [
            1,
            "#fcffa4"
           ]
          ]
         },
         "mode": "lines",
         "name": "inferno",
         "type": "scatter",
         "x": [
          38,
          39
         ],
         "y": [
          1,
          1
         ]
        },
        {
         "line": {
          "width": 20
         },
         "marker": {
          "colorscale": [
           [
            0,
            "rgb(0,0,131)"
           ],
           [
            0.2,
            "rgb(0,60,170)"
           ],
           [
            0.4,
            "rgb(5,255,255)"
           ],
           [
            0.6,
            "rgb(255,255,0)"
           ],
           [
            0.8,
            "rgb(250,0,0)"
           ],
           [
            1,
            "rgb(128,0,0)"
           ]
          ]
         },
         "mode": "lines",
         "name": "jet",
         "type": "scatter",
         "x": [
          39,
          40
         ],
         "y": [
          1,
          1
         ]
        },
        {
         "line": {
          "width": 20
         },
         "marker": {
          "colorscale": [
           [
            0,
            "rgb(243, 203, 211)"
           ],
           [
            0.16666666666666666,
            "rgb(234, 169, 189)"
           ],
           [
            0.3333333333333333,
            "rgb(221, 136, 172)"
           ],
           [
            0.5,
            "rgb(202, 105, 157)"
           ],
           [
            0.6666666666666666,
            "rgb(177, 77, 142)"
           ],
           [
            0.8333333333333334,
            "rgb(145, 53, 125)"
           ],
           [
            1,
            "rgb(108, 33, 103)"
           ]
          ]
         },
         "mode": "lines",
         "name": "magenta",
         "type": "scatter",
         "x": [
          40,
          41
         ],
         "y": [
          1,
          1
         ]
        },
        {
         "line": {
          "width": 20
         },
         "marker": {
          "colorscale": [
           [
            0,
            "#000004"
           ],
           [
            0.1111111111111111,
            "#180f3d"
           ],
           [
            0.2222222222222222,
            "#440f76"
           ],
           [
            0.3333333333333333,
            "#721f81"
           ],
           [
            0.4444444444444444,
            "#9e2f7f"
           ],
           [
            0.5555555555555556,
            "#cd4071"
           ],
           [
            0.6666666666666666,
            "#f1605d"
           ],
           [
            0.7777777777777778,
            "#fd9668"
           ],
           [
            0.8888888888888888,
            "#feca8d"
           ],
           [
            1,
            "#fcfdbf"
           ]
          ]
         },
         "mode": "lines",
         "name": "magma",
         "type": "scatter",
         "x": [
          41,
          42
         ],
         "y": [
          1,
          1
         ]
        },
        {
         "line": {
          "width": 20
         },
         "marker": {
          "colorscale": [
           [
            0,
            "rgb(253, 237, 176)"
           ],
           [
            0.09090909090909091,
            "rgb(250, 205, 145)"
           ],
           [
            0.18181818181818182,
            "rgb(246, 173, 119)"
           ],
           [
            0.2727272727272727,
            "rgb(240, 142, 98)"
           ],
           [
            0.36363636363636365,
            "rgb(231, 109, 84)"
           ],
           [
            0.45454545454545453,
            "rgb(216, 80, 83)"
           ],
           [
            0.5454545454545454,
            "rgb(195, 56, 90)"
           ],
           [
            0.6363636363636364,
            "rgb(168, 40, 96)"
           ],
           [
            0.7272727272727273,
            "rgb(138, 29, 99)"
           ],
           [
            0.8181818181818182,
            "rgb(107, 24, 93)"
           ],
           [
            0.9090909090909091,
            "rgb(76, 21, 80)"
           ],
           [
            1,
            "rgb(47, 15, 61)"
           ]
          ]
         },
         "mode": "lines",
         "name": "matter",
         "type": "scatter",
         "x": [
          42,
          43
         ],
         "y": [
          1,
          1
         ]
        },
        {
         "line": {
          "width": 20
         },
         "marker": {
          "colorscale": [
           [
            0,
            "rgb(228, 241, 225)"
           ],
           [
            0.16666666666666666,
            "rgb(180, 217, 204)"
           ],
           [
            0.3333333333333333,
            "rgb(137, 192, 182)"
           ],
           [
            0.5,
            "rgb(99, 166, 160)"
           ],
           [
            0.6666666666666666,
            "rgb(68, 140, 138)"
           ],
           [
            0.8333333333333334,
            "rgb(40, 114, 116)"
           ],
           [
            1,
            "rgb(13, 88, 95)"
           ]
          ]
         },
         "mode": "lines",
         "name": "mint",
         "type": "scatter",
         "x": [
          43,
          44
         ],
         "y": [
          1,
          1
         ]
        },
        {
         "line": {
          "width": 20
         },
         "marker": {
          "colorscale": [
           [
            0,
            "#f884f7"
           ],
           [
            0.0625,
            "#f968c4"
           ],
           [
            0.125,
            "#ea4388"
           ],
           [
            0.1875,
            "#cf244b"
           ],
           [
            0.25,
            "#b51a15"
           ],
           [
            0.3125,
            "#bd4304"
           ],
           [
            0.375,
            "#cc6904"
           ],
           [
            0.4375,
            "#d58f04"
           ],
           [
            0.5,
            "#cfaa27"
           ],
           [
            0.5625,
            "#a19f62"
           ],
           [
            0.625,
            "#588a93"
           ],
           [
            0.6875,
            "#2269c4"
           ],
           [
            0.75,
            "#3e3ef0"
           ],
           [
            0.8125,
            "#6b4ef9"
           ],
           [
            0.875,
            "#956bfa"
           ],
           [
            0.9375,
            "#cd7dfe"
           ],
           [
            1,
            "#f884f7"
           ]
          ]
         },
         "mode": "lines",
         "name": "mrybm",
         "type": "scatter",
         "x": [
          44,
          45
         ],
         "y": [
          1,
          1
         ]
        },
        {
         "line": {
          "width": 20
         },
         "marker": {
          "colorscale": [
           [
            0,
            "#ef55f1"
           ],
           [
            0.0625,
            "#fb84ce"
           ],
           [
            0.125,
            "#fbafa1"
           ],
           [
            0.1875,
            "#fcd471"
           ],
           [
            0.25,
            "#f0ed35"
           ],
           [
            0.3125,
            "#c6e516"
           ],
           [
            0.375,
            "#96d310"
           ],
           [
            0.4375,
            "#61c10b"
           ],
           [
            0.5,
            "#31ac28"
           ],
           [
            0.5625,
            "#439064"
           ],
           [
            0.625,
            "#3d719a"
           ],
           [
            0.6875,
            "#284ec8"
           ],
           [
            0.75,
            "#2e21ea"
           ],
           [
            0.8125,
            "#6324f5"
           ],
           [
            0.875,
            "#9139fa"
           ],
           [
            0.9375,
            "#c543fa"
           ],
           [
            1,
            "#ef55f1"
           ]
          ]
         },
         "mode": "lines",
         "name": "mygbm",
         "type": "scatter",
         "x": [
          45,
          46
         ],
         "y": [
          1,
          1
         ]
        },
        {
         "line": {
          "width": 20
         },
         "marker": {
          "colorscale": [
           [
            0,
            "rgb(255,245,235)"
           ],
           [
            0.125,
            "rgb(254,230,206)"
           ],
           [
            0.25,
            "rgb(253,208,162)"
           ],
           [
            0.375,
            "rgb(253,174,107)"
           ],
           [
            0.5,
            "rgb(253,141,60)"
           ],
           [
            0.625,
            "rgb(241,105,19)"
           ],
           [
            0.75,
            "rgb(217,72,1)"
           ],
           [
            0.875,
            "rgb(166,54,3)"
           ],
           [
            1,
            "rgb(127,39,4)"
           ]
          ]
         },
         "mode": "lines",
         "name": "oranges",
         "type": "scatter",
         "x": [
          46,
          47
         ],
         "y": [
          1,
          1
         ]
        },
        {
         "line": {
          "width": 20
         },
         "marker": {
          "colorscale": [
           [
            0,
            "rgb(255,247,236)"
           ],
           [
            0.125,
            "rgb(254,232,200)"
           ],
           [
            0.25,
            "rgb(253,212,158)"
           ],
           [
            0.375,
            "rgb(253,187,132)"
           ],
           [
            0.5,
            "rgb(252,141,89)"
           ],
           [
            0.625,
            "rgb(239,101,72)"
           ],
           [
            0.75,
            "rgb(215,48,31)"
           ],
           [
            0.875,
            "rgb(179,0,0)"
           ],
           [
            1,
            "rgb(127,0,0)"
           ]
          ]
         },
         "mode": "lines",
         "name": "orrd",
         "type": "scatter",
         "x": [
          47,
          48
         ],
         "y": [
          1,
          1
         ]
        },
        {
         "line": {
          "width": 20
         },
         "marker": {
          "colorscale": [
           [
            0,
            "rgb(236, 218, 154)"
           ],
           [
            0.16666666666666666,
            "rgb(239, 196, 126)"
           ],
           [
            0.3333333333333333,
            "rgb(243, 173, 106)"
           ],
           [
            0.5,
            "rgb(247, 148, 93)"
           ],
           [
            0.6666666666666666,
            "rgb(249, 123, 87)"
           ],
           [
            0.8333333333333334,
            "rgb(246, 99, 86)"
           ],
           [
            1,
            "rgb(238, 77, 90)"
           ]
          ]
         },
         "mode": "lines",
         "name": "oryel",
         "type": "scatter",
         "x": [
          48,
          49
         ],
         "y": [
          1,
          1
         ]
        },
        {
         "line": {
          "width": 20
         },
         "marker": {
          "colorscale": [
           [
            0,
            "rgb(63, 5, 5)"
           ],
           [
            0.09090909090909091,
            "rgb(101, 6, 13)"
           ],
           [
            0.18181818181818182,
            "rgb(138, 17, 9)"
           ],
           [
            0.2727272727272727,
            "rgb(96, 95, 95)"
           ],
           [
            0.36363636363636365,
            "rgb(119, 118, 118)"
           ],
           [
            0.45454545454545453,
            "rgb(142, 141, 141)"
           ],
           [
            0.5454545454545454,
            "rgb(166, 166, 165)"
           ],
           [
            0.6363636363636364,
            "rgb(193, 192, 191)"
           ],
           [
            0.7272727272727273,
            "rgb(222, 222, 220)"
           ],
           [
            0.8181818181818182,
            "rgb(239, 248, 90)"
           ],
           [
            0.9090909090909091,
            "rgb(230, 210, 41)"
           ],
           [
            1,
            "rgb(220, 174, 25)"
           ]
          ]
         },
         "mode": "lines",
         "name": "oxy",
         "type": "scatter",
         "x": [
          49,
          50
         ],
         "y": [
          1,
          1
         ]
        },
        {
         "line": {
          "width": 20
         },
         "marker": {
          "colorscale": [
           [
            0,
            "rgb(253, 224, 197)"
           ],
           [
            0.16666666666666666,
            "rgb(250, 203, 166)"
           ],
           [
            0.3333333333333333,
            "rgb(248, 181, 139)"
           ],
           [
            0.5,
            "rgb(245, 158, 114)"
           ],
           [
            0.6666666666666666,
            "rgb(242, 133, 93)"
           ],
           [
            0.8333333333333334,
            "rgb(239, 106, 76)"
           ],
           [
            1,
            "rgb(235, 74, 64)"
           ]
          ]
         },
         "mode": "lines",
         "name": "peach",
         "type": "scatter",
         "x": [
          50,
          51
         ],
         "y": [
          1,
          1
         ]
        },
        {
         "line": {
          "width": 20
         },
         "marker": {
          "colorscale": [
           [
            0,
            "rgb(167, 119, 12)"
           ],
           [
            0.09090909090909091,
            "rgb(197, 96, 51)"
           ],
           [
            0.18181818181818182,
            "rgb(217, 67, 96)"
           ],
           [
            0.2727272727272727,
            "rgb(221, 38, 163)"
           ],
           [
            0.36363636363636365,
            "rgb(196, 59, 224)"
           ],
           [
            0.45454545454545453,
            "rgb(153, 97, 244)"
           ],
           [
            0.5454545454545454,
            "rgb(95, 127, 228)"
           ],
           [
            0.6363636363636364,
            "rgb(40, 144, 183)"
           ],
           [
            0.7272727272727273,
            "rgb(15, 151, 136)"
           ],
           [
            0.8181818181818182,
            "rgb(39, 153, 79)"
           ],
           [
            0.9090909090909091,
            "rgb(119, 141, 17)"
           ],
           [
            1,
            "rgb(167, 119, 12)"
           ]
          ]
         },
         "mode": "lines",
         "name": "phase",
         "type": "scatter",
         "x": [
          51,
          52
         ],
         "y": [
          1,
          1
         ]
        },
        {
         "line": {
          "width": 20
         },
         "marker": {
          "colorscale": [
           [
            0,
            "rgb(0,0,255)"
           ],
           [
            0.1,
            "rgb(51,153,255)"
           ],
           [
            0.2,
            "rgb(102,204,255)"
           ],
           [
            0.3,
            "rgb(153,204,255)"
           ],
           [
            0.4,
            "rgb(204,204,255)"
           ],
           [
            0.5,
            "rgb(255,255,255)"
           ],
           [
            0.6,
            "rgb(255,204,255)"
           ],
           [
            0.7,
            "rgb(255,153,255)"
           ],
           [
            0.8,
            "rgb(255,102,204)"
           ],
           [
            0.9,
            "rgb(255,102,102)"
           ],
           [
            1,
            "rgb(255,0,0)"
           ]
          ]
         },
         "mode": "lines",
         "name": "picnic",
         "type": "scatter",
         "x": [
          52,
          53
         ],
         "y": [
          1,
          1
         ]
        },
        {
         "line": {
          "width": 20
         },
         "marker": {
          "colorscale": [
           [
            0,
            "rgb(254, 246, 181)"
           ],
           [
            0.16666666666666666,
            "rgb(255, 221, 154)"
           ],
           [
            0.3333333333333333,
            "rgb(255, 194, 133)"
           ],
           [
            0.5,
            "rgb(255, 166, 121)"
           ],
           [
            0.6666666666666666,
            "rgb(250, 138, 118)"
           ],
           [
            0.8333333333333334,
            "rgb(241, 109, 122)"
           ],
           [
            1,
            "rgb(225, 83, 131)"
           ]
          ]
         },
         "mode": "lines",
         "name": "pinkyl",
         "type": "scatter",
         "x": [
          53,
          54
         ],
         "y": [
          1,
          1
         ]
        },
        {
         "line": {
          "width": 20
         },
         "marker": {
          "colorscale": [
           [
            0,
            "rgb(142,1,82)"
           ],
           [
            0.1,
            "rgb(197,27,125)"
           ],
           [
            0.2,
            "rgb(222,119,174)"
           ],
           [
            0.3,
            "rgb(241,182,218)"
           ],
           [
            0.4,
            "rgb(253,224,239)"
           ],
           [
            0.5,
            "rgb(247,247,247)"
           ],
           [
            0.6,
            "rgb(230,245,208)"
           ],
           [
            0.7,
            "rgb(184,225,134)"
           ],
           [
            0.8,
            "rgb(127,188,65)"
           ],
           [
            0.9,
            "rgb(77,146,33)"
           ],
           [
            1,
            "rgb(39,100,25)"
           ]
          ]
         },
         "mode": "lines",
         "name": "piyg",
         "type": "scatter",
         "x": [
          54,
          55
         ],
         "y": [
          1,
          1
         ]
        },
        {
         "line": {
          "width": 20
         },
         "marker": {
          "colorscale": [
           [
            0,
            "#0d0887"
           ],
           [
            0.1111111111111111,
            "#46039f"
           ],
           [
            0.2222222222222222,
            "#7201a8"
           ],
           [
            0.3333333333333333,
            "#9c179e"
           ],
           [
            0.4444444444444444,
            "#bd3786"
           ],
           [
            0.5555555555555556,
            "#d8576b"
           ],
           [
            0.6666666666666666,
            "#ed7953"
           ],
           [
            0.7777777777777778,
            "#fb9f3a"
           ],
           [
            0.8888888888888888,
            "#fdca26"
           ],
           [
            1,
            "#f0f921"
           ]
          ]
         },
         "mode": "lines",
         "name": "plasma",
         "type": "scatter",
         "x": [
          55,
          56
         ],
         "y": [
          1,
          1
         ]
        },
        {
         "line": {
          "width": 20
         },
         "marker": {
          "colorscale": [
           [
            0,
            "#0508b8"
           ],
           [
            0.08333333333333333,
            "#1910d8"
           ],
           [
            0.16666666666666666,
            "#3c19f0"
           ],
           [
            0.25,
            "#6b1cfb"
           ],
           [
            0.3333333333333333,
            "#981cfd"
           ],
           [
            0.4166666666666667,
            "#bf1cfd"
           ],
           [
            0.5,
            "#dd2bfd"
           ],
           [
            0.5833333333333334,
            "#f246fe"
           ],
           [
            0.6666666666666666,
            "#fc67fd"
           ],
           [
            0.75,
            "#fe88fc"
           ],
           [
            0.8333333333333334,
            "#fea5fd"
           ],
           [
            0.9166666666666666,
            "#febefe"
           ],
           [
            1,
            "#fec3fe"
           ]
          ]
         },
         "mode": "lines",
         "name": "plotly3",
         "type": "scatter",
         "x": [
          56,
          57
         ],
         "y": [
          1,
          1
         ]
        },
        {
         "line": {
          "width": 20
         },
         "marker": {
          "colorscale": [
           [
            0,
            "rgb(12,51,131)"
           ],
           [
            0.25,
            "rgb(10,136,186)"
           ],
           [
            0.5,
            "rgb(242,211,56)"
           ],
           [
            0.75,
            "rgb(242,143,56)"
           ],
           [
            1,
            "rgb(217,30,30)"
           ]
          ]
         },
         "mode": "lines",
         "name": "portland",
         "type": "scatter",
         "x": [
          57,
          58
         ],
         "y": [
          1,
          1
         ]
        },
        {
         "line": {
          "width": 20
         },
         "marker": {
          "colorscale": [
           [
            0,
            "rgb(64,0,75)"
           ],
           [
            0.1,
            "rgb(118,42,131)"
           ],
           [
            0.2,
            "rgb(153,112,171)"
           ],
           [
            0.3,
            "rgb(194,165,207)"
           ],
           [
            0.4,
            "rgb(231,212,232)"
           ],
           [
            0.5,
            "rgb(247,247,247)"
           ],
           [
            0.6,
            "rgb(217,240,211)"
           ],
           [
            0.7,
            "rgb(166,219,160)"
           ],
           [
            0.8,
            "rgb(90,174,97)"
           ],
           [
            0.9,
            "rgb(27,120,55)"
           ],
           [
            1,
            "rgb(0,68,27)"
           ]
          ]
         },
         "mode": "lines",
         "name": "prgn",
         "type": "scatter",
         "x": [
          58,
          59
         ],
         "y": [
          1,
          1
         ]
        },
        {
         "line": {
          "width": 20
         },
         "marker": {
          "colorscale": [
           [
            0,
            "rgb(255,247,251)"
           ],
           [
            0.125,
            "rgb(236,231,242)"
           ],
           [
            0.25,
            "rgb(208,209,230)"
           ],
           [
            0.375,
            "rgb(166,189,219)"
           ],
           [
            0.5,
            "rgb(116,169,207)"
           ],
           [
            0.625,
            "rgb(54,144,192)"
           ],
           [
            0.75,
            "rgb(5,112,176)"
           ],
           [
            0.875,
            "rgb(4,90,141)"
           ],
           [
            1,
            "rgb(2,56,88)"
           ]
          ]
         },
         "mode": "lines",
         "name": "pubu",
         "type": "scatter",
         "x": [
          59,
          60
         ],
         "y": [
          1,
          1
         ]
        },
        {
         "line": {
          "width": 20
         },
         "marker": {
          "colorscale": [
           [
            0,
            "rgb(255,247,251)"
           ],
           [
            0.125,
            "rgb(236,226,240)"
           ],
           [
            0.25,
            "rgb(208,209,230)"
           ],
           [
            0.375,
            "rgb(166,189,219)"
           ],
           [
            0.5,
            "rgb(103,169,207)"
           ],
           [
            0.625,
            "rgb(54,144,192)"
           ],
           [
            0.75,
            "rgb(2,129,138)"
           ],
           [
            0.875,
            "rgb(1,108,89)"
           ],
           [
            1,
            "rgb(1,70,54)"
           ]
          ]
         },
         "mode": "lines",
         "name": "pubugn",
         "type": "scatter",
         "x": [
          60,
          61
         ],
         "y": [
          1,
          1
         ]
        },
        {
         "line": {
          "width": 20
         },
         "marker": {
          "colorscale": [
           [
            0,
            "rgb(127,59,8)"
           ],
           [
            0.1,
            "rgb(179,88,6)"
           ],
           [
            0.2,
            "rgb(224,130,20)"
           ],
           [
            0.3,
            "rgb(253,184,99)"
           ],
           [
            0.4,
            "rgb(254,224,182)"
           ],
           [
            0.5,
            "rgb(247,247,247)"
           ],
           [
            0.6,
            "rgb(216,218,235)"
           ],
           [
            0.7,
            "rgb(178,171,210)"
           ],
           [
            0.8,
            "rgb(128,115,172)"
           ],
           [
            0.9,
            "rgb(84,39,136)"
           ],
           [
            1,
            "rgb(45,0,75)"
           ]
          ]
         },
         "mode": "lines",
         "name": "puor",
         "type": "scatter",
         "x": [
          61,
          62
         ],
         "y": [
          1,
          1
         ]
        },
        {
         "line": {
          "width": 20
         },
         "marker": {
          "colorscale": [
           [
            0,
            "rgb(247,244,249)"
           ],
           [
            0.125,
            "rgb(231,225,239)"
           ],
           [
            0.25,
            "rgb(212,185,218)"
           ],
           [
            0.375,
            "rgb(201,148,199)"
           ],
           [
            0.5,
            "rgb(223,101,176)"
           ],
           [
            0.625,
            "rgb(231,41,138)"
           ],
           [
            0.75,
            "rgb(206,18,86)"
           ],
           [
            0.875,
            "rgb(152,0,67)"
           ],
           [
            1,
            "rgb(103,0,31)"
           ]
          ]
         },
         "mode": "lines",
         "name": "purd",
         "type": "scatter",
         "x": [
          62,
          63
         ],
         "y": [
          1,
          1
         ]
        },
        {
         "line": {
          "width": 20
         },
         "marker": {
          "colorscale": [
           [
            0,
            "rgb(243, 224, 247)"
           ],
           [
            0.16666666666666666,
            "rgb(228, 199, 241)"
           ],
           [
            0.3333333333333333,
            "rgb(209, 175, 232)"
           ],
           [
            0.5,
            "rgb(185, 152, 221)"
           ],
           [
            0.6666666666666666,
            "rgb(159, 130, 206)"
           ],
           [
            0.8333333333333334,
            "rgb(130, 109, 186)"
           ],
           [
            1,
            "rgb(99, 88, 159)"
           ]
          ]
         },
         "mode": "lines",
         "name": "purp",
         "type": "scatter",
         "x": [
          63,
          64
         ],
         "y": [
          1,
          1
         ]
        },
        {
         "line": {
          "width": 20
         },
         "marker": {
          "colorscale": [
           [
            0,
            "rgb(252,251,253)"
           ],
           [
            0.125,
            "rgb(239,237,245)"
           ],
           [
            0.25,
            "rgb(218,218,235)"
           ],
           [
            0.375,
            "rgb(188,189,220)"
           ],
           [
            0.5,
            "rgb(158,154,200)"
           ],
           [
            0.625,
            "rgb(128,125,186)"
           ],
           [
            0.75,
            "rgb(106,81,163)"
           ],
           [
            0.875,
            "rgb(84,39,143)"
           ],
           [
            1,
            "rgb(63,0,125)"
           ]
          ]
         },
         "mode": "lines",
         "name": "purples",
         "type": "scatter",
         "x": [
          64,
          65
         ],
         "y": [
          1,
          1
         ]
        },
        {
         "line": {
          "width": 20
         },
         "marker": {
          "colorscale": [
           [
            0,
            "rgb(249, 221, 218)"
           ],
           [
            0.16666666666666666,
            "rgb(242, 185, 196)"
           ],
           [
            0.3333333333333333,
            "rgb(229, 151, 185)"
           ],
           [
            0.5,
            "rgb(206, 120, 179)"
           ],
           [
            0.6666666666666666,
            "rgb(173, 95, 173)"
           ],
           [
            0.8333333333333334,
            "rgb(131, 75, 160)"
           ],
           [
            1,
            "rgb(87, 59, 136)"
           ]
          ]
         },
         "mode": "lines",
         "name": "purpor",
         "type": "scatter",
         "x": [
          65,
          66
         ],
         "y": [
          1,
          1
         ]
        },
        {
         "line": {
          "width": 20
         },
         "marker": {
          "colorscale": [
           [
            0,
            "rgb(150,0,90)"
           ],
           [
            0.125,
            "rgb(0,0,200)"
           ],
           [
            0.25,
            "rgb(0,25,255)"
           ],
           [
            0.375,
            "rgb(0,152,255)"
           ],
           [
            0.5,
            "rgb(44,255,150)"
           ],
           [
            0.625,
            "rgb(151,255,0)"
           ],
           [
            0.75,
            "rgb(255,234,0)"
           ],
           [
            0.875,
            "rgb(255,111,0)"
           ],
           [
            1,
            "rgb(255,0,0)"
           ]
          ]
         },
         "mode": "lines",
         "name": "rainbow",
         "type": "scatter",
         "x": [
          66,
          67
         ],
         "y": [
          1,
          1
         ]
        },
        {
         "line": {
          "width": 20
         },
         "marker": {
          "colorscale": [
           [
            0,
            "rgb(103,0,31)"
           ],
           [
            0.1,
            "rgb(178,24,43)"
           ],
           [
            0.2,
            "rgb(214,96,77)"
           ],
           [
            0.3,
            "rgb(244,165,130)"
           ],
           [
            0.4,
            "rgb(253,219,199)"
           ],
           [
            0.5,
            "rgb(247,247,247)"
           ],
           [
            0.6,
            "rgb(209,229,240)"
           ],
           [
            0.7,
            "rgb(146,197,222)"
           ],
           [
            0.8,
            "rgb(67,147,195)"
           ],
           [
            0.9,
            "rgb(33,102,172)"
           ],
           [
            1,
            "rgb(5,48,97)"
           ]
          ]
         },
         "mode": "lines",
         "name": "rdbu",
         "type": "scatter",
         "x": [
          67,
          68
         ],
         "y": [
          1,
          1
         ]
        },
        {
         "line": {
          "width": 20
         },
         "marker": {
          "colorscale": [
           [
            0,
            "rgb(103,0,31)"
           ],
           [
            0.1,
            "rgb(178,24,43)"
           ],
           [
            0.2,
            "rgb(214,96,77)"
           ],
           [
            0.3,
            "rgb(244,165,130)"
           ],
           [
            0.4,
            "rgb(253,219,199)"
           ],
           [
            0.5,
            "rgb(255,255,255)"
           ],
           [
            0.6,
            "rgb(224,224,224)"
           ],
           [
            0.7,
            "rgb(186,186,186)"
           ],
           [
            0.8,
            "rgb(135,135,135)"
           ],
           [
            0.9,
            "rgb(77,77,77)"
           ],
           [
            1,
            "rgb(26,26,26)"
           ]
          ]
         },
         "mode": "lines",
         "name": "rdgy",
         "type": "scatter",
         "x": [
          68,
          69
         ],
         "y": [
          1,
          1
         ]
        },
        {
         "line": {
          "width": 20
         },
         "marker": {
          "colorscale": [
           [
            0,
            "rgb(255,247,243)"
           ],
           [
            0.125,
            "rgb(253,224,221)"
           ],
           [
            0.25,
            "rgb(252,197,192)"
           ],
           [
            0.375,
            "rgb(250,159,181)"
           ],
           [
            0.5,
            "rgb(247,104,161)"
           ],
           [
            0.625,
            "rgb(221,52,151)"
           ],
           [
            0.75,
            "rgb(174,1,126)"
           ],
           [
            0.875,
            "rgb(122,1,119)"
           ],
           [
            1,
            "rgb(73,0,106)"
           ]
          ]
         },
         "mode": "lines",
         "name": "rdpu",
         "type": "scatter",
         "x": [
          69,
          70
         ],
         "y": [
          1,
          1
         ]
        },
        {
         "line": {
          "width": 20
         },
         "marker": {
          "colorscale": [
           [
            0,
            "rgb(165,0,38)"
           ],
           [
            0.1,
            "rgb(215,48,39)"
           ],
           [
            0.2,
            "rgb(244,109,67)"
           ],
           [
            0.3,
            "rgb(253,174,97)"
           ],
           [
            0.4,
            "rgb(254,224,144)"
           ],
           [
            0.5,
            "rgb(255,255,191)"
           ],
           [
            0.6,
            "rgb(224,243,248)"
           ],
           [
            0.7,
            "rgb(171,217,233)"
           ],
           [
            0.8,
            "rgb(116,173,209)"
           ],
           [
            0.9,
            "rgb(69,117,180)"
           ],
           [
            1,
            "rgb(49,54,149)"
           ]
          ]
         },
         "mode": "lines",
         "name": "rdylbu",
         "type": "scatter",
         "x": [
          70,
          71
         ],
         "y": [
          1,
          1
         ]
        },
        {
         "line": {
          "width": 20
         },
         "marker": {
          "colorscale": [
           [
            0,
            "rgb(165,0,38)"
           ],
           [
            0.1,
            "rgb(215,48,39)"
           ],
           [
            0.2,
            "rgb(244,109,67)"
           ],
           [
            0.3,
            "rgb(253,174,97)"
           ],
           [
            0.4,
            "rgb(254,224,139)"
           ],
           [
            0.5,
            "rgb(255,255,191)"
           ],
           [
            0.6,
            "rgb(217,239,139)"
           ],
           [
            0.7,
            "rgb(166,217,106)"
           ],
           [
            0.8,
            "rgb(102,189,99)"
           ],
           [
            0.9,
            "rgb(26,152,80)"
           ],
           [
            1,
            "rgb(0,104,55)"
           ]
          ]
         },
         "mode": "lines",
         "name": "rdylgn",
         "type": "scatter",
         "x": [
          71,
          72
         ],
         "y": [
          1,
          1
         ]
        },
        {
         "line": {
          "width": 20
         },
         "marker": {
          "colorscale": [
           [
            0,
            "rgb(246, 210, 169)"
           ],
           [
            0.16666666666666666,
            "rgb(245, 183, 142)"
           ],
           [
            0.3333333333333333,
            "rgb(241, 156, 124)"
           ],
           [
            0.5,
            "rgb(234, 129, 113)"
           ],
           [
            0.6666666666666666,
            "rgb(221, 104, 108)"
           ],
           [
            0.8333333333333334,
            "rgb(202, 82, 104)"
           ],
           [
            1,
            "rgb(177, 63, 100)"
           ]
          ]
         },
         "mode": "lines",
         "name": "redor",
         "type": "scatter",
         "x": [
          72,
          73
         ],
         "y": [
          1,
          1
         ]
        },
        {
         "line": {
          "width": 20
         },
         "marker": {
          "colorscale": [
           [
            0,
            "rgb(255,245,240)"
           ],
           [
            0.125,
            "rgb(254,224,210)"
           ],
           [
            0.25,
            "rgb(252,187,161)"
           ],
           [
            0.375,
            "rgb(252,146,114)"
           ],
           [
            0.5,
            "rgb(251,106,74)"
           ],
           [
            0.625,
            "rgb(239,59,44)"
           ],
           [
            0.75,
            "rgb(203,24,29)"
           ],
           [
            0.875,
            "rgb(165,15,21)"
           ],
           [
            1,
            "rgb(103,0,13)"
           ]
          ]
         },
         "mode": "lines",
         "name": "reds",
         "type": "scatter",
         "x": [
          73,
          74
         ],
         "y": [
          1,
          1
         ]
        },
        {
         "line": {
          "width": 20
         },
         "marker": {
          "colorscale": [
           [
            0,
            "rgb(51, 19, 23)"
           ],
           [
            0.09090909090909091,
            "rgb(79, 28, 33)"
           ],
           [
            0.18181818181818182,
            "rgb(108, 36, 36)"
           ],
           [
            0.2727272727272727,
            "rgb(135, 47, 32)"
           ],
           [
            0.36363636363636365,
            "rgb(157, 66, 25)"
           ],
           [
            0.45454545454545453,
            "rgb(174, 88, 20)"
           ],
           [
            0.5454545454545454,
            "rgb(188, 111, 19)"
           ],
           [
            0.6363636363636364,
            "rgb(199, 137, 22)"
           ],
           [
            0.7272727272727273,
            "rgb(209, 164, 32)"
           ],
           [
            0.8181818181818182,
            "rgb(217, 192, 44)"
           ],
           [
            0.9090909090909091,
            "rgb(222, 222, 59)"
           ],
           [
            1,
            "rgb(224, 253, 74)"
           ]
          ]
         },
         "mode": "lines",
         "name": "solar",
         "type": "scatter",
         "x": [
          74,
          75
         ],
         "y": [
          1,
          1
         ]
        },
        {
         "line": {
          "width": 20
         },
         "marker": {
          "colorscale": [
           [
            0,
            "rgb(158,1,66)"
           ],
           [
            0.1,
            "rgb(213,62,79)"
           ],
           [
            0.2,
            "rgb(244,109,67)"
           ],
           [
            0.3,
            "rgb(253,174,97)"
           ],
           [
            0.4,
            "rgb(254,224,139)"
           ],
           [
            0.5,
            "rgb(255,255,191)"
           ],
           [
            0.6,
            "rgb(230,245,152)"
           ],
           [
            0.7,
            "rgb(171,221,164)"
           ],
           [
            0.8,
            "rgb(102,194,165)"
           ],
           [
            0.9,
            "rgb(50,136,189)"
           ],
           [
            1,
            "rgb(94,79,162)"
           ]
          ]
         },
         "mode": "lines",
         "name": "spectral",
         "type": "scatter",
         "x": [
          75,
          76
         ],
         "y": [
          1,
          1
         ]
        },
        {
         "line": {
          "width": 20
         },
         "marker": {
          "colorscale": [
           [
            0,
            "rgb(254, 252, 205)"
           ],
           [
            0.09090909090909091,
            "rgb(239, 225, 156)"
           ],
           [
            0.18181818181818182,
            "rgb(221, 201, 106)"
           ],
           [
            0.2727272727272727,
            "rgb(194, 182, 59)"
           ],
           [
            0.36363636363636365,
            "rgb(157, 167, 21)"
           ],
           [
            0.45454545454545453,
            "rgb(116, 153, 5)"
           ],
           [
            0.5454545454545454,
            "rgb(75, 138, 20)"
           ],
           [
            0.6363636363636364,
            "rgb(35, 121, 36)"
           ],
           [
            0.7272727272727273,
            "rgb(11, 100, 44)"
           ],
           [
            0.8181818181818182,
            "rgb(18, 78, 43)"
           ],
           [
            0.9090909090909091,
            "rgb(25, 56, 34)"
           ],
           [
            1,
            "rgb(23, 35, 18)"
           ]
          ]
         },
         "mode": "lines",
         "name": "speed",
         "type": "scatter",
         "x": [
          76,
          77
         ],
         "y": [
          1,
          1
         ]
        },
        {
         "line": {
          "width": 20
         },
         "marker": {
          "colorscale": [
           [
            0,
            "rgb(243, 231, 155)"
           ],
           [
            0.16666666666666666,
            "rgb(250, 196, 132)"
           ],
           [
            0.3333333333333333,
            "rgb(248, 160, 126)"
           ],
           [
            0.5,
            "rgb(235, 127, 134)"
           ],
           [
            0.6666666666666666,
            "rgb(206, 102, 147)"
           ],
           [
            0.8333333333333334,
            "rgb(160, 89, 160)"
           ],
           [
            1,
            "rgb(92, 83, 165)"
           ]
          ]
         },
         "mode": "lines",
         "name": "sunset",
         "type": "scatter",
         "x": [
          77,
          78
         ],
         "y": [
          1,
          1
         ]
        },
        {
         "line": {
          "width": 20
         },
         "marker": {
          "colorscale": [
           [
            0,
            "rgb(252, 222, 156)"
           ],
           [
            0.16666666666666666,
            "rgb(250, 164, 118)"
           ],
           [
            0.3333333333333333,
            "rgb(240, 116, 110)"
           ],
           [
            0.5,
            "rgb(227, 79, 111)"
           ],
           [
            0.6666666666666666,
            "rgb(220, 57, 119)"
           ],
           [
            0.8333333333333334,
            "rgb(185, 37, 122)"
           ],
           [
            1,
            "rgb(124, 29, 111)"
           ]
          ]
         },
         "mode": "lines",
         "name": "sunsetdark",
         "type": "scatter",
         "x": [
          78,
          79
         ],
         "y": [
          1,
          1
         ]
        },
        {
         "line": {
          "width": 20
         },
         "marker": {
          "colorscale": [
           [
            0,
            "rgb(209, 238, 234)"
           ],
           [
            0.16666666666666666,
            "rgb(168, 219, 217)"
           ],
           [
            0.3333333333333333,
            "rgb(133, 196, 201)"
           ],
           [
            0.5,
            "rgb(104, 171, 184)"
           ],
           [
            0.6666666666666666,
            "rgb(79, 144, 166)"
           ],
           [
            0.8333333333333334,
            "rgb(59, 115, 143)"
           ],
           [
            1,
            "rgb(42, 86, 116)"
           ]
          ]
         },
         "mode": "lines",
         "name": "teal",
         "type": "scatter",
         "x": [
          79,
          80
         ],
         "y": [
          1,
          1
         ]
        },
        {
         "line": {
          "width": 20
         },
         "marker": {
          "colorscale": [
           [
            0,
            "rgb(176, 242, 188)"
           ],
           [
            0.16666666666666666,
            "rgb(137, 232, 172)"
           ],
           [
            0.3333333333333333,
            "rgb(103, 219, 165)"
           ],
           [
            0.5,
            "rgb(76, 200, 163)"
           ],
           [
            0.6666666666666666,
            "rgb(56, 178, 163)"
           ],
           [
            0.8333333333333334,
            "rgb(44, 152, 160)"
           ],
           [
            1,
            "rgb(37, 125, 152)"
           ]
          ]
         },
         "mode": "lines",
         "name": "tealgrn",
         "type": "scatter",
         "x": [
          80,
          81
         ],
         "y": [
          1,
          1
         ]
        },
        {
         "line": {
          "width": 20
         },
         "marker": {
          "colorscale": [
           [
            0,
            "rgb(0, 147, 146)"
           ],
           [
            0.16666666666666666,
            "rgb(114, 170, 161)"
           ],
           [
            0.3333333333333333,
            "rgb(177, 199, 179)"
           ],
           [
            0.5,
            "rgb(241, 234, 200)"
           ],
           [
            0.6666666666666666,
            "rgb(229, 185, 173)"
           ],
           [
            0.8333333333333334,
            "rgb(217, 137, 148)"
           ],
           [
            1,
            "rgb(208, 88, 126)"
           ]
          ]
         },
         "mode": "lines",
         "name": "tealrose",
         "type": "scatter",
         "x": [
          81,
          82
         ],
         "y": [
          1,
          1
         ]
        },
        {
         "line": {
          "width": 20
         },
         "marker": {
          "colorscale": [
           [
            0,
            "rgb(254, 245, 244)"
           ],
           [
            0.09090909090909091,
            "rgb(222, 224, 210)"
           ],
           [
            0.18181818181818182,
            "rgb(189, 206, 181)"
           ],
           [
            0.2727272727272727,
            "rgb(153, 189, 156)"
           ],
           [
            0.36363636363636365,
            "rgb(110, 173, 138)"
           ],
           [
            0.45454545454545453,
            "rgb(65, 157, 129)"
           ],
           [
            0.5454545454545454,
            "rgb(25, 137, 125)"
           ],
           [
            0.6363636363636364,
            "rgb(18, 116, 117)"
           ],
           [
            0.7272727272727273,
            "rgb(25, 94, 106)"
           ],
           [
            0.8181818181818182,
            "rgb(28, 72, 93)"
           ],
           [
            0.9090909090909091,
            "rgb(25, 51, 80)"
           ],
           [
            1,
            "rgb(20, 29, 67)"
           ]
          ]
         },
         "mode": "lines",
         "name": "tempo",
         "type": "scatter",
         "x": [
          82,
          83
         ],
         "y": [
          1,
          1
         ]
        },
        {
         "line": {
          "width": 20
         },
         "marker": {
          "colorscale": [
           [
            0,
            "rgb(0, 147, 146)"
           ],
           [
            0.16666666666666666,
            "rgb(57, 177, 133)"
           ],
           [
            0.3333333333333333,
            "rgb(156, 203, 134)"
           ],
           [
            0.5,
            "rgb(233, 226, 156)"
           ],
           [
            0.6666666666666666,
            "rgb(238, 180, 121)"
           ],
           [
            0.8333333333333334,
            "rgb(232, 132, 113)"
           ],
           [
            1,
            "rgb(207, 89, 126)"
           ]
          ]
         },
         "mode": "lines",
         "name": "temps",
         "type": "scatter",
         "x": [
          83,
          84
         ],
         "y": [
          1,
          1
         ]
        },
        {
         "line": {
          "width": 20
         },
         "marker": {
          "colorscale": [
           [
            0,
            "rgb(3, 35, 51)"
           ],
           [
            0.09090909090909091,
            "rgb(13, 48, 100)"
           ],
           [
            0.18181818181818182,
            "rgb(53, 50, 155)"
           ],
           [
            0.2727272727272727,
            "rgb(93, 62, 153)"
           ],
           [
            0.36363636363636365,
            "rgb(126, 77, 143)"
           ],
           [
            0.45454545454545453,
            "rgb(158, 89, 135)"
           ],
           [
            0.5454545454545454,
            "rgb(193, 100, 121)"
           ],
           [
            0.6363636363636364,
            "rgb(225, 113, 97)"
           ],
           [
            0.7272727272727273,
            "rgb(246, 139, 69)"
           ],
           [
            0.8181818181818182,
            "rgb(251, 173, 60)"
           ],
           [
            0.9090909090909091,
            "rgb(246, 211, 70)"
           ],
           [
            1,
            "rgb(231, 250, 90)"
           ]
          ]
         },
         "mode": "lines",
         "name": "thermal",
         "type": "scatter",
         "x": [
          84,
          85
         ],
         "y": [
          1,
          1
         ]
        },
        {
         "line": {
          "width": 20
         },
         "marker": {
          "colorscale": [
           [
            0,
            "rgb(0, 155, 158)"
           ],
           [
            0.16666666666666666,
            "rgb(66, 183, 185)"
           ],
           [
            0.3333333333333333,
            "rgb(167, 211, 212)"
           ],
           [
            0.5,
            "rgb(241, 241, 241)"
           ],
           [
            0.6666666666666666,
            "rgb(228, 193, 217)"
           ],
           [
            0.8333333333333334,
            "rgb(214, 145, 193)"
           ],
           [
            1,
            "rgb(199, 93, 171)"
           ]
          ]
         },
         "mode": "lines",
         "name": "tropic",
         "type": "scatter",
         "x": [
          85,
          86
         ],
         "y": [
          1,
          1
         ]
        },
        {
         "line": {
          "width": 20
         },
         "marker": {
          "colorscale": [
           [
            0,
            "rgb(232, 245, 171)"
           ],
           [
            0.09090909090909091,
            "rgb(220, 219, 137)"
           ],
           [
            0.18181818181818182,
            "rgb(209, 193, 107)"
           ],
           [
            0.2727272727272727,
            "rgb(199, 168, 83)"
           ],
           [
            0.36363636363636365,
            "rgb(186, 143, 66)"
           ],
           [
            0.45454545454545453,
            "rgb(170, 121, 60)"
           ],
           [
            0.5454545454545454,
            "rgb(151, 103, 58)"
           ],
           [
            0.6363636363636364,
            "rgb(129, 87, 56)"
           ],
           [
            0.7272727272727273,
            "rgb(104, 72, 53)"
           ],
           [
            0.8181818181818182,
            "rgb(80, 59, 46)"
           ],
           [
            0.9090909090909091,
            "rgb(57, 45, 37)"
           ],
           [
            1,
            "rgb(34, 30, 27)"
           ]
          ]
         },
         "mode": "lines",
         "name": "turbid",
         "type": "scatter",
         "x": [
          86,
          87
         ],
         "y": [
          1,
          1
         ]
        },
        {
         "line": {
          "width": 20
         },
         "marker": {
          "colorscale": [
           [
            0,
            "#30123b"
           ],
           [
            0.07142857142857142,
            "#4145ab"
           ],
           [
            0.14285714285714285,
            "#4675ed"
           ],
           [
            0.21428571428571427,
            "#39a2fc"
           ],
           [
            0.2857142857142857,
            "#1bcfd4"
           ],
           [
            0.35714285714285715,
            "#24eca6"
           ],
           [
            0.42857142857142855,
            "#61fc6c"
           ],
           [
            0.5,
            "#a4fc3b"
           ],
           [
            0.5714285714285714,
            "#d1e834"
           ],
           [
            0.6428571428571429,
            "#f3c63a"
           ],
           [
            0.7142857142857143,
            "#fe9b2d"
           ],
           [
            0.7857142857142857,
            "#f36315"
           ],
           [
            0.8571428571428571,
            "#d93806"
           ],
           [
            0.9285714285714286,
            "#b11901"
           ],
           [
            1,
            "#7a0402"
           ]
          ]
         },
         "mode": "lines",
         "name": "turbo",
         "type": "scatter",
         "x": [
          87,
          88
         ],
         "y": [
          1,
          1
         ]
        },
        {
         "line": {
          "width": 20
         },
         "marker": {
          "colorscale": [
           [
            0,
            "#e2d9e2"
           ],
           [
            0.1111111111111111,
            "#9ebbc9"
           ],
           [
            0.2222222222222222,
            "#6785be"
           ],
           [
            0.3333333333333333,
            "#5e43a5"
           ],
           [
            0.4444444444444444,
            "#421257"
           ],
           [
            0.5555555555555556,
            "#471340"
           ],
           [
            0.6666666666666666,
            "#8e2c50"
           ],
           [
            0.7777777777777778,
            "#ba6657"
           ],
           [
            0.8888888888888888,
            "#ceac94"
           ],
           [
            1,
            "#e2d9e2"
           ]
          ]
         },
         "mode": "lines",
         "name": "twilight",
         "type": "scatter",
         "x": [
          88,
          89
         ],
         "y": [
          1,
          1
         ]
        },
        {
         "line": {
          "width": 20
         },
         "marker": {
          "colorscale": [
           [
            0,
            "#440154"
           ],
           [
            0.1111111111111111,
            "#482878"
           ],
           [
            0.2222222222222222,
            "#3e4989"
           ],
           [
            0.3333333333333333,
            "#31688e"
           ],
           [
            0.4444444444444444,
            "#26828e"
           ],
           [
            0.5555555555555556,
            "#1f9e89"
           ],
           [
            0.6666666666666666,
            "#35b779"
           ],
           [
            0.7777777777777778,
            "#6ece58"
           ],
           [
            0.8888888888888888,
            "#b5de2b"
           ],
           [
            1,
            "#fde725"
           ]
          ]
         },
         "mode": "lines",
         "name": "viridis",
         "type": "scatter",
         "x": [
          89,
          90
         ],
         "y": [
          1,
          1
         ]
        },
        {
         "line": {
          "width": 20
         },
         "marker": {
          "colorscale": [
           [
            0,
            "rgb(255,255,229)"
           ],
           [
            0.125,
            "rgb(247,252,185)"
           ],
           [
            0.25,
            "rgb(217,240,163)"
           ],
           [
            0.375,
            "rgb(173,221,142)"
           ],
           [
            0.5,
            "rgb(120,198,121)"
           ],
           [
            0.625,
            "rgb(65,171,93)"
           ],
           [
            0.75,
            "rgb(35,132,67)"
           ],
           [
            0.875,
            "rgb(0,104,55)"
           ],
           [
            1,
            "rgb(0,69,41)"
           ]
          ]
         },
         "mode": "lines",
         "name": "ylgn",
         "type": "scatter",
         "x": [
          90,
          91
         ],
         "y": [
          1,
          1
         ]
        },
        {
         "line": {
          "width": 20
         },
         "marker": {
          "colorscale": [
           [
            0,
            "rgb(255,255,217)"
           ],
           [
            0.125,
            "rgb(237,248,177)"
           ],
           [
            0.25,
            "rgb(199,233,180)"
           ],
           [
            0.375,
            "rgb(127,205,187)"
           ],
           [
            0.5,
            "rgb(65,182,196)"
           ],
           [
            0.625,
            "rgb(29,145,192)"
           ],
           [
            0.75,
            "rgb(34,94,168)"
           ],
           [
            0.875,
            "rgb(37,52,148)"
           ],
           [
            1,
            "rgb(8,29,88)"
           ]
          ]
         },
         "mode": "lines",
         "name": "ylgnbu",
         "type": "scatter",
         "x": [
          91,
          92
         ],
         "y": [
          1,
          1
         ]
        },
        {
         "line": {
          "width": 20
         },
         "marker": {
          "colorscale": [
           [
            0,
            "rgb(255,255,229)"
           ],
           [
            0.125,
            "rgb(255,247,188)"
           ],
           [
            0.25,
            "rgb(254,227,145)"
           ],
           [
            0.375,
            "rgb(254,196,79)"
           ],
           [
            0.5,
            "rgb(254,153,41)"
           ],
           [
            0.625,
            "rgb(236,112,20)"
           ],
           [
            0.75,
            "rgb(204,76,2)"
           ],
           [
            0.875,
            "rgb(153,52,4)"
           ],
           [
            1,
            "rgb(102,37,6)"
           ]
          ]
         },
         "mode": "lines",
         "name": "ylorbr",
         "type": "scatter",
         "x": [
          92,
          93
         ],
         "y": [
          1,
          1
         ]
        },
        {
         "line": {
          "width": 20
         },
         "marker": {
          "colorscale": [
           [
            0,
            "rgb(255,255,204)"
           ],
           [
            0.125,
            "rgb(255,237,160)"
           ],
           [
            0.25,
            "rgb(254,217,118)"
           ],
           [
            0.375,
            "rgb(254,178,76)"
           ],
           [
            0.5,
            "rgb(253,141,60)"
           ],
           [
            0.625,
            "rgb(252,78,42)"
           ],
           [
            0.75,
            "rgb(227,26,28)"
           ],
           [
            0.875,
            "rgb(189,0,38)"
           ],
           [
            1,
            "rgb(128,0,38)"
           ]
          ]
         },
         "mode": "lines",
         "name": "ylorrd",
         "type": "scatter",
         "x": [
          93,
          94
         ],
         "y": [
          1,
          1
         ]
        }
       ],
       "layout": {
        "template": {
         "data": {
          "candlestick": [
           {
            "decreasing": {
             "line": {
              "color": "#000033"
             }
            },
            "increasing": {
             "line": {
              "color": "#000032"
             }
            },
            "type": "candlestick"
           }
          ],
          "contour": [
           {
            "colorscale": [
             [
              0,
              "#000011"
             ],
             [
              0.1111111111111111,
              "#000012"
             ],
             [
              0.2222222222222222,
              "#000013"
             ],
             [
              0.3333333333333333,
              "#000014"
             ],
             [
              0.4444444444444444,
              "#000015"
             ],
             [
              0.5555555555555556,
              "#000016"
             ],
             [
              0.6666666666666666,
              "#000017"
             ],
             [
              0.7777777777777778,
              "#000018"
             ],
             [
              0.8888888888888888,
              "#000019"
             ],
             [
              1,
              "#000020"
             ]
            ],
            "type": "contour"
           }
          ],
          "contourcarpet": [
           {
            "colorscale": [
             [
              0,
              "#000011"
             ],
             [
              0.1111111111111111,
              "#000012"
             ],
             [
              0.2222222222222222,
              "#000013"
             ],
             [
              0.3333333333333333,
              "#000014"
             ],
             [
              0.4444444444444444,
              "#000015"
             ],
             [
              0.5555555555555556,
              "#000016"
             ],
             [
              0.6666666666666666,
              "#000017"
             ],
             [
              0.7777777777777778,
              "#000018"
             ],
             [
              0.8888888888888888,
              "#000019"
             ],
             [
              1,
              "#000020"
             ]
            ],
            "type": "contourcarpet"
           }
          ],
          "heatmap": [
           {
            "colorscale": [
             [
              0,
              "#000011"
             ],
             [
              0.1111111111111111,
              "#000012"
             ],
             [
              0.2222222222222222,
              "#000013"
             ],
             [
              0.3333333333333333,
              "#000014"
             ],
             [
              0.4444444444444444,
              "#000015"
             ],
             [
              0.5555555555555556,
              "#000016"
             ],
             [
              0.6666666666666666,
              "#000017"
             ],
             [
              0.7777777777777778,
              "#000018"
             ],
             [
              0.8888888888888888,
              "#000019"
             ],
             [
              1,
              "#000020"
             ]
            ],
            "type": "heatmap"
           }
          ],
          "histogram2d": [
           {
            "colorscale": [
             [
              0,
              "#000011"
             ],
             [
              0.1111111111111111,
              "#000012"
             ],
             [
              0.2222222222222222,
              "#000013"
             ],
             [
              0.3333333333333333,
              "#000014"
             ],
             [
              0.4444444444444444,
              "#000015"
             ],
             [
              0.5555555555555556,
              "#000016"
             ],
             [
              0.6666666666666666,
              "#000017"
             ],
             [
              0.7777777777777778,
              "#000018"
             ],
             [
              0.8888888888888888,
              "#000019"
             ],
             [
              1,
              "#000020"
             ]
            ],
            "type": "histogram2d"
           }
          ],
          "icicle": [
           {
            "textfont": {
             "color": "white"
            },
            "type": "icicle"
           }
          ],
          "sankey": [
           {
            "textfont": {
             "color": "#000036"
            },
            "type": "sankey"
           }
          ],
          "scatter": [
           {
            "marker": {
             "line": {
              "width": 0
             }
            },
            "type": "scatter"
           }
          ],
          "table": [
           {
            "cells": {
             "fill": {
              "color": "#000038"
             },
             "font": {
              "color": "#000037"
             },
             "line": {
              "color": "#000039"
             }
            },
            "header": {
             "fill": {
              "color": "#000040"
             },
             "font": {
              "color": "#000036"
             },
             "line": {
              "color": "#000039"
             }
            },
            "type": "table"
           }
          ],
          "waterfall": [
           {
            "connector": {
             "line": {
              "color": "#000036",
              "width": 2
             }
            },
            "decreasing": {
             "marker": {
              "color": "#000033"
             }
            },
            "increasing": {
             "marker": {
              "color": "#000032"
             }
            },
            "totals": {
             "marker": {
              "color": "#000034"
             }
            },
            "type": "waterfall"
           }
          ]
         },
         "layout": {
          "coloraxis": {
           "colorscale": [
            [
             0,
             "#000011"
            ],
            [
             0.1111111111111111,
             "#000012"
            ],
            [
             0.2222222222222222,
             "#000013"
            ],
            [
             0.3333333333333333,
             "#000014"
            ],
            [
             0.4444444444444444,
             "#000015"
            ],
            [
             0.5555555555555556,
             "#000016"
            ],
            [
             0.6666666666666666,
             "#000017"
            ],
            [
             0.7777777777777778,
             "#000018"
            ],
            [
             0.8888888888888888,
             "#000019"
            ],
            [
             1,
             "#000020"
            ]
           ]
          },
          "colorscale": {
           "diverging": [
            [
             0,
             "#000021"
            ],
            [
             0.1,
             "#000022"
            ],
            [
             0.2,
             "#000023"
            ],
            [
             0.3,
             "#000024"
            ],
            [
             0.4,
             "#000025"
            ],
            [
             0.5,
             "#000026"
            ],
            [
             0.6,
             "#000027"
            ],
            [
             0.7,
             "#000028"
            ],
            [
             0.8,
             "#000029"
            ],
            [
             0.9,
             "#000030"
            ],
            [
             1,
             "#000031"
            ]
           ],
           "sequential": [
            [
             0,
             "#000011"
            ],
            [
             0.1111111111111111,
             "#000012"
            ],
            [
             0.2222222222222222,
             "#000013"
            ],
            [
             0.3333333333333333,
             "#000014"
            ],
            [
             0.4444444444444444,
             "#000015"
            ],
            [
             0.5555555555555556,
             "#000016"
            ],
            [
             0.6666666666666666,
             "#000017"
            ],
            [
             0.7777777777777778,
             "#000018"
            ],
            [
             0.8888888888888888,
             "#000019"
            ],
            [
             1,
             "#000020"
            ]
           ],
           "sequentialminus": [
            [
             0,
             "#000011"
            ],
            [
             0.1111111111111111,
             "#000012"
            ],
            [
             0.2222222222222222,
             "#000013"
            ],
            [
             0.3333333333333333,
             "#000014"
            ],
            [
             0.4444444444444444,
             "#000015"
            ],
            [
             0.5555555555555556,
             "#000016"
            ],
            [
             0.6666666666666666,
             "#000017"
            ],
            [
             0.7777777777777778,
             "#000018"
            ],
            [
             0.8888888888888888,
             "#000019"
            ],
            [
             1,
             "#000020"
            ]
           ]
          },
          "colorway": [
           "#000001",
           "#000002",
           "#000003",
           "#000004",
           "#000005",
           "#000006",
           "#000007",
           "#000008",
           "#000009",
           "#000010"
          ]
         }
        },
        "title": {
         "text": "Plotly Color Scales"
        },
        "xaxis": {
         "showticklabels": false
        },
        "yaxis": {
         "range": [
          0.5,
          1.5
         ],
         "showticklabels": false
        }
       }
      },
      "text/html": [
       "<div>                            <div id=\"eeda2531-5630-4b3d-b02a-106a0f51c210\" class=\"plotly-graph-div\" style=\"height:525px; width:100%;\"></div>            <script type=\"text/javascript\">                require([\"plotly\"], function(Plotly) {                    window.PLOTLYENV=window.PLOTLYENV || {};                                    if (document.getElementById(\"eeda2531-5630-4b3d-b02a-106a0f51c210\")) {                    Plotly.newPlot(                        \"eeda2531-5630-4b3d-b02a-106a0f51c210\",                        [{\"line\":{\"width\":20},\"marker\":{\"colorscale\":[[0.0,\"rgb(36, 86, 104)\"],[0.16666666666666666,\"rgb(15, 114, 121)\"],[0.3333333333333333,\"rgb(13, 143, 129)\"],[0.5,\"rgb(57, 171, 126)\"],[0.6666666666666666,\"rgb(110, 197, 116)\"],[0.8333333333333334,\"rgb(169, 220, 103)\"],[1.0,\"rgb(237, 239, 93)\"]]},\"mode\":\"lines\",\"name\":\"aggrnyl\",\"x\":[0,1],\"y\":[1,1],\"type\":\"scatter\"},{\"line\":{\"width\":20},\"marker\":{\"colorscale\":[[0.0,\"rgb(75, 41, 145)\"],[0.16666666666666666,\"rgb(135, 44, 162)\"],[0.3333333333333333,\"rgb(192, 54, 157)\"],[0.5,\"rgb(234, 79, 136)\"],[0.6666666666666666,\"rgb(250, 120, 118)\"],[0.8333333333333334,\"rgb(246, 169, 122)\"],[1.0,\"rgb(237, 217, 163)\"]]},\"mode\":\"lines\",\"name\":\"agsunset\",\"x\":[1,2],\"y\":[1,1],\"type\":\"scatter\"},{\"line\":{\"width\":20},\"marker\":{\"colorscale\":[[0.0,\"rgb(214, 249, 207)\"],[0.09090909090909091,\"rgb(186, 228, 174)\"],[0.18181818181818182,\"rgb(156, 209, 143)\"],[0.2727272727272727,\"rgb(124, 191, 115)\"],[0.36363636363636365,\"rgb(85, 174, 91)\"],[0.45454545454545453,\"rgb(37, 157, 81)\"],[0.5454545454545454,\"rgb(7, 138, 78)\"],[0.6363636363636364,\"rgb(13, 117, 71)\"],[0.7272727272727273,\"rgb(23, 95, 61)\"],[0.8181818181818182,\"rgb(25, 75, 49)\"],[0.9090909090909091,\"rgb(23, 55, 35)\"],[1.0,\"rgb(17, 36, 20)\"]]},\"mode\":\"lines\",\"name\":\"algae\",\"x\":[2,3],\"y\":[1,1],\"type\":\"scatter\"},{\"line\":{\"width\":20},\"marker\":{\"colorscale\":[[0.0,\"rgb(241, 236, 236)\"],[0.09090909090909091,\"rgb(230, 209, 203)\"],[0.18181818181818182,\"rgb(221, 182, 170)\"],[0.2727272727272727,\"rgb(213, 156, 137)\"],[0.36363636363636365,\"rgb(205, 129, 103)\"],[0.45454545454545453,\"rgb(196, 102, 73)\"],[0.5454545454545454,\"rgb(186, 74, 47)\"],[0.6363636363636364,\"rgb(172, 44, 36)\"],[0.7272727272727273,\"rgb(149, 19, 39)\"],[0.8181818181818182,\"rgb(120, 14, 40)\"],[0.9090909090909091,\"rgb(89, 13, 31)\"],[1.0,\"rgb(60, 9, 17)\"]]},\"mode\":\"lines\",\"name\":\"amp\",\"x\":[3,4],\"y\":[1,1],\"type\":\"scatter\"},{\"line\":{\"width\":20},\"marker\":{\"colorscale\":[[0.0,\"rgb(121, 130, 52)\"],[0.16666666666666666,\"rgb(163, 173, 98)\"],[0.3333333333333333,\"rgb(208, 211, 162)\"],[0.5,\"rgb(253, 251, 228)\"],[0.6666666666666666,\"rgb(240, 198, 195)\"],[0.8333333333333334,\"rgb(223, 145, 163)\"],[1.0,\"rgb(212, 103, 128)\"]]},\"mode\":\"lines\",\"name\":\"armyrose\",\"x\":[4,5],\"y\":[1,1],\"type\":\"scatter\"},{\"line\":{\"width\":20},\"marker\":{\"colorscale\":[[0.0,\"rgb(23, 28, 66)\"],[0.09090909090909091,\"rgb(41, 58, 143)\"],[0.18181818181818182,\"rgb(11, 102, 189)\"],[0.2727272727272727,\"rgb(69, 144, 185)\"],[0.36363636363636365,\"rgb(142, 181, 194)\"],[0.45454545454545453,\"rgb(210, 216, 219)\"],[0.5454545454545454,\"rgb(230, 210, 204)\"],[0.6363636363636364,\"rgb(213, 157, 137)\"],[0.7272727272727273,\"rgb(196, 101, 72)\"],[0.8181818181818182,\"rgb(172, 43, 36)\"],[0.9090909090909091,\"rgb(120, 14, 40)\"],[1.0,\"rgb(60, 9, 17)\"]]},\"mode\":\"lines\",\"name\":\"balance\",\"x\":[5,6],\"y\":[1,1],\"type\":\"scatter\"},{\"line\":{\"width\":20},\"marker\":{\"colorscale\":[[0.0,\"rgb(0,0,0)\"],[0.25,\"rgb(230,0,0)\"],[0.5,\"rgb(230,210,0)\"],[0.75,\"rgb(255,255,255)\"],[1.0,\"rgb(160,200,255)\"]]},\"mode\":\"lines\",\"name\":\"blackbody\",\"x\":[6,7],\"y\":[1,1],\"type\":\"scatter\"},{\"line\":{\"width\":20},\"marker\":{\"colorscale\":[[0.0,\"rgb(0,0,255)\"],[1.0,\"rgb(255,0,0)\"]]},\"mode\":\"lines\",\"name\":\"bluered\",\"x\":[7,8],\"y\":[1,1],\"type\":\"scatter\"},{\"line\":{\"width\":20},\"marker\":{\"colorscale\":[[0.0,\"rgb(247,251,255)\"],[0.125,\"rgb(222,235,247)\"],[0.25,\"rgb(198,219,239)\"],[0.375,\"rgb(158,202,225)\"],[0.5,\"rgb(107,174,214)\"],[0.625,\"rgb(66,146,198)\"],[0.75,\"rgb(33,113,181)\"],[0.875,\"rgb(8,81,156)\"],[1.0,\"rgb(8,48,107)\"]]},\"mode\":\"lines\",\"name\":\"blues\",\"x\":[8,9],\"y\":[1,1],\"type\":\"scatter\"},{\"line\":{\"width\":20},\"marker\":{\"colorscale\":[[0.0,\"rgb(196, 230, 195)\"],[0.16666666666666666,\"rgb(150, 210, 164)\"],[0.3333333333333333,\"rgb(109, 188, 144)\"],[0.5,\"rgb(77, 162, 132)\"],[0.6666666666666666,\"rgb(54, 135, 122)\"],[0.8333333333333334,\"rgb(38, 107, 110)\"],[1.0,\"rgb(29, 79, 96)\"]]},\"mode\":\"lines\",\"name\":\"blugrn\",\"x\":[9,10],\"y\":[1,1],\"type\":\"scatter\"},{\"line\":{\"width\":20},\"marker\":{\"colorscale\":[[0.0,\"rgb(247, 254, 174)\"],[0.16666666666666666,\"rgb(183, 230, 165)\"],[0.3333333333333333,\"rgb(124, 203, 162)\"],[0.5,\"rgb(70, 174, 160)\"],[0.6666666666666666,\"rgb(8, 144, 153)\"],[0.8333333333333334,\"rgb(0, 113, 139)\"],[1.0,\"rgb(4, 82, 117)\"]]},\"mode\":\"lines\",\"name\":\"bluyl\",\"x\":[10,11],\"y\":[1,1],\"type\":\"scatter\"},{\"line\":{\"width\":20},\"marker\":{\"colorscale\":[[0.0,\"rgb(84,48,5)\"],[0.1,\"rgb(140,81,10)\"],[0.2,\"rgb(191,129,45)\"],[0.3,\"rgb(223,194,125)\"],[0.4,\"rgb(246,232,195)\"],[0.5,\"rgb(245,245,245)\"],[0.6,\"rgb(199,234,229)\"],[0.7,\"rgb(128,205,193)\"],[0.8,\"rgb(53,151,143)\"],[0.9,\"rgb(1,102,94)\"],[1.0,\"rgb(0,60,48)\"]]},\"mode\":\"lines\",\"name\":\"brbg\",\"x\":[11,12],\"y\":[1,1],\"type\":\"scatter\"},{\"line\":{\"width\":20},\"marker\":{\"colorscale\":[[0.0,\"rgb(237, 229, 207)\"],[0.16666666666666666,\"rgb(224, 194, 162)\"],[0.3333333333333333,\"rgb(211, 156, 131)\"],[0.5,\"rgb(193, 118, 111)\"],[0.6666666666666666,\"rgb(166, 84, 97)\"],[0.8333333333333334,\"rgb(129, 55, 83)\"],[1.0,\"rgb(84, 31, 63)\"]]},\"mode\":\"lines\",\"name\":\"brwnyl\",\"x\":[12,13],\"y\":[1,1],\"type\":\"scatter\"},{\"line\":{\"width\":20},\"marker\":{\"colorscale\":[[0.0,\"rgb(247,252,253)\"],[0.125,\"rgb(229,245,249)\"],[0.25,\"rgb(204,236,230)\"],[0.375,\"rgb(153,216,201)\"],[0.5,\"rgb(102,194,164)\"],[0.625,\"rgb(65,174,118)\"],[0.75,\"rgb(35,139,69)\"],[0.875,\"rgb(0,109,44)\"],[1.0,\"rgb(0,68,27)\"]]},\"mode\":\"lines\",\"name\":\"bugn\",\"x\":[13,14],\"y\":[1,1],\"type\":\"scatter\"},{\"line\":{\"width\":20},\"marker\":{\"colorscale\":[[0.0,\"rgb(247,252,253)\"],[0.125,\"rgb(224,236,244)\"],[0.25,\"rgb(191,211,230)\"],[0.375,\"rgb(158,188,218)\"],[0.5,\"rgb(140,150,198)\"],[0.625,\"rgb(140,107,177)\"],[0.75,\"rgb(136,65,157)\"],[0.875,\"rgb(129,15,124)\"],[1.0,\"rgb(77,0,75)\"]]},\"mode\":\"lines\",\"name\":\"bupu\",\"x\":[14,15],\"y\":[1,1],\"type\":\"scatter\"},{\"line\":{\"width\":20},\"marker\":{\"colorscale\":[[0.0,\"rgb(255, 198, 196)\"],[0.16666666666666666,\"rgb(244, 163, 168)\"],[0.3333333333333333,\"rgb(227, 129, 145)\"],[0.5,\"rgb(204, 96, 125)\"],[0.6666666666666666,\"rgb(173, 70, 108)\"],[0.8333333333333334,\"rgb(139, 48, 88)\"],[1.0,\"rgb(103, 32, 68)\"]]},\"mode\":\"lines\",\"name\":\"burg\",\"x\":[15,16],\"y\":[1,1],\"type\":\"scatter\"},{\"line\":{\"width\":20},\"marker\":{\"colorscale\":[[0.0,\"rgb(251, 230, 197)\"],[0.16666666666666666,\"rgb(245, 186, 152)\"],[0.3333333333333333,\"rgb(238, 138, 130)\"],[0.5,\"rgb(220, 113, 118)\"],[0.6666666666666666,\"rgb(200, 88, 108)\"],[0.8333333333333334,\"rgb(156, 63, 93)\"],[1.0,\"rgb(112, 40, 74)\"]]},\"mode\":\"lines\",\"name\":\"burgyl\",\"x\":[16,17],\"y\":[1,1],\"type\":\"scatter\"},{\"line\":{\"width\":20},\"marker\":{\"colorscale\":[[0.0,\"#00224e\"],[0.1111111111111111,\"#123570\"],[0.2222222222222222,\"#3b496c\"],[0.3333333333333333,\"#575d6d\"],[0.4444444444444444,\"#707173\"],[0.5555555555555556,\"#8a8678\"],[0.6666666666666666,\"#a59c74\"],[0.7777777777777778,\"#c3b369\"],[0.8888888888888888,\"#e1cc55\"],[1.0,\"#fee838\"]]},\"mode\":\"lines\",\"name\":\"cividis\",\"x\":[17,18],\"y\":[1,1],\"type\":\"scatter\"},{\"line\":{\"width\":20},\"marker\":{\"colorscale\":[[0.0,\"rgb(20, 29, 67)\"],[0.09090909090909091,\"rgb(28, 72, 93)\"],[0.18181818181818182,\"rgb(18, 115, 117)\"],[0.2727272727272727,\"rgb(63, 156, 129)\"],[0.36363636363636365,\"rgb(153, 189, 156)\"],[0.45454545454545453,\"rgb(223, 225, 211)\"],[0.5454545454545454,\"rgb(241, 218, 206)\"],[0.6363636363636364,\"rgb(224, 160, 137)\"],[0.7272727272727273,\"rgb(203, 101, 99)\"],[0.8181818181818182,\"rgb(164, 54, 96)\"],[0.9090909090909091,\"rgb(111, 23, 91)\"],[1.0,\"rgb(51, 13, 53)\"]]},\"mode\":\"lines\",\"name\":\"curl\",\"x\":[18,19],\"y\":[1,1],\"type\":\"scatter\"},{\"line\":{\"width\":20},\"marker\":{\"colorscale\":[[0.0,\"rgb(210, 251, 212)\"],[0.16666666666666666,\"rgb(165, 219, 194)\"],[0.3333333333333333,\"rgb(123, 188, 176)\"],[0.5,\"rgb(85, 156, 158)\"],[0.6666666666666666,\"rgb(58, 124, 137)\"],[0.8333333333333334,\"rgb(35, 93, 114)\"],[1.0,\"rgb(18, 63, 90)\"]]},\"mode\":\"lines\",\"name\":\"darkmint\",\"x\":[19,20],\"y\":[1,1],\"type\":\"scatter\"},{\"line\":{\"width\":20},\"marker\":{\"colorscale\":[[0.0,\"rgb(253, 253, 204)\"],[0.09090909090909091,\"rgb(206, 236, 179)\"],[0.18181818181818182,\"rgb(156, 219, 165)\"],[0.2727272727272727,\"rgb(111, 201, 163)\"],[0.36363636363636365,\"rgb(86, 177, 163)\"],[0.45454545454545453,\"rgb(76, 153, 160)\"],[0.5454545454545454,\"rgb(68, 130, 155)\"],[0.6363636363636364,\"rgb(62, 108, 150)\"],[0.7272727272727273,\"rgb(62, 82, 143)\"],[0.8181818181818182,\"rgb(64, 60, 115)\"],[0.9090909090909091,\"rgb(54, 43, 77)\"],[1.0,\"rgb(39, 26, 44)\"]]},\"mode\":\"lines\",\"name\":\"deep\",\"x\":[20,21],\"y\":[1,1],\"type\":\"scatter\"},{\"line\":{\"width\":20},\"marker\":{\"colorscale\":[[0.0,\"rgb(16, 31, 63)\"],[0.09090909090909091,\"rgb(38, 62, 144)\"],[0.18181818181818182,\"rgb(30, 110, 161)\"],[0.2727272727272727,\"rgb(60, 154, 171)\"],[0.36363636363636365,\"rgb(140, 193, 186)\"],[0.45454545454545453,\"rgb(217, 229, 218)\"],[0.5454545454545454,\"rgb(239, 226, 156)\"],[0.6363636363636364,\"rgb(195, 182, 59)\"],[0.7272727272727273,\"rgb(115, 152, 5)\"],[0.8181818181818182,\"rgb(34, 120, 36)\"],[0.9090909090909091,\"rgb(18, 78, 43)\"],[1.0,\"rgb(23, 35, 18)\"]]},\"mode\":\"lines\",\"name\":\"delta\",\"x\":[21,22],\"y\":[1,1],\"type\":\"scatter\"},{\"line\":{\"width\":20},\"marker\":{\"colorscale\":[[0.0,\"rgb(230, 240, 240)\"],[0.09090909090909091,\"rgb(191, 221, 229)\"],[0.18181818181818182,\"rgb(156, 201, 226)\"],[0.2727272727272727,\"rgb(129, 180, 227)\"],[0.36363636363636365,\"rgb(115, 154, 228)\"],[0.45454545454545453,\"rgb(117, 127, 221)\"],[0.5454545454545454,\"rgb(120, 100, 202)\"],[0.6363636363636364,\"rgb(119, 74, 175)\"],[0.7272727272727273,\"rgb(113, 50, 141)\"],[0.8181818181818182,\"rgb(100, 31, 104)\"],[0.9090909090909091,\"rgb(80, 20, 66)\"],[1.0,\"rgb(54, 14, 36)\"]]},\"mode\":\"lines\",\"name\":\"dense\",\"x\":[22,23],\"y\":[1,1],\"type\":\"scatter\"},{\"line\":{\"width\":20},\"marker\":{\"colorscale\":[[0.0,\"rgb(161, 105, 40)\"],[0.16666666666666666,\"rgb(189, 146, 90)\"],[0.3333333333333333,\"rgb(214, 189, 141)\"],[0.5,\"rgb(237, 234, 194)\"],[0.6666666666666666,\"rgb(181, 200, 184)\"],[0.8333333333333334,\"rgb(121, 167, 172)\"],[1.0,\"rgb(40, 135, 161)\"]]},\"mode\":\"lines\",\"name\":\"earth\",\"x\":[23,24],\"y\":[1,1],\"type\":\"scatter\"},{\"line\":{\"width\":20},\"marker\":{\"colorscale\":[[0.0,\"#313131\"],[0.0625,\"#3d019d\"],[0.125,\"#3810dc\"],[0.1875,\"#2d47f9\"],[0.25,\"#2593ff\"],[0.3125,\"#2adef6\"],[0.375,\"#60fdfa\"],[0.4375,\"#aefdff\"],[0.5,\"#f3f3f1\"],[0.5625,\"#fffda9\"],[0.625,\"#fafd5b\"],[0.6875,\"#f7da29\"],[0.75,\"#ff8e25\"],[0.8125,\"#f8432d\"],[0.875,\"#d90d39\"],[0.9375,\"#97023d\"],[1.0,\"#313131\"]]},\"mode\":\"lines\",\"name\":\"edge\",\"x\":[24,25],\"y\":[1,1],\"type\":\"scatter\"},{\"line\":{\"width\":20},\"marker\":{\"colorscale\":[[0.0,\"rgb(0,0,0)\"],[0.2,\"rgb(30,0,100)\"],[0.4,\"rgb(120,0,100)\"],[0.6,\"rgb(160,90,0)\"],[0.8,\"rgb(230,200,0)\"],[1.0,\"rgb(255,250,220)\"]]},\"mode\":\"lines\",\"name\":\"electric\",\"x\":[25,26],\"y\":[1,1],\"type\":\"scatter\"},{\"line\":{\"width\":20},\"marker\":{\"colorscale\":[[0.0,\"rgb(211, 242, 163)\"],[0.16666666666666666,\"rgb(151, 225, 150)\"],[0.3333333333333333,\"rgb(108, 192, 139)\"],[0.5,\"rgb(76, 155, 130)\"],[0.6666666666666666,\"rgb(33, 122, 121)\"],[0.8333333333333334,\"rgb(16, 89, 101)\"],[1.0,\"rgb(7, 64, 80)\"]]},\"mode\":\"lines\",\"name\":\"emrld\",\"x\":[26,27],\"y\":[1,1],\"type\":\"scatter\"},{\"line\":{\"width\":20},\"marker\":{\"colorscale\":[[0.0,\"rgb(61, 89, 65)\"],[0.16666666666666666,\"rgb(119, 136, 104)\"],[0.3333333333333333,\"rgb(181, 185, 145)\"],[0.5,\"rgb(246, 237, 189)\"],[0.6666666666666666,\"rgb(237, 187, 138)\"],[0.8333333333333334,\"rgb(222, 138, 90)\"],[1.0,\"rgb(202, 86, 44)\"]]},\"mode\":\"lines\",\"name\":\"fall\",\"x\":[27,28],\"y\":[1,1],\"type\":\"scatter\"},{\"line\":{\"width\":20},\"marker\":{\"colorscale\":[[0.0,\"rgb(0, 128, 128)\"],[0.16666666666666666,\"rgb(112, 164, 148)\"],[0.3333333333333333,\"rgb(180, 200, 168)\"],[0.5,\"rgb(246, 237, 189)\"],[0.6666666666666666,\"rgb(237, 187, 138)\"],[0.8333333333333334,\"rgb(222, 138, 90)\"],[1.0,\"rgb(202, 86, 44)\"]]},\"mode\":\"lines\",\"name\":\"geyser\",\"x\":[28,29],\"y\":[1,1],\"type\":\"scatter\"},{\"line\":{\"width\":20},\"marker\":{\"colorscale\":[[0.0,\"rgb(247,252,240)\"],[0.125,\"rgb(224,243,219)\"],[0.25,\"rgb(204,235,197)\"],[0.375,\"rgb(168,221,181)\"],[0.5,\"rgb(123,204,196)\"],[0.625,\"rgb(78,179,211)\"],[0.75,\"rgb(43,140,190)\"],[0.875,\"rgb(8,104,172)\"],[1.0,\"rgb(8,64,129)\"]]},\"mode\":\"lines\",\"name\":\"gnbu\",\"x\":[29,30],\"y\":[1,1],\"type\":\"scatter\"},{\"line\":{\"width\":20},\"marker\":{\"colorscale\":[[0.0,\"rgb(0, 0, 0)\"],[0.09090909090909091,\"rgb(16, 16, 16)\"],[0.18181818181818182,\"rgb(38, 38, 38)\"],[0.2727272727272727,\"rgb(59, 59, 59)\"],[0.36363636363636365,\"rgb(81, 80, 80)\"],[0.45454545454545453,\"rgb(102, 101, 101)\"],[0.5454545454545454,\"rgb(124, 123, 122)\"],[0.6363636363636364,\"rgb(146, 146, 145)\"],[0.7272727272727273,\"rgb(171, 171, 170)\"],[0.8181818181818182,\"rgb(197, 197, 195)\"],[0.9090909090909091,\"rgb(224, 224, 223)\"],[1.0,\"rgb(254, 254, 253)\"]]},\"mode\":\"lines\",\"name\":\"gray\",\"x\":[30,31],\"y\":[1,1],\"type\":\"scatter\"},{\"line\":{\"width\":20},\"marker\":{\"colorscale\":[[0.0,\"rgb(247,252,245)\"],[0.125,\"rgb(229,245,224)\"],[0.25,\"rgb(199,233,192)\"],[0.375,\"rgb(161,217,155)\"],[0.5,\"rgb(116,196,118)\"],[0.625,\"rgb(65,171,93)\"],[0.75,\"rgb(35,139,69)\"],[0.875,\"rgb(0,109,44)\"],[1.0,\"rgb(0,68,27)\"]]},\"mode\":\"lines\",\"name\":\"greens\",\"x\":[31,32],\"y\":[1,1],\"type\":\"scatter\"},{\"line\":{\"width\":20},\"marker\":{\"colorscale\":[[0.0,\"rgb(255,255,255)\"],[0.125,\"rgb(240,240,240)\"],[0.25,\"rgb(217,217,217)\"],[0.375,\"rgb(189,189,189)\"],[0.5,\"rgb(150,150,150)\"],[0.625,\"rgb(115,115,115)\"],[0.75,\"rgb(82,82,82)\"],[0.875,\"rgb(37,37,37)\"],[1.0,\"rgb(0,0,0)\"]]},\"mode\":\"lines\",\"name\":\"greys\",\"x\":[32,33],\"y\":[1,1],\"type\":\"scatter\"},{\"line\":{\"width\":20},\"marker\":{\"colorscale\":[[0.0,\"rgb(41, 24, 107)\"],[0.09090909090909091,\"rgb(42, 35, 160)\"],[0.18181818181818182,\"rgb(15, 71, 153)\"],[0.2727272727272727,\"rgb(18, 95, 142)\"],[0.36363636363636365,\"rgb(38, 116, 137)\"],[0.45454545454545453,\"rgb(53, 136, 136)\"],[0.5454545454545454,\"rgb(65, 157, 133)\"],[0.6363636363636364,\"rgb(81, 178, 124)\"],[0.7272727272727273,\"rgb(111, 198, 107)\"],[0.8181818181818182,\"rgb(160, 214, 91)\"],[0.9090909090909091,\"rgb(212, 225, 112)\"],[1.0,\"rgb(253, 238, 153)\"]]},\"mode\":\"lines\",\"name\":\"haline\",\"x\":[33,34],\"y\":[1,1],\"type\":\"scatter\"},{\"line\":{\"width\":20},\"marker\":{\"colorscale\":[[0.0,\"rgb(0,0,0)\"],[0.3333333333333333,\"rgb(230,0,0)\"],[0.6666666666666666,\"rgb(255,210,0)\"],[1.0,\"rgb(255,255,255)\"]]},\"mode\":\"lines\",\"name\":\"hot\",\"x\":[34,35],\"y\":[1,1],\"type\":\"scatter\"},{\"line\":{\"width\":20},\"marker\":{\"colorscale\":[[0.0,\"#ff0000\"],[0.1111111111111111,\"#ffa700\"],[0.2222222222222222,\"#afff00\"],[0.3333333333333333,\"#08ff00\"],[0.4444444444444444,\"#00ff9f\"],[0.5555555555555556,\"#00b7ff\"],[0.6666666666666666,\"#0010ff\"],[0.7777777777777778,\"#9700ff\"],[0.8888888888888888,\"#ff00bf\"],[1.0,\"#ff0000\"]]},\"mode\":\"lines\",\"name\":\"hsv\",\"x\":[35,36],\"y\":[1,1],\"type\":\"scatter\"},{\"line\":{\"width\":20},\"marker\":{\"colorscale\":[[0.0,\"rgb(3, 5, 18)\"],[0.09090909090909091,\"rgb(25, 25, 51)\"],[0.18181818181818182,\"rgb(44, 42, 87)\"],[0.2727272727272727,\"rgb(58, 60, 125)\"],[0.36363636363636365,\"rgb(62, 83, 160)\"],[0.45454545454545453,\"rgb(62, 109, 178)\"],[0.5454545454545454,\"rgb(72, 134, 187)\"],[0.6363636363636364,\"rgb(89, 159, 196)\"],[0.7272727272727273,\"rgb(114, 184, 205)\"],[0.8181818181818182,\"rgb(149, 207, 216)\"],[0.9090909090909091,\"rgb(192, 229, 232)\"],[1.0,\"rgb(234, 252, 253)\"]]},\"mode\":\"lines\",\"name\":\"ice\",\"x\":[36,37],\"y\":[1,1],\"type\":\"scatter\"},{\"line\":{\"width\":20},\"marker\":{\"colorscale\":[[0.0,\"#000000\"],[0.0625,\"#001f4d\"],[0.125,\"#003786\"],[0.1875,\"#0e58a8\"],[0.25,\"#217eb8\"],[0.3125,\"#30a4ca\"],[0.375,\"#54c8df\"],[0.4375,\"#9be4ef\"],[0.5,\"#e1e9d1\"],[0.5625,\"#f3d573\"],[0.625,\"#e7b000\"],[0.6875,\"#da8200\"],[0.75,\"#c65400\"],[0.8125,\"#ac2301\"],[0.875,\"#820000\"],[0.9375,\"#4c0000\"],[1.0,\"#000000\"]]},\"mode\":\"lines\",\"name\":\"icefire\",\"x\":[37,38],\"y\":[1,1],\"type\":\"scatter\"},{\"line\":{\"width\":20},\"marker\":{\"colorscale\":[[0.0,\"#000004\"],[0.1111111111111111,\"#1b0c41\"],[0.2222222222222222,\"#4a0c6b\"],[0.3333333333333333,\"#781c6d\"],[0.4444444444444444,\"#a52c60\"],[0.5555555555555556,\"#cf4446\"],[0.6666666666666666,\"#ed6925\"],[0.7777777777777778,\"#fb9b06\"],[0.8888888888888888,\"#f7d13d\"],[1.0,\"#fcffa4\"]]},\"mode\":\"lines\",\"name\":\"inferno\",\"x\":[38,39],\"y\":[1,1],\"type\":\"scatter\"},{\"line\":{\"width\":20},\"marker\":{\"colorscale\":[[0.0,\"rgb(0,0,131)\"],[0.2,\"rgb(0,60,170)\"],[0.4,\"rgb(5,255,255)\"],[0.6,\"rgb(255,255,0)\"],[0.8,\"rgb(250,0,0)\"],[1.0,\"rgb(128,0,0)\"]]},\"mode\":\"lines\",\"name\":\"jet\",\"x\":[39,40],\"y\":[1,1],\"type\":\"scatter\"},{\"line\":{\"width\":20},\"marker\":{\"colorscale\":[[0.0,\"rgb(243, 203, 211)\"],[0.16666666666666666,\"rgb(234, 169, 189)\"],[0.3333333333333333,\"rgb(221, 136, 172)\"],[0.5,\"rgb(202, 105, 157)\"],[0.6666666666666666,\"rgb(177, 77, 142)\"],[0.8333333333333334,\"rgb(145, 53, 125)\"],[1.0,\"rgb(108, 33, 103)\"]]},\"mode\":\"lines\",\"name\":\"magenta\",\"x\":[40,41],\"y\":[1,1],\"type\":\"scatter\"},{\"line\":{\"width\":20},\"marker\":{\"colorscale\":[[0.0,\"#000004\"],[0.1111111111111111,\"#180f3d\"],[0.2222222222222222,\"#440f76\"],[0.3333333333333333,\"#721f81\"],[0.4444444444444444,\"#9e2f7f\"],[0.5555555555555556,\"#cd4071\"],[0.6666666666666666,\"#f1605d\"],[0.7777777777777778,\"#fd9668\"],[0.8888888888888888,\"#feca8d\"],[1.0,\"#fcfdbf\"]]},\"mode\":\"lines\",\"name\":\"magma\",\"x\":[41,42],\"y\":[1,1],\"type\":\"scatter\"},{\"line\":{\"width\":20},\"marker\":{\"colorscale\":[[0.0,\"rgb(253, 237, 176)\"],[0.09090909090909091,\"rgb(250, 205, 145)\"],[0.18181818181818182,\"rgb(246, 173, 119)\"],[0.2727272727272727,\"rgb(240, 142, 98)\"],[0.36363636363636365,\"rgb(231, 109, 84)\"],[0.45454545454545453,\"rgb(216, 80, 83)\"],[0.5454545454545454,\"rgb(195, 56, 90)\"],[0.6363636363636364,\"rgb(168, 40, 96)\"],[0.7272727272727273,\"rgb(138, 29, 99)\"],[0.8181818181818182,\"rgb(107, 24, 93)\"],[0.9090909090909091,\"rgb(76, 21, 80)\"],[1.0,\"rgb(47, 15, 61)\"]]},\"mode\":\"lines\",\"name\":\"matter\",\"x\":[42,43],\"y\":[1,1],\"type\":\"scatter\"},{\"line\":{\"width\":20},\"marker\":{\"colorscale\":[[0.0,\"rgb(228, 241, 225)\"],[0.16666666666666666,\"rgb(180, 217, 204)\"],[0.3333333333333333,\"rgb(137, 192, 182)\"],[0.5,\"rgb(99, 166, 160)\"],[0.6666666666666666,\"rgb(68, 140, 138)\"],[0.8333333333333334,\"rgb(40, 114, 116)\"],[1.0,\"rgb(13, 88, 95)\"]]},\"mode\":\"lines\",\"name\":\"mint\",\"x\":[43,44],\"y\":[1,1],\"type\":\"scatter\"},{\"line\":{\"width\":20},\"marker\":{\"colorscale\":[[0.0,\"#f884f7\"],[0.0625,\"#f968c4\"],[0.125,\"#ea4388\"],[0.1875,\"#cf244b\"],[0.25,\"#b51a15\"],[0.3125,\"#bd4304\"],[0.375,\"#cc6904\"],[0.4375,\"#d58f04\"],[0.5,\"#cfaa27\"],[0.5625,\"#a19f62\"],[0.625,\"#588a93\"],[0.6875,\"#2269c4\"],[0.75,\"#3e3ef0\"],[0.8125,\"#6b4ef9\"],[0.875,\"#956bfa\"],[0.9375,\"#cd7dfe\"],[1.0,\"#f884f7\"]]},\"mode\":\"lines\",\"name\":\"mrybm\",\"x\":[44,45],\"y\":[1,1],\"type\":\"scatter\"},{\"line\":{\"width\":20},\"marker\":{\"colorscale\":[[0.0,\"#ef55f1\"],[0.0625,\"#fb84ce\"],[0.125,\"#fbafa1\"],[0.1875,\"#fcd471\"],[0.25,\"#f0ed35\"],[0.3125,\"#c6e516\"],[0.375,\"#96d310\"],[0.4375,\"#61c10b\"],[0.5,\"#31ac28\"],[0.5625,\"#439064\"],[0.625,\"#3d719a\"],[0.6875,\"#284ec8\"],[0.75,\"#2e21ea\"],[0.8125,\"#6324f5\"],[0.875,\"#9139fa\"],[0.9375,\"#c543fa\"],[1.0,\"#ef55f1\"]]},\"mode\":\"lines\",\"name\":\"mygbm\",\"x\":[45,46],\"y\":[1,1],\"type\":\"scatter\"},{\"line\":{\"width\":20},\"marker\":{\"colorscale\":[[0.0,\"rgb(255,245,235)\"],[0.125,\"rgb(254,230,206)\"],[0.25,\"rgb(253,208,162)\"],[0.375,\"rgb(253,174,107)\"],[0.5,\"rgb(253,141,60)\"],[0.625,\"rgb(241,105,19)\"],[0.75,\"rgb(217,72,1)\"],[0.875,\"rgb(166,54,3)\"],[1.0,\"rgb(127,39,4)\"]]},\"mode\":\"lines\",\"name\":\"oranges\",\"x\":[46,47],\"y\":[1,1],\"type\":\"scatter\"},{\"line\":{\"width\":20},\"marker\":{\"colorscale\":[[0.0,\"rgb(255,247,236)\"],[0.125,\"rgb(254,232,200)\"],[0.25,\"rgb(253,212,158)\"],[0.375,\"rgb(253,187,132)\"],[0.5,\"rgb(252,141,89)\"],[0.625,\"rgb(239,101,72)\"],[0.75,\"rgb(215,48,31)\"],[0.875,\"rgb(179,0,0)\"],[1.0,\"rgb(127,0,0)\"]]},\"mode\":\"lines\",\"name\":\"orrd\",\"x\":[47,48],\"y\":[1,1],\"type\":\"scatter\"},{\"line\":{\"width\":20},\"marker\":{\"colorscale\":[[0.0,\"rgb(236, 218, 154)\"],[0.16666666666666666,\"rgb(239, 196, 126)\"],[0.3333333333333333,\"rgb(243, 173, 106)\"],[0.5,\"rgb(247, 148, 93)\"],[0.6666666666666666,\"rgb(249, 123, 87)\"],[0.8333333333333334,\"rgb(246, 99, 86)\"],[1.0,\"rgb(238, 77, 90)\"]]},\"mode\":\"lines\",\"name\":\"oryel\",\"x\":[48,49],\"y\":[1,1],\"type\":\"scatter\"},{\"line\":{\"width\":20},\"marker\":{\"colorscale\":[[0.0,\"rgb(63, 5, 5)\"],[0.09090909090909091,\"rgb(101, 6, 13)\"],[0.18181818181818182,\"rgb(138, 17, 9)\"],[0.2727272727272727,\"rgb(96, 95, 95)\"],[0.36363636363636365,\"rgb(119, 118, 118)\"],[0.45454545454545453,\"rgb(142, 141, 141)\"],[0.5454545454545454,\"rgb(166, 166, 165)\"],[0.6363636363636364,\"rgb(193, 192, 191)\"],[0.7272727272727273,\"rgb(222, 222, 220)\"],[0.8181818181818182,\"rgb(239, 248, 90)\"],[0.9090909090909091,\"rgb(230, 210, 41)\"],[1.0,\"rgb(220, 174, 25)\"]]},\"mode\":\"lines\",\"name\":\"oxy\",\"x\":[49,50],\"y\":[1,1],\"type\":\"scatter\"},{\"line\":{\"width\":20},\"marker\":{\"colorscale\":[[0.0,\"rgb(253, 224, 197)\"],[0.16666666666666666,\"rgb(250, 203, 166)\"],[0.3333333333333333,\"rgb(248, 181, 139)\"],[0.5,\"rgb(245, 158, 114)\"],[0.6666666666666666,\"rgb(242, 133, 93)\"],[0.8333333333333334,\"rgb(239, 106, 76)\"],[1.0,\"rgb(235, 74, 64)\"]]},\"mode\":\"lines\",\"name\":\"peach\",\"x\":[50,51],\"y\":[1,1],\"type\":\"scatter\"},{\"line\":{\"width\":20},\"marker\":{\"colorscale\":[[0.0,\"rgb(167, 119, 12)\"],[0.09090909090909091,\"rgb(197, 96, 51)\"],[0.18181818181818182,\"rgb(217, 67, 96)\"],[0.2727272727272727,\"rgb(221, 38, 163)\"],[0.36363636363636365,\"rgb(196, 59, 224)\"],[0.45454545454545453,\"rgb(153, 97, 244)\"],[0.5454545454545454,\"rgb(95, 127, 228)\"],[0.6363636363636364,\"rgb(40, 144, 183)\"],[0.7272727272727273,\"rgb(15, 151, 136)\"],[0.8181818181818182,\"rgb(39, 153, 79)\"],[0.9090909090909091,\"rgb(119, 141, 17)\"],[1.0,\"rgb(167, 119, 12)\"]]},\"mode\":\"lines\",\"name\":\"phase\",\"x\":[51,52],\"y\":[1,1],\"type\":\"scatter\"},{\"line\":{\"width\":20},\"marker\":{\"colorscale\":[[0.0,\"rgb(0,0,255)\"],[0.1,\"rgb(51,153,255)\"],[0.2,\"rgb(102,204,255)\"],[0.3,\"rgb(153,204,255)\"],[0.4,\"rgb(204,204,255)\"],[0.5,\"rgb(255,255,255)\"],[0.6,\"rgb(255,204,255)\"],[0.7,\"rgb(255,153,255)\"],[0.8,\"rgb(255,102,204)\"],[0.9,\"rgb(255,102,102)\"],[1.0,\"rgb(255,0,0)\"]]},\"mode\":\"lines\",\"name\":\"picnic\",\"x\":[52,53],\"y\":[1,1],\"type\":\"scatter\"},{\"line\":{\"width\":20},\"marker\":{\"colorscale\":[[0.0,\"rgb(254, 246, 181)\"],[0.16666666666666666,\"rgb(255, 221, 154)\"],[0.3333333333333333,\"rgb(255, 194, 133)\"],[0.5,\"rgb(255, 166, 121)\"],[0.6666666666666666,\"rgb(250, 138, 118)\"],[0.8333333333333334,\"rgb(241, 109, 122)\"],[1.0,\"rgb(225, 83, 131)\"]]},\"mode\":\"lines\",\"name\":\"pinkyl\",\"x\":[53,54],\"y\":[1,1],\"type\":\"scatter\"},{\"line\":{\"width\":20},\"marker\":{\"colorscale\":[[0.0,\"rgb(142,1,82)\"],[0.1,\"rgb(197,27,125)\"],[0.2,\"rgb(222,119,174)\"],[0.3,\"rgb(241,182,218)\"],[0.4,\"rgb(253,224,239)\"],[0.5,\"rgb(247,247,247)\"],[0.6,\"rgb(230,245,208)\"],[0.7,\"rgb(184,225,134)\"],[0.8,\"rgb(127,188,65)\"],[0.9,\"rgb(77,146,33)\"],[1.0,\"rgb(39,100,25)\"]]},\"mode\":\"lines\",\"name\":\"piyg\",\"x\":[54,55],\"y\":[1,1],\"type\":\"scatter\"},{\"line\":{\"width\":20},\"marker\":{\"colorscale\":[[0.0,\"#0d0887\"],[0.1111111111111111,\"#46039f\"],[0.2222222222222222,\"#7201a8\"],[0.3333333333333333,\"#9c179e\"],[0.4444444444444444,\"#bd3786\"],[0.5555555555555556,\"#d8576b\"],[0.6666666666666666,\"#ed7953\"],[0.7777777777777778,\"#fb9f3a\"],[0.8888888888888888,\"#fdca26\"],[1.0,\"#f0f921\"]]},\"mode\":\"lines\",\"name\":\"plasma\",\"x\":[55,56],\"y\":[1,1],\"type\":\"scatter\"},{\"line\":{\"width\":20},\"marker\":{\"colorscale\":[[0.0,\"#0508b8\"],[0.08333333333333333,\"#1910d8\"],[0.16666666666666666,\"#3c19f0\"],[0.25,\"#6b1cfb\"],[0.3333333333333333,\"#981cfd\"],[0.4166666666666667,\"#bf1cfd\"],[0.5,\"#dd2bfd\"],[0.5833333333333334,\"#f246fe\"],[0.6666666666666666,\"#fc67fd\"],[0.75,\"#fe88fc\"],[0.8333333333333334,\"#fea5fd\"],[0.9166666666666666,\"#febefe\"],[1.0,\"#fec3fe\"]]},\"mode\":\"lines\",\"name\":\"plotly3\",\"x\":[56,57],\"y\":[1,1],\"type\":\"scatter\"},{\"line\":{\"width\":20},\"marker\":{\"colorscale\":[[0.0,\"rgb(12,51,131)\"],[0.25,\"rgb(10,136,186)\"],[0.5,\"rgb(242,211,56)\"],[0.75,\"rgb(242,143,56)\"],[1.0,\"rgb(217,30,30)\"]]},\"mode\":\"lines\",\"name\":\"portland\",\"x\":[57,58],\"y\":[1,1],\"type\":\"scatter\"},{\"line\":{\"width\":20},\"marker\":{\"colorscale\":[[0.0,\"rgb(64,0,75)\"],[0.1,\"rgb(118,42,131)\"],[0.2,\"rgb(153,112,171)\"],[0.3,\"rgb(194,165,207)\"],[0.4,\"rgb(231,212,232)\"],[0.5,\"rgb(247,247,247)\"],[0.6,\"rgb(217,240,211)\"],[0.7,\"rgb(166,219,160)\"],[0.8,\"rgb(90,174,97)\"],[0.9,\"rgb(27,120,55)\"],[1.0,\"rgb(0,68,27)\"]]},\"mode\":\"lines\",\"name\":\"prgn\",\"x\":[58,59],\"y\":[1,1],\"type\":\"scatter\"},{\"line\":{\"width\":20},\"marker\":{\"colorscale\":[[0.0,\"rgb(255,247,251)\"],[0.125,\"rgb(236,231,242)\"],[0.25,\"rgb(208,209,230)\"],[0.375,\"rgb(166,189,219)\"],[0.5,\"rgb(116,169,207)\"],[0.625,\"rgb(54,144,192)\"],[0.75,\"rgb(5,112,176)\"],[0.875,\"rgb(4,90,141)\"],[1.0,\"rgb(2,56,88)\"]]},\"mode\":\"lines\",\"name\":\"pubu\",\"x\":[59,60],\"y\":[1,1],\"type\":\"scatter\"},{\"line\":{\"width\":20},\"marker\":{\"colorscale\":[[0.0,\"rgb(255,247,251)\"],[0.125,\"rgb(236,226,240)\"],[0.25,\"rgb(208,209,230)\"],[0.375,\"rgb(166,189,219)\"],[0.5,\"rgb(103,169,207)\"],[0.625,\"rgb(54,144,192)\"],[0.75,\"rgb(2,129,138)\"],[0.875,\"rgb(1,108,89)\"],[1.0,\"rgb(1,70,54)\"]]},\"mode\":\"lines\",\"name\":\"pubugn\",\"x\":[60,61],\"y\":[1,1],\"type\":\"scatter\"},{\"line\":{\"width\":20},\"marker\":{\"colorscale\":[[0.0,\"rgb(127,59,8)\"],[0.1,\"rgb(179,88,6)\"],[0.2,\"rgb(224,130,20)\"],[0.3,\"rgb(253,184,99)\"],[0.4,\"rgb(254,224,182)\"],[0.5,\"rgb(247,247,247)\"],[0.6,\"rgb(216,218,235)\"],[0.7,\"rgb(178,171,210)\"],[0.8,\"rgb(128,115,172)\"],[0.9,\"rgb(84,39,136)\"],[1.0,\"rgb(45,0,75)\"]]},\"mode\":\"lines\",\"name\":\"puor\",\"x\":[61,62],\"y\":[1,1],\"type\":\"scatter\"},{\"line\":{\"width\":20},\"marker\":{\"colorscale\":[[0.0,\"rgb(247,244,249)\"],[0.125,\"rgb(231,225,239)\"],[0.25,\"rgb(212,185,218)\"],[0.375,\"rgb(201,148,199)\"],[0.5,\"rgb(223,101,176)\"],[0.625,\"rgb(231,41,138)\"],[0.75,\"rgb(206,18,86)\"],[0.875,\"rgb(152,0,67)\"],[1.0,\"rgb(103,0,31)\"]]},\"mode\":\"lines\",\"name\":\"purd\",\"x\":[62,63],\"y\":[1,1],\"type\":\"scatter\"},{\"line\":{\"width\":20},\"marker\":{\"colorscale\":[[0.0,\"rgb(243, 224, 247)\"],[0.16666666666666666,\"rgb(228, 199, 241)\"],[0.3333333333333333,\"rgb(209, 175, 232)\"],[0.5,\"rgb(185, 152, 221)\"],[0.6666666666666666,\"rgb(159, 130, 206)\"],[0.8333333333333334,\"rgb(130, 109, 186)\"],[1.0,\"rgb(99, 88, 159)\"]]},\"mode\":\"lines\",\"name\":\"purp\",\"x\":[63,64],\"y\":[1,1],\"type\":\"scatter\"},{\"line\":{\"width\":20},\"marker\":{\"colorscale\":[[0.0,\"rgb(252,251,253)\"],[0.125,\"rgb(239,237,245)\"],[0.25,\"rgb(218,218,235)\"],[0.375,\"rgb(188,189,220)\"],[0.5,\"rgb(158,154,200)\"],[0.625,\"rgb(128,125,186)\"],[0.75,\"rgb(106,81,163)\"],[0.875,\"rgb(84,39,143)\"],[1.0,\"rgb(63,0,125)\"]]},\"mode\":\"lines\",\"name\":\"purples\",\"x\":[64,65],\"y\":[1,1],\"type\":\"scatter\"},{\"line\":{\"width\":20},\"marker\":{\"colorscale\":[[0.0,\"rgb(249, 221, 218)\"],[0.16666666666666666,\"rgb(242, 185, 196)\"],[0.3333333333333333,\"rgb(229, 151, 185)\"],[0.5,\"rgb(206, 120, 179)\"],[0.6666666666666666,\"rgb(173, 95, 173)\"],[0.8333333333333334,\"rgb(131, 75, 160)\"],[1.0,\"rgb(87, 59, 136)\"]]},\"mode\":\"lines\",\"name\":\"purpor\",\"x\":[65,66],\"y\":[1,1],\"type\":\"scatter\"},{\"line\":{\"width\":20},\"marker\":{\"colorscale\":[[0.0,\"rgb(150,0,90)\"],[0.125,\"rgb(0,0,200)\"],[0.25,\"rgb(0,25,255)\"],[0.375,\"rgb(0,152,255)\"],[0.5,\"rgb(44,255,150)\"],[0.625,\"rgb(151,255,0)\"],[0.75,\"rgb(255,234,0)\"],[0.875,\"rgb(255,111,0)\"],[1.0,\"rgb(255,0,0)\"]]},\"mode\":\"lines\",\"name\":\"rainbow\",\"x\":[66,67],\"y\":[1,1],\"type\":\"scatter\"},{\"line\":{\"width\":20},\"marker\":{\"colorscale\":[[0.0,\"rgb(103,0,31)\"],[0.1,\"rgb(178,24,43)\"],[0.2,\"rgb(214,96,77)\"],[0.3,\"rgb(244,165,130)\"],[0.4,\"rgb(253,219,199)\"],[0.5,\"rgb(247,247,247)\"],[0.6,\"rgb(209,229,240)\"],[0.7,\"rgb(146,197,222)\"],[0.8,\"rgb(67,147,195)\"],[0.9,\"rgb(33,102,172)\"],[1.0,\"rgb(5,48,97)\"]]},\"mode\":\"lines\",\"name\":\"rdbu\",\"x\":[67,68],\"y\":[1,1],\"type\":\"scatter\"},{\"line\":{\"width\":20},\"marker\":{\"colorscale\":[[0.0,\"rgb(103,0,31)\"],[0.1,\"rgb(178,24,43)\"],[0.2,\"rgb(214,96,77)\"],[0.3,\"rgb(244,165,130)\"],[0.4,\"rgb(253,219,199)\"],[0.5,\"rgb(255,255,255)\"],[0.6,\"rgb(224,224,224)\"],[0.7,\"rgb(186,186,186)\"],[0.8,\"rgb(135,135,135)\"],[0.9,\"rgb(77,77,77)\"],[1.0,\"rgb(26,26,26)\"]]},\"mode\":\"lines\",\"name\":\"rdgy\",\"x\":[68,69],\"y\":[1,1],\"type\":\"scatter\"},{\"line\":{\"width\":20},\"marker\":{\"colorscale\":[[0.0,\"rgb(255,247,243)\"],[0.125,\"rgb(253,224,221)\"],[0.25,\"rgb(252,197,192)\"],[0.375,\"rgb(250,159,181)\"],[0.5,\"rgb(247,104,161)\"],[0.625,\"rgb(221,52,151)\"],[0.75,\"rgb(174,1,126)\"],[0.875,\"rgb(122,1,119)\"],[1.0,\"rgb(73,0,106)\"]]},\"mode\":\"lines\",\"name\":\"rdpu\",\"x\":[69,70],\"y\":[1,1],\"type\":\"scatter\"},{\"line\":{\"width\":20},\"marker\":{\"colorscale\":[[0.0,\"rgb(165,0,38)\"],[0.1,\"rgb(215,48,39)\"],[0.2,\"rgb(244,109,67)\"],[0.3,\"rgb(253,174,97)\"],[0.4,\"rgb(254,224,144)\"],[0.5,\"rgb(255,255,191)\"],[0.6,\"rgb(224,243,248)\"],[0.7,\"rgb(171,217,233)\"],[0.8,\"rgb(116,173,209)\"],[0.9,\"rgb(69,117,180)\"],[1.0,\"rgb(49,54,149)\"]]},\"mode\":\"lines\",\"name\":\"rdylbu\",\"x\":[70,71],\"y\":[1,1],\"type\":\"scatter\"},{\"line\":{\"width\":20},\"marker\":{\"colorscale\":[[0.0,\"rgb(165,0,38)\"],[0.1,\"rgb(215,48,39)\"],[0.2,\"rgb(244,109,67)\"],[0.3,\"rgb(253,174,97)\"],[0.4,\"rgb(254,224,139)\"],[0.5,\"rgb(255,255,191)\"],[0.6,\"rgb(217,239,139)\"],[0.7,\"rgb(166,217,106)\"],[0.8,\"rgb(102,189,99)\"],[0.9,\"rgb(26,152,80)\"],[1.0,\"rgb(0,104,55)\"]]},\"mode\":\"lines\",\"name\":\"rdylgn\",\"x\":[71,72],\"y\":[1,1],\"type\":\"scatter\"},{\"line\":{\"width\":20},\"marker\":{\"colorscale\":[[0.0,\"rgb(246, 210, 169)\"],[0.16666666666666666,\"rgb(245, 183, 142)\"],[0.3333333333333333,\"rgb(241, 156, 124)\"],[0.5,\"rgb(234, 129, 113)\"],[0.6666666666666666,\"rgb(221, 104, 108)\"],[0.8333333333333334,\"rgb(202, 82, 104)\"],[1.0,\"rgb(177, 63, 100)\"]]},\"mode\":\"lines\",\"name\":\"redor\",\"x\":[72,73],\"y\":[1,1],\"type\":\"scatter\"},{\"line\":{\"width\":20},\"marker\":{\"colorscale\":[[0.0,\"rgb(255,245,240)\"],[0.125,\"rgb(254,224,210)\"],[0.25,\"rgb(252,187,161)\"],[0.375,\"rgb(252,146,114)\"],[0.5,\"rgb(251,106,74)\"],[0.625,\"rgb(239,59,44)\"],[0.75,\"rgb(203,24,29)\"],[0.875,\"rgb(165,15,21)\"],[1.0,\"rgb(103,0,13)\"]]},\"mode\":\"lines\",\"name\":\"reds\",\"x\":[73,74],\"y\":[1,1],\"type\":\"scatter\"},{\"line\":{\"width\":20},\"marker\":{\"colorscale\":[[0.0,\"rgb(51, 19, 23)\"],[0.09090909090909091,\"rgb(79, 28, 33)\"],[0.18181818181818182,\"rgb(108, 36, 36)\"],[0.2727272727272727,\"rgb(135, 47, 32)\"],[0.36363636363636365,\"rgb(157, 66, 25)\"],[0.45454545454545453,\"rgb(174, 88, 20)\"],[0.5454545454545454,\"rgb(188, 111, 19)\"],[0.6363636363636364,\"rgb(199, 137, 22)\"],[0.7272727272727273,\"rgb(209, 164, 32)\"],[0.8181818181818182,\"rgb(217, 192, 44)\"],[0.9090909090909091,\"rgb(222, 222, 59)\"],[1.0,\"rgb(224, 253, 74)\"]]},\"mode\":\"lines\",\"name\":\"solar\",\"x\":[74,75],\"y\":[1,1],\"type\":\"scatter\"},{\"line\":{\"width\":20},\"marker\":{\"colorscale\":[[0.0,\"rgb(158,1,66)\"],[0.1,\"rgb(213,62,79)\"],[0.2,\"rgb(244,109,67)\"],[0.3,\"rgb(253,174,97)\"],[0.4,\"rgb(254,224,139)\"],[0.5,\"rgb(255,255,191)\"],[0.6,\"rgb(230,245,152)\"],[0.7,\"rgb(171,221,164)\"],[0.8,\"rgb(102,194,165)\"],[0.9,\"rgb(50,136,189)\"],[1.0,\"rgb(94,79,162)\"]]},\"mode\":\"lines\",\"name\":\"spectral\",\"x\":[75,76],\"y\":[1,1],\"type\":\"scatter\"},{\"line\":{\"width\":20},\"marker\":{\"colorscale\":[[0.0,\"rgb(254, 252, 205)\"],[0.09090909090909091,\"rgb(239, 225, 156)\"],[0.18181818181818182,\"rgb(221, 201, 106)\"],[0.2727272727272727,\"rgb(194, 182, 59)\"],[0.36363636363636365,\"rgb(157, 167, 21)\"],[0.45454545454545453,\"rgb(116, 153, 5)\"],[0.5454545454545454,\"rgb(75, 138, 20)\"],[0.6363636363636364,\"rgb(35, 121, 36)\"],[0.7272727272727273,\"rgb(11, 100, 44)\"],[0.8181818181818182,\"rgb(18, 78, 43)\"],[0.9090909090909091,\"rgb(25, 56, 34)\"],[1.0,\"rgb(23, 35, 18)\"]]},\"mode\":\"lines\",\"name\":\"speed\",\"x\":[76,77],\"y\":[1,1],\"type\":\"scatter\"},{\"line\":{\"width\":20},\"marker\":{\"colorscale\":[[0.0,\"rgb(243, 231, 155)\"],[0.16666666666666666,\"rgb(250, 196, 132)\"],[0.3333333333333333,\"rgb(248, 160, 126)\"],[0.5,\"rgb(235, 127, 134)\"],[0.6666666666666666,\"rgb(206, 102, 147)\"],[0.8333333333333334,\"rgb(160, 89, 160)\"],[1.0,\"rgb(92, 83, 165)\"]]},\"mode\":\"lines\",\"name\":\"sunset\",\"x\":[77,78],\"y\":[1,1],\"type\":\"scatter\"},{\"line\":{\"width\":20},\"marker\":{\"colorscale\":[[0.0,\"rgb(252, 222, 156)\"],[0.16666666666666666,\"rgb(250, 164, 118)\"],[0.3333333333333333,\"rgb(240, 116, 110)\"],[0.5,\"rgb(227, 79, 111)\"],[0.6666666666666666,\"rgb(220, 57, 119)\"],[0.8333333333333334,\"rgb(185, 37, 122)\"],[1.0,\"rgb(124, 29, 111)\"]]},\"mode\":\"lines\",\"name\":\"sunsetdark\",\"x\":[78,79],\"y\":[1,1],\"type\":\"scatter\"},{\"line\":{\"width\":20},\"marker\":{\"colorscale\":[[0.0,\"rgb(209, 238, 234)\"],[0.16666666666666666,\"rgb(168, 219, 217)\"],[0.3333333333333333,\"rgb(133, 196, 201)\"],[0.5,\"rgb(104, 171, 184)\"],[0.6666666666666666,\"rgb(79, 144, 166)\"],[0.8333333333333334,\"rgb(59, 115, 143)\"],[1.0,\"rgb(42, 86, 116)\"]]},\"mode\":\"lines\",\"name\":\"teal\",\"x\":[79,80],\"y\":[1,1],\"type\":\"scatter\"},{\"line\":{\"width\":20},\"marker\":{\"colorscale\":[[0.0,\"rgb(176, 242, 188)\"],[0.16666666666666666,\"rgb(137, 232, 172)\"],[0.3333333333333333,\"rgb(103, 219, 165)\"],[0.5,\"rgb(76, 200, 163)\"],[0.6666666666666666,\"rgb(56, 178, 163)\"],[0.8333333333333334,\"rgb(44, 152, 160)\"],[1.0,\"rgb(37, 125, 152)\"]]},\"mode\":\"lines\",\"name\":\"tealgrn\",\"x\":[80,81],\"y\":[1,1],\"type\":\"scatter\"},{\"line\":{\"width\":20},\"marker\":{\"colorscale\":[[0.0,\"rgb(0, 147, 146)\"],[0.16666666666666666,\"rgb(114, 170, 161)\"],[0.3333333333333333,\"rgb(177, 199, 179)\"],[0.5,\"rgb(241, 234, 200)\"],[0.6666666666666666,\"rgb(229, 185, 173)\"],[0.8333333333333334,\"rgb(217, 137, 148)\"],[1.0,\"rgb(208, 88, 126)\"]]},\"mode\":\"lines\",\"name\":\"tealrose\",\"x\":[81,82],\"y\":[1,1],\"type\":\"scatter\"},{\"line\":{\"width\":20},\"marker\":{\"colorscale\":[[0.0,\"rgb(254, 245, 244)\"],[0.09090909090909091,\"rgb(222, 224, 210)\"],[0.18181818181818182,\"rgb(189, 206, 181)\"],[0.2727272727272727,\"rgb(153, 189, 156)\"],[0.36363636363636365,\"rgb(110, 173, 138)\"],[0.45454545454545453,\"rgb(65, 157, 129)\"],[0.5454545454545454,\"rgb(25, 137, 125)\"],[0.6363636363636364,\"rgb(18, 116, 117)\"],[0.7272727272727273,\"rgb(25, 94, 106)\"],[0.8181818181818182,\"rgb(28, 72, 93)\"],[0.9090909090909091,\"rgb(25, 51, 80)\"],[1.0,\"rgb(20, 29, 67)\"]]},\"mode\":\"lines\",\"name\":\"tempo\",\"x\":[82,83],\"y\":[1,1],\"type\":\"scatter\"},{\"line\":{\"width\":20},\"marker\":{\"colorscale\":[[0.0,\"rgb(0, 147, 146)\"],[0.16666666666666666,\"rgb(57, 177, 133)\"],[0.3333333333333333,\"rgb(156, 203, 134)\"],[0.5,\"rgb(233, 226, 156)\"],[0.6666666666666666,\"rgb(238, 180, 121)\"],[0.8333333333333334,\"rgb(232, 132, 113)\"],[1.0,\"rgb(207, 89, 126)\"]]},\"mode\":\"lines\",\"name\":\"temps\",\"x\":[83,84],\"y\":[1,1],\"type\":\"scatter\"},{\"line\":{\"width\":20},\"marker\":{\"colorscale\":[[0.0,\"rgb(3, 35, 51)\"],[0.09090909090909091,\"rgb(13, 48, 100)\"],[0.18181818181818182,\"rgb(53, 50, 155)\"],[0.2727272727272727,\"rgb(93, 62, 153)\"],[0.36363636363636365,\"rgb(126, 77, 143)\"],[0.45454545454545453,\"rgb(158, 89, 135)\"],[0.5454545454545454,\"rgb(193, 100, 121)\"],[0.6363636363636364,\"rgb(225, 113, 97)\"],[0.7272727272727273,\"rgb(246, 139, 69)\"],[0.8181818181818182,\"rgb(251, 173, 60)\"],[0.9090909090909091,\"rgb(246, 211, 70)\"],[1.0,\"rgb(231, 250, 90)\"]]},\"mode\":\"lines\",\"name\":\"thermal\",\"x\":[84,85],\"y\":[1,1],\"type\":\"scatter\"},{\"line\":{\"width\":20},\"marker\":{\"colorscale\":[[0.0,\"rgb(0, 155, 158)\"],[0.16666666666666666,\"rgb(66, 183, 185)\"],[0.3333333333333333,\"rgb(167, 211, 212)\"],[0.5,\"rgb(241, 241, 241)\"],[0.6666666666666666,\"rgb(228, 193, 217)\"],[0.8333333333333334,\"rgb(214, 145, 193)\"],[1.0,\"rgb(199, 93, 171)\"]]},\"mode\":\"lines\",\"name\":\"tropic\",\"x\":[85,86],\"y\":[1,1],\"type\":\"scatter\"},{\"line\":{\"width\":20},\"marker\":{\"colorscale\":[[0.0,\"rgb(232, 245, 171)\"],[0.09090909090909091,\"rgb(220, 219, 137)\"],[0.18181818181818182,\"rgb(209, 193, 107)\"],[0.2727272727272727,\"rgb(199, 168, 83)\"],[0.36363636363636365,\"rgb(186, 143, 66)\"],[0.45454545454545453,\"rgb(170, 121, 60)\"],[0.5454545454545454,\"rgb(151, 103, 58)\"],[0.6363636363636364,\"rgb(129, 87, 56)\"],[0.7272727272727273,\"rgb(104, 72, 53)\"],[0.8181818181818182,\"rgb(80, 59, 46)\"],[0.9090909090909091,\"rgb(57, 45, 37)\"],[1.0,\"rgb(34, 30, 27)\"]]},\"mode\":\"lines\",\"name\":\"turbid\",\"x\":[86,87],\"y\":[1,1],\"type\":\"scatter\"},{\"line\":{\"width\":20},\"marker\":{\"colorscale\":[[0.0,\"#30123b\"],[0.07142857142857142,\"#4145ab\"],[0.14285714285714285,\"#4675ed\"],[0.21428571428571427,\"#39a2fc\"],[0.2857142857142857,\"#1bcfd4\"],[0.35714285714285715,\"#24eca6\"],[0.42857142857142855,\"#61fc6c\"],[0.5,\"#a4fc3b\"],[0.5714285714285714,\"#d1e834\"],[0.6428571428571429,\"#f3c63a\"],[0.7142857142857143,\"#fe9b2d\"],[0.7857142857142857,\"#f36315\"],[0.8571428571428571,\"#d93806\"],[0.9285714285714286,\"#b11901\"],[1.0,\"#7a0402\"]]},\"mode\":\"lines\",\"name\":\"turbo\",\"x\":[87,88],\"y\":[1,1],\"type\":\"scatter\"},{\"line\":{\"width\":20},\"marker\":{\"colorscale\":[[0.0,\"#e2d9e2\"],[0.1111111111111111,\"#9ebbc9\"],[0.2222222222222222,\"#6785be\"],[0.3333333333333333,\"#5e43a5\"],[0.4444444444444444,\"#421257\"],[0.5555555555555556,\"#471340\"],[0.6666666666666666,\"#8e2c50\"],[0.7777777777777778,\"#ba6657\"],[0.8888888888888888,\"#ceac94\"],[1.0,\"#e2d9e2\"]]},\"mode\":\"lines\",\"name\":\"twilight\",\"x\":[88,89],\"y\":[1,1],\"type\":\"scatter\"},{\"line\":{\"width\":20},\"marker\":{\"colorscale\":[[0.0,\"#440154\"],[0.1111111111111111,\"#482878\"],[0.2222222222222222,\"#3e4989\"],[0.3333333333333333,\"#31688e\"],[0.4444444444444444,\"#26828e\"],[0.5555555555555556,\"#1f9e89\"],[0.6666666666666666,\"#35b779\"],[0.7777777777777778,\"#6ece58\"],[0.8888888888888888,\"#b5de2b\"],[1.0,\"#fde725\"]]},\"mode\":\"lines\",\"name\":\"viridis\",\"x\":[89,90],\"y\":[1,1],\"type\":\"scatter\"},{\"line\":{\"width\":20},\"marker\":{\"colorscale\":[[0.0,\"rgb(255,255,229)\"],[0.125,\"rgb(247,252,185)\"],[0.25,\"rgb(217,240,163)\"],[0.375,\"rgb(173,221,142)\"],[0.5,\"rgb(120,198,121)\"],[0.625,\"rgb(65,171,93)\"],[0.75,\"rgb(35,132,67)\"],[0.875,\"rgb(0,104,55)\"],[1.0,\"rgb(0,69,41)\"]]},\"mode\":\"lines\",\"name\":\"ylgn\",\"x\":[90,91],\"y\":[1,1],\"type\":\"scatter\"},{\"line\":{\"width\":20},\"marker\":{\"colorscale\":[[0.0,\"rgb(255,255,217)\"],[0.125,\"rgb(237,248,177)\"],[0.25,\"rgb(199,233,180)\"],[0.375,\"rgb(127,205,187)\"],[0.5,\"rgb(65,182,196)\"],[0.625,\"rgb(29,145,192)\"],[0.75,\"rgb(34,94,168)\"],[0.875,\"rgb(37,52,148)\"],[1.0,\"rgb(8,29,88)\"]]},\"mode\":\"lines\",\"name\":\"ylgnbu\",\"x\":[91,92],\"y\":[1,1],\"type\":\"scatter\"},{\"line\":{\"width\":20},\"marker\":{\"colorscale\":[[0.0,\"rgb(255,255,229)\"],[0.125,\"rgb(255,247,188)\"],[0.25,\"rgb(254,227,145)\"],[0.375,\"rgb(254,196,79)\"],[0.5,\"rgb(254,153,41)\"],[0.625,\"rgb(236,112,20)\"],[0.75,\"rgb(204,76,2)\"],[0.875,\"rgb(153,52,4)\"],[1.0,\"rgb(102,37,6)\"]]},\"mode\":\"lines\",\"name\":\"ylorbr\",\"x\":[92,93],\"y\":[1,1],\"type\":\"scatter\"},{\"line\":{\"width\":20},\"marker\":{\"colorscale\":[[0.0,\"rgb(255,255,204)\"],[0.125,\"rgb(255,237,160)\"],[0.25,\"rgb(254,217,118)\"],[0.375,\"rgb(254,178,76)\"],[0.5,\"rgb(253,141,60)\"],[0.625,\"rgb(252,78,42)\"],[0.75,\"rgb(227,26,28)\"],[0.875,\"rgb(189,0,38)\"],[1.0,\"rgb(128,0,38)\"]]},\"mode\":\"lines\",\"name\":\"ylorrd\",\"x\":[93,94],\"y\":[1,1],\"type\":\"scatter\"}],                        {\"template\":{\"data\":{\"candlestick\":[{\"decreasing\":{\"line\":{\"color\":\"#000033\"}},\"increasing\":{\"line\":{\"color\":\"#000032\"}},\"type\":\"candlestick\"}],\"contourcarpet\":[{\"colorscale\":[[0.0,\"#000011\"],[0.1111111111111111,\"#000012\"],[0.2222222222222222,\"#000013\"],[0.3333333333333333,\"#000014\"],[0.4444444444444444,\"#000015\"],[0.5555555555555556,\"#000016\"],[0.6666666666666666,\"#000017\"],[0.7777777777777778,\"#000018\"],[0.8888888888888888,\"#000019\"],[1.0,\"#000020\"]],\"type\":\"contourcarpet\"}],\"contour\":[{\"colorscale\":[[0.0,\"#000011\"],[0.1111111111111111,\"#000012\"],[0.2222222222222222,\"#000013\"],[0.3333333333333333,\"#000014\"],[0.4444444444444444,\"#000015\"],[0.5555555555555556,\"#000016\"],[0.6666666666666666,\"#000017\"],[0.7777777777777778,\"#000018\"],[0.8888888888888888,\"#000019\"],[1.0,\"#000020\"]],\"type\":\"contour\"}],\"heatmap\":[{\"colorscale\":[[0.0,\"#000011\"],[0.1111111111111111,\"#000012\"],[0.2222222222222222,\"#000013\"],[0.3333333333333333,\"#000014\"],[0.4444444444444444,\"#000015\"],[0.5555555555555556,\"#000016\"],[0.6666666666666666,\"#000017\"],[0.7777777777777778,\"#000018\"],[0.8888888888888888,\"#000019\"],[1.0,\"#000020\"]],\"type\":\"heatmap\"}],\"histogram2d\":[{\"colorscale\":[[0.0,\"#000011\"],[0.1111111111111111,\"#000012\"],[0.2222222222222222,\"#000013\"],[0.3333333333333333,\"#000014\"],[0.4444444444444444,\"#000015\"],[0.5555555555555556,\"#000016\"],[0.6666666666666666,\"#000017\"],[0.7777777777777778,\"#000018\"],[0.8888888888888888,\"#000019\"],[1.0,\"#000020\"]],\"type\":\"histogram2d\"}],\"icicle\":[{\"textfont\":{\"color\":\"white\"},\"type\":\"icicle\"}],\"sankey\":[{\"textfont\":{\"color\":\"#000036\"},\"type\":\"sankey\"}],\"scatter\":[{\"marker\":{\"line\":{\"width\":0}},\"type\":\"scatter\"}],\"table\":[{\"cells\":{\"fill\":{\"color\":\"#000038\"},\"font\":{\"color\":\"#000037\"},\"line\":{\"color\":\"#000039\"}},\"header\":{\"fill\":{\"color\":\"#000040\"},\"font\":{\"color\":\"#000036\"},\"line\":{\"color\":\"#000039\"}},\"type\":\"table\"}],\"waterfall\":[{\"connector\":{\"line\":{\"color\":\"#000036\",\"width\":2}},\"decreasing\":{\"marker\":{\"color\":\"#000033\"}},\"increasing\":{\"marker\":{\"color\":\"#000032\"}},\"totals\":{\"marker\":{\"color\":\"#000034\"}},\"type\":\"waterfall\"}]},\"layout\":{\"coloraxis\":{\"colorscale\":[[0.0,\"#000011\"],[0.1111111111111111,\"#000012\"],[0.2222222222222222,\"#000013\"],[0.3333333333333333,\"#000014\"],[0.4444444444444444,\"#000015\"],[0.5555555555555556,\"#000016\"],[0.6666666666666666,\"#000017\"],[0.7777777777777778,\"#000018\"],[0.8888888888888888,\"#000019\"],[1.0,\"#000020\"]]},\"colorscale\":{\"diverging\":[[0.0,\"#000021\"],[0.1,\"#000022\"],[0.2,\"#000023\"],[0.3,\"#000024\"],[0.4,\"#000025\"],[0.5,\"#000026\"],[0.6,\"#000027\"],[0.7,\"#000028\"],[0.8,\"#000029\"],[0.9,\"#000030\"],[1.0,\"#000031\"]],\"sequential\":[[0.0,\"#000011\"],[0.1111111111111111,\"#000012\"],[0.2222222222222222,\"#000013\"],[0.3333333333333333,\"#000014\"],[0.4444444444444444,\"#000015\"],[0.5555555555555556,\"#000016\"],[0.6666666666666666,\"#000017\"],[0.7777777777777778,\"#000018\"],[0.8888888888888888,\"#000019\"],[1.0,\"#000020\"]],\"sequentialminus\":[[0.0,\"#000011\"],[0.1111111111111111,\"#000012\"],[0.2222222222222222,\"#000013\"],[0.3333333333333333,\"#000014\"],[0.4444444444444444,\"#000015\"],[0.5555555555555556,\"#000016\"],[0.6666666666666666,\"#000017\"],[0.7777777777777778,\"#000018\"],[0.8888888888888888,\"#000019\"],[1.0,\"#000020\"]]},\"colorway\":[\"#000001\",\"#000002\",\"#000003\",\"#000004\",\"#000005\",\"#000006\",\"#000007\",\"#000008\",\"#000009\",\"#000010\"]}},\"xaxis\":{\"showticklabels\":false},\"yaxis\":{\"showticklabels\":false,\"range\":[0.5,1.5]},\"title\":{\"text\":\"Plotly Color Scales\"}},                        {\"responsive\": true}                    ).then(function(){\n",
       "                            \n",
       "var gd = document.getElementById('eeda2531-5630-4b3d-b02a-106a0f51c210');\n",
       "var x = new MutationObserver(function (mutations, observer) {{\n",
       "        var display = window.getComputedStyle(gd).display;\n",
       "        if (!display || display === 'none') {{\n",
       "            console.log([gd, 'removed!']);\n",
       "            Plotly.purge(gd);\n",
       "            observer.disconnect();\n",
       "        }}\n",
       "}});\n",
       "\n",
       "// Listen for the removal of the full notebook cells\n",
       "var notebookContainer = gd.closest('#notebook-container');\n",
       "if (notebookContainer) {{\n",
       "    x.observe(notebookContainer, {childList: true});\n",
       "}}\n",
       "\n",
       "// Listen for the clearing of the current output cell\n",
       "var outputEl = gd.closest('.output');\n",
       "if (outputEl) {{\n",
       "    x.observe(outputEl, {childList: true});\n",
       "}}\n",
       "\n",
       "                        })                };                });            </script>        </div>"
      ]
     },
     "metadata": {},
     "output_type": "display_data"
    }
   ],
   "source": [
    "import plotly.graph_objects as go\n",
    "\n",
    "# 创建一个颜色方案示例图表\n",
    "def plot_color_scales(color_scales):\n",
    "    fig = go.Figure()\n",
    "    for i, scale in enumerate(color_scales):\n",
    "        fig.add_trace(go.Scatter(\n",
    "            x=[i, i + 1], y=[1, 1],\n",
    "            mode='lines',\n",
    "            line=dict(width=20),\n",
    "            name=scale,\n",
    "            marker=dict(colorscale=scale)  # 使用颜色方案\n",
    "        ))\n",
    "    fig.update_layout(title='Plotly Color Scales',\n",
    "                      xaxis=dict(showticklabels=False),\n",
    "                      yaxis=dict(showticklabels=False, range=[0.5, 1.5]))\n",
    "    return fig\n",
    "\n",
    "# 列出一些 Plotly 颜色方案\n",
    "color_scales = ['aggrnyl', 'agsunset', 'algae', 'amp', 'armyrose', 'balance',\n",
    "                'blackbody', 'bluered', 'blues', 'blugrn', 'bluyl', 'brbg',\n",
    "                'brwnyl', 'bugn', 'bupu', 'burg', 'burgyl', 'cividis', 'curl',\n",
    "                'darkmint', 'deep', 'delta', 'dense', 'earth', 'edge', 'electric',\n",
    "                'emrld', 'fall', 'geyser', 'gnbu', 'gray', 'greens', 'greys',\n",
    "                'haline', 'hot', 'hsv', 'ice', 'icefire', 'inferno', 'jet',\n",
    "                'magenta', 'magma', 'matter', 'mint', 'mrybm', 'mygbm', 'oranges',\n",
    "                'orrd', 'oryel', 'oxy', 'peach', 'phase', 'picnic', 'pinkyl',\n",
    "                'piyg', 'plasma', 'plotly3', 'portland', 'prgn', 'pubu', 'pubugn',\n",
    "                'puor', 'purd', 'purp', 'purples', 'purpor', 'rainbow', 'rdbu',\n",
    "                'rdgy', 'rdpu', 'rdylbu', 'rdylgn', 'redor', 'reds', 'solar',\n",
    "                'spectral', 'speed', 'sunset', 'sunsetdark', 'teal', 'tealgrn',\n",
    "                'tealrose', 'tempo', 'temps', 'thermal', 'tropic', 'turbid',\n",
    "                'turbo', 'twilight', 'viridis', 'ylgn', 'ylgnbu', 'ylorbr',\n",
    "                'ylorrd']\n",
    "\n",
    "fig = plot_color_scales(color_scales)\n",
    "fig.show()\n"
   ]
  },
  {
   "cell_type": "code",
   "execution_count": null,
   "id": "94f1dd40",
   "metadata": {},
   "outputs": [],
   "source": [
    "\n",
    "state_locations = {\n",
    "    \"AL\": (32.806671, -86.791130),\n",
    "    \"AK\": (61.370716, -152.404419),\n",
    "    \"AZ\": (33.729759, -111.431221),\n",
    "    \"AR\": (34.969704, -92.373123),\n",
    "    \"CA\": (36.116203, -119.681564),\n",
    "    \"CO\": (39.059811, -105.311104),\n",
    "    \"CT\": (41.597782, -72.755371),\n",
    "    \"DE\": (39.318523, -75.507141),\n",
    "    \"FL\": (27.766279, -81.686783),\n",
    "    \"GA\": (33.040619, -83.643074),\n",
    "    \"HI\": (21.094318, -157.498337),\n",
    "    \"ID\": (44.240459, -114.478828),\n",
    "    \"IL\": (40.349457, -88.986137),\n",
    "    \"IN\": (39.849426, -86.258278),\n",
    "    \"IA\": (42.011539, -93.210526),\n",
    "    \"KS\": (38.526600, -96.726486),\n",
    "    \"KY\": (37.668140, -84.670067),\n",
    "    \"LA\": (31.169546, -91.867805),\n",
    "    \"ME\": (44.693947, -69.381927),\n",
    "    \"MD\": (39.063946, -76.802101),\n",
    "    \"MA\": (42.230171, -71.530106),\n",
    "    \"MI\": (43.326618, -84.536095),\n",
    "    \"MN\": (45.694454, -93.900192),\n",
    "    \"MS\": (32.741646, -89.678696),\n",
    "    \"MO\": (38.456085, -92.288368),\n",
    "    \"MT\": (46.921925, -110.454353),\n",
    "    \"NE\": (41.125370, -98.268082),\n",
    "    \"NV\": (38.313515, -117.055374),\n",
    "    \"NH\": (43.452492, -71.563896),\n",
    "    \"NJ\": (40.298904, -74.521011),\n",
    "    \"NM\": (34.840515, -106.248482),\n",
    "    \"NY\": (42.165726, -74.948051),\n",
    "    \"NC\": (35.630066, -79.806419),\n",
    "    \"ND\": (47.528912, -99.784012),\n",
    "    \"OH\": (40.388783, -82.764915),\n",
    "    \"OK\": (35.565342, -96.928917),\n",
    "    \"OR\": (44.572021, -122.070938),\n",
    "    \"PA\": (40.590752, -77.209755),\n",
    "    \"RI\": (41.680893, -71.511780),\n",
    "    \"SC\": (33.856892, -80.945007),\n",
    "    \"SD\": (44.299782, -99.438828),\n",
    "    \"TN\": (35.747845, -86.692345),\n",
    "    \"TX\": (31.054487, -97.563461),\n",
    "    \"UT\": (40.150032, -111.862434),\n",
    "    \"VT\": (44.045876, -72.710686),\n",
    "    \"VA\": (37.769337, -78.169968),\n",
    "    \"WA\": (47.400902, -121.490494),\n",
    "    \"WV\": (38.491226, -80.954570),\n",
    "    \"WI\": (44.268543, -89.616508),\n",
    "    \"WY\": (42.755966, -107.302490)\n",
    "}\n"
   ]
  },
  {
   "cell_type": "code",
   "execution_count": null,
   "id": "54069fc0",
   "metadata": {},
   "outputs": [],
   "source": []
  }
 ],
 "metadata": {
  "kernelspec": {
   "display_name": "Python 3 (ipykernel)",
   "language": "python",
   "name": "python3"
  },
  "language_info": {
   "codemirror_mode": {
    "name": "ipython",
    "version": 3
   },
   "file_extension": ".py",
   "mimetype": "text/x-python",
   "name": "python",
   "nbconvert_exporter": "python",
   "pygments_lexer": "ipython3",
   "version": "3.11.5"
  }
 },
 "nbformat": 4,
 "nbformat_minor": 5
}
